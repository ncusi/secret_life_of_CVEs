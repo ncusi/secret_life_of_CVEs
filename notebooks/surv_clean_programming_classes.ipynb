{
 "cells": [
  {
   "cell_type": "code",
   "execution_count": 1,
   "id": "d5088fde",
   "metadata": {},
   "outputs": [],
   "source": [
    "from IPython.core.interactiveshell import InteractiveShell\n",
    "InteractiveShell.ast_node_interactivity = \"all\"\n",
    "\n",
    "import pandas as pd\n",
    "import numpy as np\n",
    "from lifelines import CoxPHFitter\n",
    "from sksurv.metrics import concordance_index_censored\n",
    "import numpy as np\n",
    "import scipy.stats\n",
    "from functools import partial\n",
    "import numpy as np\n",
    "import scipy.stats\n",
    "import matplotlib.pyplot as plt\n",
    "import seaborn as sns\n",
    "\n",
    "%matplotlib inline\n",
    "import matplotlib.pyplot as plt\n",
    "from sksurv.nonparametric import kaplan_meier_estimator\n",
    "\n",
    "\n",
    "def mean_confidence_interval(data, confidence=0.95):\n",
    "    \"\"\" Calculate mean, lower and upper bound of confidence interval \"\"\"\n",
    "    a = 1.0 * np.array(data)\n",
    "    n = len(a)\n",
    "    m, se = np.mean(a), scipy.stats.sem(a)\n",
    "    h = se * scipy.stats.t.ppf((1 + confidence) / 2., n-1)\n",
    "    return m, m-h, m+h\n",
    "\n",
    "\n",
    "def Dxy(e,y,x):\n",
    "    \"\"\" Calculate Dxy \"\"\"\n",
    "    return 2 * concordance_index_censored(e, y, x)[0] - 1\n",
    "\n",
    "\n",
    "def bootstrap_dxy(df, n=5):\n",
    "    \"\"\" Boostrap and calculate Dxy \"\"\"\n",
    "    e, y, x = df.columns\n",
    "    #print(df.columns)\n",
    "    result = []\n",
    "\n",
    "    # resample n times\n",
    "    for i in range(n):\n",
    "        sample = df.sample(df.shape[0], replace=True)\n",
    "        #print(sample)\n",
    "        # calculate Dxy\n",
    "        result.append(Dxy(sample[e], sample[y], sample[x]))\n",
    "    return result\n",
    "\n",
    "def apply_stats_for_each_value(df, fmap, condition_names=None):\n",
    "    \"\"\" Apply stats to each value in column \"\"\"\n",
    "\n",
    "    all_count = df.shape[0]\n",
    "    \n",
    "    dff = pd.DataFrame({'E':df['E'], 'Y':df['Y'], 'agg':df.apply(fmap, axis=1)}).dropna()\n",
    "    selected_count = dff.shape[0]\n",
    "    \n",
    "    stats = dff['Y'].aggregate(['count', 'median'])\n",
    "    \n",
    "    dxy_bootstraped = bootstrap_dxy(dff[['E', 'Y', 'agg']])\n",
    "    # confidence interval\n",
    "    dxy, ci_low, ci_high =  mean_confidence_interval(dxy_bootstraped)\n",
    "    \n",
    "    ret = {\n",
    "        'Number of patiets' : stats['count'],\n",
    "        '% z całej kohorty': np.round(selected_count/all_count, 2),\n",
    "        'Survival days, median' : stats['median'],\n",
    "        'Survival years, median' : stats['median']/365 ,\n",
    "        'Dxy': np.round(dxy, 2), \n",
    "        'Confidence interval 95% low': np.round(ci_low, 2),\n",
    "        'Confidence interval 95% high': np.round(ci_high, 2),\n",
    "    }\n",
    "    result = pd.DataFrame(ret, index=(0,))\n",
    "\n",
    "    groups = dff.groupby(by=['agg'])['Y'].aggregate(['count', 'median', 'min', 'max', 'std','mean'])\n",
    "    \n",
    "    if condition_names:\n",
    "        groups.index = groups.index.map(condition_names)\n",
    "    #groups.columns = ['Number of patiets', 'Survival days, median', 'min', 'max', 'std']\n",
    "    \n",
    "    for value in dff[\"agg\"].unique():\n",
    "        mask = (dff[\"agg\"] == value)\n",
    "        time_cell, survival_prob_cell = kaplan_meier_estimator(dff[\"E\"][mask], dff[\"Y\"][mask])\n",
    "        plt.step(time_cell, survival_prob_cell, where=\"post\",\n",
    "                 label=\"%s (n = %d)\" % (condition_names[value], mask.sum()))\n",
    "\n",
    "    plt.ylabel(\"est. probability of survival $\\hat{S}(t)$\")\n",
    "    plt.xlabel(\"time $t$\")\n",
    "    plt.legend(loc=\"best\")\n",
    "    return result, groups"
   ]
  },
  {
   "cell_type": "code",
   "execution_count": 3,
   "id": "1dd5363c",
   "metadata": {},
   "outputs": [
    {
     "name": "stderr",
     "output_type": "stream",
     "text": [
      "/tmp/ipykernel_3435907/4054341816.py:6: SettingWithCopyWarning: \n",
      "A value is trying to be set on a copy of a slice from a DataFrame.\n",
      "Try using .loc[row_indexer,col_indexer] = value instead\n",
      "\n",
      "See the caveats in the documentation: https://pandas.pydata.org/pandas-docs/stable/user_guide/indexing.html#returning-a-view-versus-a-copy\n",
      "  commits_df['cve'] = commits_df['commit_cves']\n"
     ]
    }
   ],
   "source": [
    "unique_cve_info_cvss_cwe_etc_df_filename = '../data/unique_cve_info-cvss_cwe_etc.parquet'\n",
    "cve_lifespan_language_df_filename = '../data/cve_lifespan_language_df'\n",
    "unique_cve_info_cvss_cwe_etc_df = pd.read_parquet(unique_cve_info_cvss_cwe_etc_df_filename)\n",
    "cve_lifespan_language_df_df = pd.read_parquet(cve_lifespan_language_df_filename)\n",
    "commits_df = cve_lifespan_language_df_df.drop_duplicates()\n",
    "commits_df['cve'] = commits_df['commit_cves']\n",
    "df = commits_df.merge(unique_cve_info_cvss_cwe_etc_df.drop('error', axis='columns'), on='cve')"
   ]
  },
  {
   "cell_type": "code",
   "execution_count": 4,
   "id": "b74473b2",
   "metadata": {},
   "outputs": [],
   "source": [
    "df['E'] = True\n",
    "df['Y']=df['cve_lifespan_commiter_time'].dt.days"
   ]
  },
  {
   "cell_type": "code",
   "execution_count": 5,
   "id": "e7dc908b",
   "metadata": {},
   "outputs": [
    {
     "data": {
      "text/html": [
       "<div>\n",
       "<style scoped>\n",
       "    .dataframe tbody tr th:only-of-type {\n",
       "        vertical-align: middle;\n",
       "    }\n",
       "\n",
       "    .dataframe tbody tr th {\n",
       "        vertical-align: top;\n",
       "    }\n",
       "\n",
       "    .dataframe thead th {\n",
       "        text-align: right;\n",
       "    }\n",
       "</style>\n",
       "<table border=\"1\" class=\"dataframe\">\n",
       "  <thead>\n",
       "    <tr style=\"text-align: right;\">\n",
       "      <th></th>\n",
       "      <th>Number of patiets</th>\n",
       "      <th>% z całej kohorty</th>\n",
       "      <th>Survival days, median</th>\n",
       "      <th>Survival years, median</th>\n",
       "      <th>Dxy</th>\n",
       "      <th>Confidence interval 95% low</th>\n",
       "      <th>Confidence interval 95% high</th>\n",
       "    </tr>\n",
       "  </thead>\n",
       "  <tbody>\n",
       "    <tr>\n",
       "      <th>0</th>\n",
       "      <td>30000.0</td>\n",
       "      <td>1.0</td>\n",
       "      <td>892.0</td>\n",
       "      <td>2.443836</td>\n",
       "      <td>-0.06</td>\n",
       "      <td>-0.07</td>\n",
       "      <td>-0.06</td>\n",
       "    </tr>\n",
       "  </tbody>\n",
       "</table>\n",
       "</div>"
      ],
      "text/plain": [
       "   Number of patiets  % z całej kohorty  Survival days, median  \\\n",
       "0            30000.0                1.0                  892.0   \n",
       "\n",
       "   Survival years, median   Dxy  Confidence interval 95% low  \\\n",
       "0                2.443836 -0.06                        -0.07   \n",
       "\n",
       "   Confidence interval 95% high  \n",
       "0                         -0.06  "
      ]
     },
     "metadata": {},
     "output_type": "display_data"
    },
    {
     "data": {
      "text/html": [
       "<div>\n",
       "<style scoped>\n",
       "    .dataframe tbody tr th:only-of-type {\n",
       "        vertical-align: middle;\n",
       "    }\n",
       "\n",
       "    .dataframe tbody tr th {\n",
       "        vertical-align: top;\n",
       "    }\n",
       "\n",
       "    .dataframe thead th {\n",
       "        text-align: right;\n",
       "    }\n",
       "</style>\n",
       "<table border=\"1\" class=\"dataframe\">\n",
       "  <thead>\n",
       "    <tr style=\"text-align: right;\">\n",
       "      <th></th>\n",
       "      <th>count</th>\n",
       "      <th>median</th>\n",
       "      <th>min</th>\n",
       "      <th>max</th>\n",
       "      <th>std</th>\n",
       "      <th>mean</th>\n",
       "    </tr>\n",
       "    <tr>\n",
       "      <th>agg</th>\n",
       "      <th></th>\n",
       "      <th></th>\n",
       "      <th></th>\n",
       "      <th></th>\n",
       "      <th></th>\n",
       "      <th></th>\n",
       "    </tr>\n",
       "  </thead>\n",
       "  <tbody>\n",
       "    <tr>\n",
       "      <th>procedural</th>\n",
       "      <td>23347</td>\n",
       "      <td>811.0</td>\n",
       "      <td>0</td>\n",
       "      <td>6756</td>\n",
       "      <td>1089.767707</td>\n",
       "      <td>1084.256821</td>\n",
       "    </tr>\n",
       "    <tr>\n",
       "      <th>scripting</th>\n",
       "      <td>301</td>\n",
       "      <td>2048.0</td>\n",
       "      <td>0</td>\n",
       "      <td>4553</td>\n",
       "      <td>1118.465742</td>\n",
       "      <td>1843.867110</td>\n",
       "    </tr>\n",
       "    <tr>\n",
       "      <th>functional</th>\n",
       "      <td>6352</td>\n",
       "      <td>1134.0</td>\n",
       "      <td>0</td>\n",
       "      <td>6269</td>\n",
       "      <td>1013.932527</td>\n",
       "      <td>1318.512437</td>\n",
       "    </tr>\n",
       "  </tbody>\n",
       "</table>\n",
       "</div>"
      ],
      "text/plain": [
       "            count  median  min   max          std         mean\n",
       "agg                                                           \n",
       "procedural  23347   811.0    0  6756  1089.767707  1084.256821\n",
       "scripting     301  2048.0    0  4553  1118.465742  1843.867110\n",
       "functional   6352  1134.0    0  6269  1013.932527  1318.512437"
      ]
     },
     "metadata": {},
     "output_type": "display_data"
    },
    {
     "data": {
      "text/plain": [
       "(None, None)"
      ]
     },
     "execution_count": 5,
     "metadata": {},
     "output_type": "execute_result"
    },
    {
     "data": {
      "image/png": "[encoded data removed]",
      "text/plain": [
       "<Figure size 432x288 with 1 Axes>"
      ]
     },
     "metadata": {
      "needs_background": "light"
     },
     "output_type": "display_data"
    }
   ],
   "source": [
    "def f_map_pp(x):\n",
    "    a = int(x['programming_paradigm'])\n",
    "    if a ==1:\n",
    "        return 1\n",
    "    if a == 2:\n",
    "        return 2\n",
    "    if a == 3:\n",
    "        return 3\n",
    "    else:\n",
    "        return 0\n",
    "\n",
    "condition_names_pp = {1 : 'procedural', 2: 'scripting', 3:'functional', 0: 'other'}\n",
    "\n",
    "S1, S2 = apply_stats_for_each_value(df[:30000], f_map_pp, condition_names_pp)\n",
    "display(S1), display(S2)"
   ]
  },
  {
   "cell_type": "code",
   "execution_count": 6,
   "id": "1b2f3287",
   "metadata": {},
   "outputs": [
    {
     "data": {
      "text/html": [
       "<div>\n",
       "<style scoped>\n",
       "    .dataframe tbody tr th:only-of-type {\n",
       "        vertical-align: middle;\n",
       "    }\n",
       "\n",
       "    .dataframe tbody tr th {\n",
       "        vertical-align: top;\n",
       "    }\n",
       "\n",
       "    .dataframe thead th {\n",
       "        text-align: right;\n",
       "    }\n",
       "</style>\n",
       "<table border=\"1\" class=\"dataframe\">\n",
       "  <thead>\n",
       "    <tr style=\"text-align: right;\">\n",
       "      <th></th>\n",
       "      <th>Number of patiets</th>\n",
       "      <th>% z całej kohorty</th>\n",
       "      <th>Survival days, median</th>\n",
       "      <th>Survival years, median</th>\n",
       "      <th>Dxy</th>\n",
       "      <th>Confidence interval 95% low</th>\n",
       "      <th>Confidence interval 95% high</th>\n",
       "    </tr>\n",
       "  </thead>\n",
       "  <tbody>\n",
       "    <tr>\n",
       "      <th>0</th>\n",
       "      <td>30000.0</td>\n",
       "      <td>1.0</td>\n",
       "      <td>892.0</td>\n",
       "      <td>2.443836</td>\n",
       "      <td>-0.02</td>\n",
       "      <td>-0.03</td>\n",
       "      <td>-0.02</td>\n",
       "    </tr>\n",
       "  </tbody>\n",
       "</table>\n",
       "</div>"
      ],
      "text/plain": [
       "   Number of patiets  % z całej kohorty  Survival days, median  \\\n",
       "0            30000.0                1.0                  892.0   \n",
       "\n",
       "   Survival years, median   Dxy  Confidence interval 95% low  \\\n",
       "0                2.443836 -0.02                        -0.03   \n",
       "\n",
       "   Confidence interval 95% high  \n",
       "0                         -0.02  "
      ]
     },
     "metadata": {},
     "output_type": "display_data"
    },
    {
     "data": {
      "text/html": [
       "<div>\n",
       "<style scoped>\n",
       "    .dataframe tbody tr th:only-of-type {\n",
       "        vertical-align: middle;\n",
       "    }\n",
       "\n",
       "    .dataframe tbody tr th {\n",
       "        vertical-align: top;\n",
       "    }\n",
       "\n",
       "    .dataframe thead th {\n",
       "        text-align: right;\n",
       "    }\n",
       "</style>\n",
       "<table border=\"1\" class=\"dataframe\">\n",
       "  <thead>\n",
       "    <tr style=\"text-align: right;\">\n",
       "      <th></th>\n",
       "      <th>count</th>\n",
       "      <th>median</th>\n",
       "      <th>min</th>\n",
       "      <th>max</th>\n",
       "      <th>std</th>\n",
       "      <th>mean</th>\n",
       "    </tr>\n",
       "    <tr>\n",
       "      <th>agg</th>\n",
       "      <th></th>\n",
       "      <th></th>\n",
       "      <th></th>\n",
       "      <th></th>\n",
       "      <th></th>\n",
       "      <th></th>\n",
       "    </tr>\n",
       "  </thead>\n",
       "  <tbody>\n",
       "    <tr>\n",
       "      <th>static</th>\n",
       "      <td>13977</td>\n",
       "      <td>822.0</td>\n",
       "      <td>0</td>\n",
       "      <td>6756</td>\n",
       "      <td>1101.141601</td>\n",
       "      <td>1104.137369</td>\n",
       "    </tr>\n",
       "    <tr>\n",
       "      <th>dynamic</th>\n",
       "      <td>16023</td>\n",
       "      <td>961.0</td>\n",
       "      <td>0</td>\n",
       "      <td>6269</td>\n",
       "      <td>1062.035049</td>\n",
       "      <td>1174.050490</td>\n",
       "    </tr>\n",
       "  </tbody>\n",
       "</table>\n",
       "</div>"
      ],
      "text/plain": [
       "         count  median  min   max          std         mean\n",
       "agg                                                        \n",
       "static   13977   822.0    0  6756  1101.141601  1104.137369\n",
       "dynamic  16023   961.0    0  6269  1062.035049  1174.050490"
      ]
     },
     "metadata": {},
     "output_type": "display_data"
    },
    {
     "data": {
      "text/plain": [
       "(None, None)"
      ]
     },
     "execution_count": 6,
     "metadata": {},
     "output_type": "execute_result"
    },
    {
     "data": {
      "image/png": "[encoded data removed]",
      "text/plain": [
       "<Figure size 432x288 with 1 Axes>"
      ]
     },
     "metadata": {
      "needs_background": "light"
     },
     "output_type": "display_data"
    }
   ],
   "source": [
    "def f_map_cc(x):\n",
    "    a = int(x['compilation_class'])\n",
    "    if a ==1:\n",
    "        return 1\n",
    "    if a == 2:\n",
    "        return 2\n",
    "    else:\n",
    "        return 0\n",
    "\n",
    "condition_names_cc = {1 : 'static', 2: 'dynamic', 0: 'other'}\n",
    "\n",
    "S1, S2 = apply_stats_for_each_value(df[:30000], f_map_cc, condition_names_cc)\n",
    "display(S1), display(S2)"
   ]
  },
  {
   "cell_type": "code",
   "execution_count": 7,
   "id": "de252d2b",
   "metadata": {},
   "outputs": [
    {
     "data": {
      "text/html": [
       "<div>\n",
       "<style scoped>\n",
       "    .dataframe tbody tr th:only-of-type {\n",
       "        vertical-align: middle;\n",
       "    }\n",
       "\n",
       "    .dataframe tbody tr th {\n",
       "        vertical-align: top;\n",
       "    }\n",
       "\n",
       "    .dataframe thead th {\n",
       "        text-align: right;\n",
       "    }\n",
       "</style>\n",
       "<table border=\"1\" class=\"dataframe\">\n",
       "  <thead>\n",
       "    <tr style=\"text-align: right;\">\n",
       "      <th></th>\n",
       "      <th>Number of patiets</th>\n",
       "      <th>% z całej kohorty</th>\n",
       "      <th>Survival days, median</th>\n",
       "      <th>Survival years, median</th>\n",
       "      <th>Dxy</th>\n",
       "      <th>Confidence interval 95% low</th>\n",
       "      <th>Confidence interval 95% high</th>\n",
       "    </tr>\n",
       "  </thead>\n",
       "  <tbody>\n",
       "    <tr>\n",
       "      <th>0</th>\n",
       "      <td>30000.0</td>\n",
       "      <td>1.0</td>\n",
       "      <td>892.0</td>\n",
       "      <td>2.443836</td>\n",
       "      <td>0.03</td>\n",
       "      <td>0.03</td>\n",
       "      <td>0.03</td>\n",
       "    </tr>\n",
       "  </tbody>\n",
       "</table>\n",
       "</div>"
      ],
      "text/plain": [
       "   Number of patiets  % z całej kohorty  Survival days, median  \\\n",
       "0            30000.0                1.0                  892.0   \n",
       "\n",
       "   Survival years, median   Dxy  Confidence interval 95% low  \\\n",
       "0                2.443836  0.03                         0.03   \n",
       "\n",
       "   Confidence interval 95% high  \n",
       "0                          0.03  "
      ]
     },
     "metadata": {},
     "output_type": "display_data"
    },
    {
     "data": {
      "text/html": [
       "<div>\n",
       "<style scoped>\n",
       "    .dataframe tbody tr th:only-of-type {\n",
       "        vertical-align: middle;\n",
       "    }\n",
       "\n",
       "    .dataframe tbody tr th {\n",
       "        vertical-align: top;\n",
       "    }\n",
       "\n",
       "    .dataframe thead th {\n",
       "        text-align: right;\n",
       "    }\n",
       "</style>\n",
       "<table border=\"1\" class=\"dataframe\">\n",
       "  <thead>\n",
       "    <tr style=\"text-align: right;\">\n",
       "      <th></th>\n",
       "      <th>count</th>\n",
       "      <th>median</th>\n",
       "      <th>min</th>\n",
       "      <th>max</th>\n",
       "      <th>std</th>\n",
       "      <th>mean</th>\n",
       "    </tr>\n",
       "    <tr>\n",
       "      <th>agg</th>\n",
       "      <th></th>\n",
       "      <th></th>\n",
       "      <th></th>\n",
       "      <th></th>\n",
       "      <th></th>\n",
       "      <th></th>\n",
       "    </tr>\n",
       "  </thead>\n",
       "  <tbody>\n",
       "    <tr>\n",
       "      <th>strong</th>\n",
       "      <td>16386</td>\n",
       "      <td>961.0</td>\n",
       "      <td>0</td>\n",
       "      <td>6269</td>\n",
       "      <td>1030.072554</td>\n",
       "      <td>1158.471256</td>\n",
       "    </tr>\n",
       "    <tr>\n",
       "      <th>weak</th>\n",
       "      <td>13614</td>\n",
       "      <td>818.0</td>\n",
       "      <td>0</td>\n",
       "      <td>6756</td>\n",
       "      <td>1138.933037</td>\n",
       "      <td>1121.024607</td>\n",
       "    </tr>\n",
       "  </tbody>\n",
       "</table>\n",
       "</div>"
      ],
      "text/plain": [
       "        count  median  min   max          std         mean\n",
       "agg                                                       \n",
       "strong  16386   961.0    0  6269  1030.072554  1158.471256\n",
       "weak    13614   818.0    0  6756  1138.933037  1121.024607"
      ]
     },
     "metadata": {},
     "output_type": "display_data"
    },
    {
     "data": {
      "text/plain": [
       "(None, None)"
      ]
     },
     "execution_count": 7,
     "metadata": {},
     "output_type": "execute_result"
    },
    {
     "data": {
      "image/png": "[encoded data removed]",
      "text/plain": [
       "<Figure size 432x288 with 1 Axes>"
      ]
     },
     "metadata": {
      "needs_background": "light"
     },
     "output_type": "display_data"
    }
   ],
   "source": [
    "def f_map_tc(x):\n",
    "    a = int(x['type_class'])\n",
    "    if a ==1:\n",
    "        return 1\n",
    "    if a == 2:\n",
    "        return 2\n",
    "    else:\n",
    "        return 0\n",
    "\n",
    "condition_names_tc = {1 : 'strong', 2: 'weak', 0: 'other'}\n",
    "\n",
    "S1, S2 = apply_stats_for_each_value(df[:30000], f_map_tc, condition_names_tc)\n",
    "display(S1), display(S2)"
   ]
  },
  {
   "cell_type": "code",
   "execution_count": 8,
   "id": "085957c7",
   "metadata": {},
   "outputs": [
    {
     "data": {
      "text/html": [
       "<div>\n",
       "<style scoped>\n",
       "    .dataframe tbody tr th:only-of-type {\n",
       "        vertical-align: middle;\n",
       "    }\n",
       "\n",
       "    .dataframe tbody tr th {\n",
       "        vertical-align: top;\n",
       "    }\n",
       "\n",
       "    .dataframe thead th {\n",
       "        text-align: right;\n",
       "    }\n",
       "</style>\n",
       "<table border=\"1\" class=\"dataframe\">\n",
       "  <thead>\n",
       "    <tr style=\"text-align: right;\">\n",
       "      <th></th>\n",
       "      <th>Number of patiets</th>\n",
       "      <th>% z całej kohorty</th>\n",
       "      <th>Survival days, median</th>\n",
       "      <th>Survival years, median</th>\n",
       "      <th>Dxy</th>\n",
       "      <th>Confidence interval 95% low</th>\n",
       "      <th>Confidence interval 95% high</th>\n",
       "    </tr>\n",
       "  </thead>\n",
       "  <tbody>\n",
       "    <tr>\n",
       "      <th>0</th>\n",
       "      <td>30000.0</td>\n",
       "      <td>1.0</td>\n",
       "      <td>892.0</td>\n",
       "      <td>2.443836</td>\n",
       "      <td>0.05</td>\n",
       "      <td>0.04</td>\n",
       "      <td>0.05</td>\n",
       "    </tr>\n",
       "  </tbody>\n",
       "</table>\n",
       "</div>"
      ],
      "text/plain": [
       "   Number of patiets  % z całej kohorty  Survival days, median  \\\n",
       "0            30000.0                1.0                  892.0   \n",
       "\n",
       "   Survival years, median   Dxy  Confidence interval 95% low  \\\n",
       "0                2.443836  0.05                         0.04   \n",
       "\n",
       "   Confidence interval 95% high  \n",
       "0                          0.05  "
      ]
     },
     "metadata": {},
     "output_type": "display_data"
    },
    {
     "data": {
      "text/html": [
       "<div>\n",
       "<style scoped>\n",
       "    .dataframe tbody tr th:only-of-type {\n",
       "        vertical-align: middle;\n",
       "    }\n",
       "\n",
       "    .dataframe tbody tr th {\n",
       "        vertical-align: top;\n",
       "    }\n",
       "\n",
       "    .dataframe thead th {\n",
       "        text-align: right;\n",
       "    }\n",
       "</style>\n",
       "<table border=\"1\" class=\"dataframe\">\n",
       "  <thead>\n",
       "    <tr style=\"text-align: right;\">\n",
       "      <th></th>\n",
       "      <th>count</th>\n",
       "      <th>median</th>\n",
       "      <th>min</th>\n",
       "      <th>max</th>\n",
       "      <th>std</th>\n",
       "      <th>mean</th>\n",
       "    </tr>\n",
       "    <tr>\n",
       "      <th>agg</th>\n",
       "      <th></th>\n",
       "      <th></th>\n",
       "      <th></th>\n",
       "      <th></th>\n",
       "      <th></th>\n",
       "      <th></th>\n",
       "    </tr>\n",
       "  </thead>\n",
       "  <tbody>\n",
       "    <tr>\n",
       "      <th>managed</th>\n",
       "      <td>24569</td>\n",
       "      <td>956.0</td>\n",
       "      <td>0</td>\n",
       "      <td>6756</td>\n",
       "      <td>1070.345979</td>\n",
       "      <td>1174.959461</td>\n",
       "    </tr>\n",
       "    <tr>\n",
       "      <th>non managed</th>\n",
       "      <td>5431</td>\n",
       "      <td>532.0</td>\n",
       "      <td>0</td>\n",
       "      <td>6756</td>\n",
       "      <td>1115.423630</td>\n",
       "      <td>990.012889</td>\n",
       "    </tr>\n",
       "  </tbody>\n",
       "</table>\n",
       "</div>"
      ],
      "text/plain": [
       "             count  median  min   max          std         mean\n",
       "agg                                                            \n",
       "managed      24569   956.0    0  6756  1070.345979  1174.959461\n",
       "non managed   5431   532.0    0  6756  1115.423630   990.012889"
      ]
     },
     "metadata": {},
     "output_type": "display_data"
    },
    {
     "data": {
      "text/plain": [
       "(None, None)"
      ]
     },
     "execution_count": 8,
     "metadata": {},
     "output_type": "execute_result"
    },
    {
     "data": {
      "image/png": "[encoded data removed]",
      "text/plain": [
       "<Figure size 432x288 with 1 Axes>"
      ]
     },
     "metadata": {
      "needs_background": "light"
     },
     "output_type": "display_data"
    }
   ],
   "source": [
    "def f_map_mm(x):\n",
    "    a = int(x['memory_model'])\n",
    "    if a ==1:\n",
    "        return 1\n",
    "    if a == 2:\n",
    "        return 2\n",
    "    else:\n",
    "        return 0\n",
    "\n",
    "condition_names_mm = {1 : 'managed', 2: 'non managed', 0: 'other'}\n",
    "\n",
    "S1, S2 = apply_stats_for_each_value(df[:30000], f_map_mm, condition_names_mm)\n",
    "display(S1), display(S2)"
   ]
  }
 ],
 "metadata": {
  "kernelspec": {
   "display_name": "Python 3 (ipykernel)",
   "language": "python",
   "name": "python3"
  },
  "language_info": {
   "codemirror_mode": {
    "name": "ipython",
    "version": 3
   },
   "file_extension": ".py",
   "mimetype": "text/x-python",
   "name": "python",
   "nbconvert_exporter": "python",
   "pygments_lexer": "ipython3",
   "version": "3.10.5"
  }
 },
 "nbformat": 4,
 "nbformat_minor": 5
}

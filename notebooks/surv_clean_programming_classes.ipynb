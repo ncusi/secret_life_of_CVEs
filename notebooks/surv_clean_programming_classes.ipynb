{
 "cells": [
  {
   "cell_type": "code",
   "execution_count": 25,
   "id": "d5088fde",
   "metadata": {},
   "outputs": [],
   "source": [
    "from IPython.core.interactiveshell import InteractiveShell\n",
    "InteractiveShell.ast_node_interactivity = \"all\"\n",
    "\n",
    "\n",
    "from joblib import Parallel, delayed\n",
    "\n",
    "import pandas as pd\n",
    "import numpy as np\n",
    "from lifelines import CoxPHFitter\n",
    "from lifelines.utils import concordance_index\n",
    "from sksurv.metrics import concordance_index_censored\n",
    "import numpy as np\n",
    "import scipy.stats\n",
    "from functools import partial\n",
    "import numpy as np\n",
    "import scipy.stats\n",
    "import matplotlib.pyplot as plt\n",
    "import seaborn as sns\n",
    "\n",
    "%matplotlib inline\n",
    "import matplotlib.pyplot as plt\n",
    "from sksurv.nonparametric import kaplan_meier_estimator\n",
    "\n",
    "\n",
    "def mean_confidence_interval(data, confidence=0.95):\n",
    "    \"\"\" Calculate mean, lower and upper bound of confidence interval \"\"\"\n",
    "    a = 1.0 * np.array(data)\n",
    "    n = len(a)\n",
    "    m, se = np.mean(a), scipy.stats.sem(a)\n",
    "    h = se * scipy.stats.t.ppf((1 + confidence) / 2., n-1)\n",
    "    return m, m-h, m+h\n",
    "\n",
    "\n",
    "def Dxy(e,y,x):\n",
    "    \"\"\" Calculate Dxy \"\"\"\n",
    "    #return 2 * concordance_index_censored(e, y, x)[0] - 1\n",
    "    return 2 * concordance_index(y, x, e) - 1\n",
    "\n",
    "\n",
    "def bootstrap_dxy_inner(df):\n",
    "    e, y, x = df.columns\n",
    "    sample = df.sample(df.shape[0], replace=True)\n",
    "    \n",
    "    # calculate Dxy\n",
    "    return Dxy(sample[e], sample[y], sample[x])\n",
    "\n",
    "\n",
    "def bootstrap_dxy(df, n=5):\n",
    "    \"\"\" Boostrap and calculate Dxy \"\"\"\n",
    "    # resample n times\n",
    "    result = Parallel(n_jobs=-1)(delayed(bootstrap_dxy_inner)(df) for i in range(n))\n",
    "\n",
    "    return result\n",
    "\n",
    "def apply_stats_for_each_value(df, fmap, condition_names=None):\n",
    "    \"\"\" Apply stats to each value in column \"\"\"\n",
    "\n",
    "    all_count = df.shape[0]\n",
    "    \n",
    "    dff = pd.DataFrame({'E':df['E'], 'Y':df['Y'], 'agg':df.apply(fmap, axis=1)}).dropna()\n",
    "    selected_count = dff.shape[0]\n",
    "    \n",
    "    stats = dff['Y'].aggregate(['count', 'median'])\n",
    "    \n",
    "    dxy_bootstraped = bootstrap_dxy(dff[['E', 'Y', 'agg']])\n",
    "    # confidence interval\n",
    "    dxy, ci_low, ci_high =  mean_confidence_interval(dxy_bootstraped)\n",
    "    \n",
    "    ret = {\n",
    "        'Number of patiets' : stats['count'],\n",
    "        '% z całej kohorty': np.round(selected_count/all_count, 2),\n",
    "        'Survival days, median' : stats['median'],\n",
    "        'Survival years, median' : stats['median']/365 ,\n",
    "        'Dxy': np.round(dxy, 2), \n",
    "        'Confidence interval 95% low': np.round(ci_low, 2),\n",
    "        'Confidence interval 95% high': np.round(ci_high, 2),\n",
    "    }\n",
    "    result = pd.DataFrame(ret, index=(0,))\n",
    "\n",
    "    groups = dff.groupby(by=['agg'])['Y'].aggregate(['count', 'median', 'min', 'max', 'std','mean'])\n",
    "    \n",
    "    if condition_names:\n",
    "        groups.index = groups.index.map(condition_names)\n",
    "    #groups.columns = ['Number of patiets', 'Survival days, median', 'min', 'max', 'std']\n",
    "    \n",
    "    for value in dff[\"agg\"].unique():\n",
    "        mask = (dff[\"agg\"] == value)\n",
    "        time_cell, survival_prob_cell = kaplan_meier_estimator(dff[\"E\"][mask], dff[\"Y\"][mask])\n",
    "        plt.step(time_cell, survival_prob_cell, where=\"post\",\n",
    "                 label=\"%s (n = %d)\" % (condition_names[value], mask.sum()))\n",
    "\n",
    "    plt.ylabel(\"est. probability of survival $\\hat{S}(t)$\")\n",
    "    plt.xlabel(\"time $t$\")\n",
    "    plt.legend(loc=\"best\")\n",
    "    return result, groups"
   ]
  },
  {
   "cell_type": "code",
   "execution_count": 26,
   "id": "0938f176",
   "metadata": {},
   "outputs": [],
   "source": [
    "DATA_PREFIX=\"~/secret_life_of_CVEs/data/\""
   ]
  },
  {
   "cell_type": "code",
   "execution_count": 27,
   "id": "1dd5363c",
   "metadata": {},
   "outputs": [
    {
     "name": "stderr",
     "output_type": "stream",
     "text": [
      "/tmp/ipykernel_3436990/572894398.py:6: SettingWithCopyWarning: \n",
      "A value is trying to be set on a copy of a slice from a DataFrame.\n",
      "Try using .loc[row_indexer,col_indexer] = value instead\n",
      "\n",
      "See the caveats in the documentation: https://pandas.pydata.org/pandas-docs/stable/user_guide/indexing.html#returning-a-view-versus-a-copy\n",
      "  commits_df['cve'] = commits_df['commit_cves']\n"
     ]
    }
   ],
   "source": [
    "unique_cve_info_cvss_cwe_etc_df_filename = DATA_PREFIX + 'unique_cve_info-cvss_cwe_etc.parquet'\n",
    "cve_lifespan_language_df_filename = DATA_PREFIX + 'cve_lifespan_language_df'\n",
    "unique_cve_info_cvss_cwe_etc_df = pd.read_parquet(unique_cve_info_cvss_cwe_etc_df_filename)\n",
    "cve_lifespan_language_df_df = pd.read_parquet(cve_lifespan_language_df_filename)\n",
    "commits_df = cve_lifespan_language_df_df.drop_duplicates()\n",
    "commits_df['cve'] = commits_df['commit_cves']\n",
    "df = commits_df.merge(unique_cve_info_cvss_cwe_etc_df.drop('error', axis='columns'), on='cve')"
   ]
  },
  {
   "cell_type": "code",
   "execution_count": 28,
   "id": "b74473b2",
   "metadata": {},
   "outputs": [],
   "source": [
    "df['E'] = True\n",
    "df['Y']=df['cve_lifespan_commiter_time'].dt.days"
   ]
  },
  {
   "cell_type": "code",
   "execution_count": 30,
   "id": "e7dc908b",
   "metadata": {},
   "outputs": [
    {
     "data": {
      "text/html": [
       "<div>\n",
       "<style scoped>\n",
       "    .dataframe tbody tr th:only-of-type {\n",
       "        vertical-align: middle;\n",
       "    }\n",
       "\n",
       "    .dataframe tbody tr th {\n",
       "        vertical-align: top;\n",
       "    }\n",
       "\n",
       "    .dataframe thead th {\n",
       "        text-align: right;\n",
       "    }\n",
       "</style>\n",
       "<table border=\"1\" class=\"dataframe\">\n",
       "  <thead>\n",
       "    <tr style=\"text-align: right;\">\n",
       "      <th></th>\n",
       "      <th>Number of patiets</th>\n",
       "      <th>% z całej kohorty</th>\n",
       "      <th>Survival days, median</th>\n",
       "      <th>Survival years, median</th>\n",
       "      <th>Dxy</th>\n",
       "      <th>Confidence interval 95% low</th>\n",
       "      <th>Confidence interval 95% high</th>\n",
       "    </tr>\n",
       "  </thead>\n",
       "  <tbody>\n",
       "    <tr>\n",
       "      <th>0</th>\n",
       "      <td>286496.0</td>\n",
       "      <td>1.0</td>\n",
       "      <td>354.0</td>\n",
       "      <td>0.969863</td>\n",
       "      <td>0.05</td>\n",
       "      <td>0.05</td>\n",
       "      <td>0.06</td>\n",
       "    </tr>\n",
       "  </tbody>\n",
       "</table>\n",
       "</div>"
      ],
      "text/plain": [
       "   Number of patiets  % z całej kohorty  Survival days, median  \\\n",
       "0           286496.0                1.0                  354.0   \n",
       "\n",
       "   Survival years, median   Dxy  Confidence interval 95% low  \\\n",
       "0                0.969863  0.05                         0.05   \n",
       "\n",
       "   Confidence interval 95% high  \n",
       "0                          0.06  "
      ]
     },
     "metadata": {},
     "output_type": "display_data"
    },
    {
     "data": {
      "text/html": [
       "<div>\n",
       "<style scoped>\n",
       "    .dataframe tbody tr th:only-of-type {\n",
       "        vertical-align: middle;\n",
       "    }\n",
       "\n",
       "    .dataframe tbody tr th {\n",
       "        vertical-align: top;\n",
       "    }\n",
       "\n",
       "    .dataframe thead th {\n",
       "        text-align: right;\n",
       "    }\n",
       "</style>\n",
       "<table border=\"1\" class=\"dataframe\">\n",
       "  <thead>\n",
       "    <tr style=\"text-align: right;\">\n",
       "      <th></th>\n",
       "      <th>count</th>\n",
       "      <th>median</th>\n",
       "      <th>min</th>\n",
       "      <th>max</th>\n",
       "      <th>std</th>\n",
       "      <th>mean</th>\n",
       "    </tr>\n",
       "    <tr>\n",
       "      <th>agg</th>\n",
       "      <th></th>\n",
       "      <th></th>\n",
       "      <th></th>\n",
       "      <th></th>\n",
       "      <th></th>\n",
       "      <th></th>\n",
       "    </tr>\n",
       "  </thead>\n",
       "  <tbody>\n",
       "    <tr>\n",
       "      <th>procedural</th>\n",
       "      <td>243415</td>\n",
       "      <td>310.0</td>\n",
       "      <td>0</td>\n",
       "      <td>8019</td>\n",
       "      <td>1081.333218</td>\n",
       "      <td>758.433786</td>\n",
       "    </tr>\n",
       "    <tr>\n",
       "      <th>scripting</th>\n",
       "      <td>4172</td>\n",
       "      <td>870.0</td>\n",
       "      <td>0</td>\n",
       "      <td>5465</td>\n",
       "      <td>925.984887</td>\n",
       "      <td>1033.479626</td>\n",
       "    </tr>\n",
       "    <tr>\n",
       "      <th>functional</th>\n",
       "      <td>38909</td>\n",
       "      <td>639.0</td>\n",
       "      <td>0</td>\n",
       "      <td>7538</td>\n",
       "      <td>1066.987307</td>\n",
       "      <td>1000.239405</td>\n",
       "    </tr>\n",
       "  </tbody>\n",
       "</table>\n",
       "</div>"
      ],
      "text/plain": [
       "             count  median  min   max          std         mean\n",
       "agg                                                            \n",
       "procedural  243415   310.0    0  8019  1081.333218   758.433786\n",
       "scripting     4172   870.0    0  5465   925.984887  1033.479626\n",
       "functional   38909   639.0    0  7538  1066.987307  1000.239405"
      ]
     },
     "metadata": {},
     "output_type": "display_data"
    },
    {
     "data": {
      "text/plain": [
       "(None, None)"
      ]
     },
     "execution_count": 30,
     "metadata": {},
     "output_type": "execute_result"
    },
    {
     "data": {
      "image/png": "[encoded data removed]",
      "text/plain": [
       "<Figure size 432x288 with 1 Axes>"
      ]
     },
     "metadata": {
      "needs_background": "light"
     },
     "output_type": "display_data"
    }
   ],
   "source": [
    "def f_map_pp(x):\n",
    "    a = int(x['programming_paradigm'])\n",
    "    if a ==1:\n",
    "        return 1\n",
    "    if a == 2:\n",
    "        return 2\n",
    "    if a == 3:\n",
    "        return 3\n",
    "    else:\n",
    "        return 0\n",
    "\n",
    "condition_names_pp = {1 : 'procedural', 2: 'scripting', 3:'functional', 0: 'other'}\n",
    "\n",
    "S1, S2 = apply_stats_for_each_value(df, f_map_pp, condition_names_pp)\n",
    "display(S1), display(S2)"
   ]
  },
  {
   "cell_type": "code",
   "execution_count": 31,
   "id": "1b2f3287",
   "metadata": {},
   "outputs": [
    {
     "data": {
      "text/html": [
       "<div>\n",
       "<style scoped>\n",
       "    .dataframe tbody tr th:only-of-type {\n",
       "        vertical-align: middle;\n",
       "    }\n",
       "\n",
       "    .dataframe tbody tr th {\n",
       "        vertical-align: top;\n",
       "    }\n",
       "\n",
       "    .dataframe thead th {\n",
       "        text-align: right;\n",
       "    }\n",
       "</style>\n",
       "<table border=\"1\" class=\"dataframe\">\n",
       "  <thead>\n",
       "    <tr style=\"text-align: right;\">\n",
       "      <th></th>\n",
       "      <th>Number of patiets</th>\n",
       "      <th>% z całej kohorty</th>\n",
       "      <th>Survival days, median</th>\n",
       "      <th>Survival years, median</th>\n",
       "      <th>Dxy</th>\n",
       "      <th>Confidence interval 95% low</th>\n",
       "      <th>Confidence interval 95% high</th>\n",
       "    </tr>\n",
       "  </thead>\n",
       "  <tbody>\n",
       "    <tr>\n",
       "      <th>0</th>\n",
       "      <td>286496.0</td>\n",
       "      <td>1.0</td>\n",
       "      <td>354.0</td>\n",
       "      <td>0.969863</td>\n",
       "      <td>-0.02</td>\n",
       "      <td>-0.02</td>\n",
       "      <td>-0.02</td>\n",
       "    </tr>\n",
       "  </tbody>\n",
       "</table>\n",
       "</div>"
      ],
      "text/plain": [
       "   Number of patiets  % z całej kohorty  Survival days, median  \\\n",
       "0           286496.0                1.0                  354.0   \n",
       "\n",
       "   Survival years, median   Dxy  Confidence interval 95% low  \\\n",
       "0                0.969863 -0.02                        -0.02   \n",
       "\n",
       "   Confidence interval 95% high  \n",
       "0                         -0.02  "
      ]
     },
     "metadata": {},
     "output_type": "display_data"
    },
    {
     "data": {
      "text/html": [
       "<div>\n",
       "<style scoped>\n",
       "    .dataframe tbody tr th:only-of-type {\n",
       "        vertical-align: middle;\n",
       "    }\n",
       "\n",
       "    .dataframe tbody tr th {\n",
       "        vertical-align: top;\n",
       "    }\n",
       "\n",
       "    .dataframe thead th {\n",
       "        text-align: right;\n",
       "    }\n",
       "</style>\n",
       "<table border=\"1\" class=\"dataframe\">\n",
       "  <thead>\n",
       "    <tr style=\"text-align: right;\">\n",
       "      <th></th>\n",
       "      <th>count</th>\n",
       "      <th>median</th>\n",
       "      <th>min</th>\n",
       "      <th>max</th>\n",
       "      <th>std</th>\n",
       "      <th>mean</th>\n",
       "    </tr>\n",
       "    <tr>\n",
       "      <th>agg</th>\n",
       "      <th></th>\n",
       "      <th></th>\n",
       "      <th></th>\n",
       "      <th></th>\n",
       "      <th></th>\n",
       "      <th></th>\n",
       "    </tr>\n",
       "  </thead>\n",
       "  <tbody>\n",
       "    <tr>\n",
       "      <th>static</th>\n",
       "      <td>136291</td>\n",
       "      <td>370.0</td>\n",
       "      <td>0</td>\n",
       "      <td>8019</td>\n",
       "      <td>1188.866172</td>\n",
       "      <td>852.111401</td>\n",
       "    </tr>\n",
       "    <tr>\n",
       "      <th>dynamic</th>\n",
       "      <td>150205</td>\n",
       "      <td>321.0</td>\n",
       "      <td>0</td>\n",
       "      <td>8019</td>\n",
       "      <td>969.634849</td>\n",
       "      <td>743.710509</td>\n",
       "    </tr>\n",
       "  </tbody>\n",
       "</table>\n",
       "</div>"
      ],
      "text/plain": [
       "          count  median  min   max          std        mean\n",
       "agg                                                        \n",
       "static   136291   370.0    0  8019  1188.866172  852.111401\n",
       "dynamic  150205   321.0    0  8019   969.634849  743.710509"
      ]
     },
     "metadata": {},
     "output_type": "display_data"
    },
    {
     "data": {
      "text/plain": [
       "(None, None)"
      ]
     },
     "execution_count": 31,
     "metadata": {},
     "output_type": "execute_result"
    },
    {
     "data": {
      "image/png": "[encoded data removed]",
      "text/plain": [
       "<Figure size 432x288 with 1 Axes>"
      ]
     },
     "metadata": {
      "needs_background": "light"
     },
     "output_type": "display_data"
    }
   ],
   "source": [
    "def f_map_cc(x):\n",
    "    a = int(x['compilation_class'])\n",
    "    if a ==1:\n",
    "        return 1\n",
    "    if a == 2:\n",
    "        return 2\n",
    "    else:\n",
    "        return 0\n",
    "\n",
    "condition_names_cc = {1 : 'static', 2: 'dynamic', 0: 'other'}\n",
    "\n",
    "S1, S2 = apply_stats_for_each_value(df, f_map_cc, condition_names_cc)\n",
    "display(S1), display(S2)"
   ]
  },
  {
   "cell_type": "code",
   "execution_count": 32,
   "id": "de252d2b",
   "metadata": {},
   "outputs": [
    {
     "data": {
      "text/html": [
       "<div>\n",
       "<style scoped>\n",
       "    .dataframe tbody tr th:only-of-type {\n",
       "        vertical-align: middle;\n",
       "    }\n",
       "\n",
       "    .dataframe tbody tr th {\n",
       "        vertical-align: top;\n",
       "    }\n",
       "\n",
       "    .dataframe thead th {\n",
       "        text-align: right;\n",
       "    }\n",
       "</style>\n",
       "<table border=\"1\" class=\"dataframe\">\n",
       "  <thead>\n",
       "    <tr style=\"text-align: right;\">\n",
       "      <th></th>\n",
       "      <th>Number of patiets</th>\n",
       "      <th>% z całej kohorty</th>\n",
       "      <th>Survival days, median</th>\n",
       "      <th>Survival years, median</th>\n",
       "      <th>Dxy</th>\n",
       "      <th>Confidence interval 95% low</th>\n",
       "      <th>Confidence interval 95% high</th>\n",
       "    </tr>\n",
       "  </thead>\n",
       "  <tbody>\n",
       "    <tr>\n",
       "      <th>0</th>\n",
       "      <td>286496.0</td>\n",
       "      <td>1.0</td>\n",
       "      <td>354.0</td>\n",
       "      <td>0.969863</td>\n",
       "      <td>0.02</td>\n",
       "      <td>0.02</td>\n",
       "      <td>0.02</td>\n",
       "    </tr>\n",
       "  </tbody>\n",
       "</table>\n",
       "</div>"
      ],
      "text/plain": [
       "   Number of patiets  % z całej kohorty  Survival days, median  \\\n",
       "0           286496.0                1.0                  354.0   \n",
       "\n",
       "   Survival years, median   Dxy  Confidence interval 95% low  \\\n",
       "0                0.969863  0.02                         0.02   \n",
       "\n",
       "   Confidence interval 95% high  \n",
       "0                          0.02  "
      ]
     },
     "metadata": {},
     "output_type": "display_data"
    },
    {
     "data": {
      "text/html": [
       "<div>\n",
       "<style scoped>\n",
       "    .dataframe tbody tr th:only-of-type {\n",
       "        vertical-align: middle;\n",
       "    }\n",
       "\n",
       "    .dataframe tbody tr th {\n",
       "        vertical-align: top;\n",
       "    }\n",
       "\n",
       "    .dataframe thead th {\n",
       "        text-align: right;\n",
       "    }\n",
       "</style>\n",
       "<table border=\"1\" class=\"dataframe\">\n",
       "  <thead>\n",
       "    <tr style=\"text-align: right;\">\n",
       "      <th></th>\n",
       "      <th>count</th>\n",
       "      <th>median</th>\n",
       "      <th>min</th>\n",
       "      <th>max</th>\n",
       "      <th>std</th>\n",
       "      <th>mean</th>\n",
       "    </tr>\n",
       "    <tr>\n",
       "      <th>agg</th>\n",
       "      <th></th>\n",
       "      <th></th>\n",
       "      <th></th>\n",
       "      <th></th>\n",
       "      <th></th>\n",
       "      <th></th>\n",
       "    </tr>\n",
       "  </thead>\n",
       "  <tbody>\n",
       "    <tr>\n",
       "      <th>strong</th>\n",
       "      <td>138645</td>\n",
       "      <td>344.0</td>\n",
       "      <td>0</td>\n",
       "      <td>8019</td>\n",
       "      <td>975.572232</td>\n",
       "      <td>747.194028</td>\n",
       "    </tr>\n",
       "    <tr>\n",
       "      <th>weak</th>\n",
       "      <td>147851</td>\n",
       "      <td>360.0</td>\n",
       "      <td>0</td>\n",
       "      <td>8019</td>\n",
       "      <td>1169.209591</td>\n",
       "      <td>840.369264</td>\n",
       "    </tr>\n",
       "  </tbody>\n",
       "</table>\n",
       "</div>"
      ],
      "text/plain": [
       "         count  median  min   max          std        mean\n",
       "agg                                                       \n",
       "strong  138645   344.0    0  8019   975.572232  747.194028\n",
       "weak    147851   360.0    0  8019  1169.209591  840.369264"
      ]
     },
     "metadata": {},
     "output_type": "display_data"
    },
    {
     "data": {
      "text/plain": [
       "(None, None)"
      ]
     },
     "execution_count": 32,
     "metadata": {},
     "output_type": "execute_result"
    },
    {
     "data": {
      "image/png": "[encoded data removed]",
      "text/plain": [
       "<Figure size 432x288 with 1 Axes>"
      ]
     },
     "metadata": {
      "needs_background": "light"
     },
     "output_type": "display_data"
    }
   ],
   "source": [
    "def f_map_tc(x):\n",
    "    a = int(x['type_class'])\n",
    "    if a ==1:\n",
    "        return 1\n",
    "    if a == 2:\n",
    "        return 2\n",
    "    else:\n",
    "        return 0\n",
    "\n",
    "condition_names_tc = {1 : 'strong', 2: 'weak', 0: 'other'}\n",
    "\n",
    "S1, S2 = apply_stats_for_each_value(df, f_map_tc, condition_names_tc)\n",
    "display(S1), display(S2)"
   ]
  },
  {
   "cell_type": "code",
   "execution_count": 33,
   "id": "085957c7",
   "metadata": {},
   "outputs": [
    {
     "data": {
      "text/html": [
       "<div>\n",
       "<style scoped>\n",
       "    .dataframe tbody tr th:only-of-type {\n",
       "        vertical-align: middle;\n",
       "    }\n",
       "\n",
       "    .dataframe tbody tr th {\n",
       "        vertical-align: top;\n",
       "    }\n",
       "\n",
       "    .dataframe thead th {\n",
       "        text-align: right;\n",
       "    }\n",
       "</style>\n",
       "<table border=\"1\" class=\"dataframe\">\n",
       "  <thead>\n",
       "    <tr style=\"text-align: right;\">\n",
       "      <th></th>\n",
       "      <th>Number of patiets</th>\n",
       "      <th>% z całej kohorty</th>\n",
       "      <th>Survival days, median</th>\n",
       "      <th>Survival years, median</th>\n",
       "      <th>Dxy</th>\n",
       "      <th>Confidence interval 95% low</th>\n",
       "      <th>Confidence interval 95% high</th>\n",
       "    </tr>\n",
       "  </thead>\n",
       "  <tbody>\n",
       "    <tr>\n",
       "      <th>0</th>\n",
       "      <td>286496.0</td>\n",
       "      <td>1.0</td>\n",
       "      <td>354.0</td>\n",
       "      <td>0.969863</td>\n",
       "      <td>0.01</td>\n",
       "      <td>0.01</td>\n",
       "      <td>0.01</td>\n",
       "    </tr>\n",
       "  </tbody>\n",
       "</table>\n",
       "</div>"
      ],
      "text/plain": [
       "   Number of patiets  % z całej kohorty  Survival days, median  \\\n",
       "0           286496.0                1.0                  354.0   \n",
       "\n",
       "   Survival years, median   Dxy  Confidence interval 95% low  \\\n",
       "0                0.969863  0.01                         0.01   \n",
       "\n",
       "   Confidence interval 95% high  \n",
       "0                          0.01  "
      ]
     },
     "metadata": {},
     "output_type": "display_data"
    },
    {
     "data": {
      "text/html": [
       "<div>\n",
       "<style scoped>\n",
       "    .dataframe tbody tr th:only-of-type {\n",
       "        vertical-align: middle;\n",
       "    }\n",
       "\n",
       "    .dataframe tbody tr th {\n",
       "        vertical-align: top;\n",
       "    }\n",
       "\n",
       "    .dataframe thead th {\n",
       "        text-align: right;\n",
       "    }\n",
       "</style>\n",
       "<table border=\"1\" class=\"dataframe\">\n",
       "  <thead>\n",
       "    <tr style=\"text-align: right;\">\n",
       "      <th></th>\n",
       "      <th>count</th>\n",
       "      <th>median</th>\n",
       "      <th>min</th>\n",
       "      <th>max</th>\n",
       "      <th>std</th>\n",
       "      <th>mean</th>\n",
       "    </tr>\n",
       "    <tr>\n",
       "      <th>agg</th>\n",
       "      <th></th>\n",
       "      <th></th>\n",
       "      <th></th>\n",
       "      <th></th>\n",
       "      <th></th>\n",
       "      <th></th>\n",
       "    </tr>\n",
       "  </thead>\n",
       "  <tbody>\n",
       "    <tr>\n",
       "      <th>managed</th>\n",
       "      <td>227287</td>\n",
       "      <td>354.0</td>\n",
       "      <td>0</td>\n",
       "      <td>8019</td>\n",
       "      <td>1022.505880</td>\n",
       "      <td>771.732048</td>\n",
       "    </tr>\n",
       "    <tr>\n",
       "      <th>non managed</th>\n",
       "      <td>59209</td>\n",
       "      <td>357.0</td>\n",
       "      <td>0</td>\n",
       "      <td>8019</td>\n",
       "      <td>1276.333511</td>\n",
       "      <td>885.667551</td>\n",
       "    </tr>\n",
       "  </tbody>\n",
       "</table>\n",
       "</div>"
      ],
      "text/plain": [
       "              count  median  min   max          std        mean\n",
       "agg                                                            \n",
       "managed      227287   354.0    0  8019  1022.505880  771.732048\n",
       "non managed   59209   357.0    0  8019  1276.333511  885.667551"
      ]
     },
     "metadata": {},
     "output_type": "display_data"
    },
    {
     "data": {
      "text/plain": [
       "(None, None)"
      ]
     },
     "execution_count": 33,
     "metadata": {},
     "output_type": "execute_result"
    },
    {
     "data": {
      "image/png": "[encoded data removed]",
      "text/plain": [
       "<Figure size 432x288 with 1 Axes>"
      ]
     },
     "metadata": {
      "needs_background": "light"
     },
     "output_type": "display_data"
    }
   ],
   "source": [
    "def f_map_mm(x):\n",
    "    a = int(x['memory_model'])\n",
    "    if a ==1:\n",
    "        return 1\n",
    "    if a == 2:\n",
    "        return 2\n",
    "    else:\n",
    "        return 0\n",
    "\n",
    "condition_names_mm = {1 : 'managed', 2: 'non managed', 0: 'other'}\n",
    "\n",
    "S1, S2 = apply_stats_for_each_value(df, f_map_mm, condition_names_mm)\n",
    "display(S1), display(S2)"
   ]
  },
  {
   "cell_type": "code",
   "execution_count": null,
   "id": "da3c3fc8",
   "metadata": {},
   "outputs": [],
   "source": []
  }
 ],
 "metadata": {
  "kernelspec": {
   "display_name": "Python 3 (ipykernel)",
   "language": "python",
   "name": "python3"
  },
  "language_info": {
   "codemirror_mode": {
    "name": "ipython",
    "version": 3
   },
   "file_extension": ".py",
   "mimetype": "text/x-python",
   "name": "python",
   "nbconvert_exporter": "python",
   "pygments_lexer": "ipython3",
   "version": "3.10.5"
  }
 },
 "nbformat": 4,
 "nbformat_minor": 5
}

{
 "cells": [
  {
   "cell_type": "markdown",
   "id": "5fd19579",
   "metadata": {},
   "source": [
    "# Examining risk factors associated with CVE\n",
    "\n",
    "> using CVE metadata retrieved from local instance of [CVE Search](https://github.com/cve-search/cve-search)\n",
    "> with the help of `dependency_search/retrieve_cve_info.py` script"
   ]
  },
  {
   "cell_type": "markdown",
   "id": "caa694bc",
   "metadata": {},
   "source": [
    "See [MSR 2023 CVE](https://docs.google.com/spreadsheets/d/1yUXKMNrwUA4t0wH4_c8kVLwmEKmOGjt9sj_nHUofmGo) Google Sheet"
   ]
  },
  {
   "cell_type": "markdown",
   "id": "66f5eb77",
   "metadata": {},
   "source": [
    "Imports"
   ]
  },
  {
   "cell_type": "code",
   "execution_count": 1,
   "id": "ff27fe46",
   "metadata": {},
   "outputs": [],
   "source": [
    "import pandas as pd"
   ]
  },
  {
   "cell_type": "markdown",
   "id": "53406b44",
   "metadata": {},
   "source": [
    "## Exploring `data/unique_cve_info-cvss_cwe_etc.parquet`"
   ]
  },
  {
   "cell_type": "code",
   "execution_count": 2,
   "id": "9ad0c20f",
   "metadata": {},
   "outputs": [
    {
     "data": {
      "text/plain": [
       "'../../data/unique_cve_info-cvss_cwe_etc.parquet'"
      ]
     },
     "execution_count": 2,
     "metadata": {},
     "output_type": "execute_result"
    }
   ],
   "source": [
    "df_filename='../../data/unique_cve_info-cvss_cwe_etc.parquet'\n",
    "df_filename"
   ]
  },
  {
   "cell_type": "code",
   "execution_count": 3,
   "id": "4d6ebef4",
   "metadata": {},
   "outputs": [
    {
     "data": {
      "text/html": [
       "<div>\n",
       "<style scoped>\n",
       "    .dataframe tbody tr th:only-of-type {\n",
       "        vertical-align: middle;\n",
       "    }\n",
       "\n",
       "    .dataframe tbody tr th {\n",
       "        vertical-align: top;\n",
       "    }\n",
       "\n",
       "    .dataframe thead th {\n",
       "        text-align: right;\n",
       "    }\n",
       "</style>\n",
       "<table border=\"1\" class=\"dataframe\">\n",
       "  <thead>\n",
       "    <tr style=\"text-align: right;\">\n",
       "      <th></th>\n",
       "      <th>cve</th>\n",
       "      <th>cvss</th>\n",
       "      <th>cwe</th>\n",
       "      <th>error</th>\n",
       "      <th>cvss-vector</th>\n",
       "      <th>access.authentication</th>\n",
       "      <th>access.complexity</th>\n",
       "      <th>access.vector</th>\n",
       "      <th>impact.availability</th>\n",
       "      <th>impact.confidentiality</th>\n",
       "      <th>impact.integrity</th>\n",
       "    </tr>\n",
       "  </thead>\n",
       "  <tbody>\n",
       "    <tr>\n",
       "      <th>0</th>\n",
       "      <td>CVE-2014-2972</td>\n",
       "      <td>4.6</td>\n",
       "      <td>CWE-189</td>\n",
       "      <td>&lt;NA&gt;</td>\n",
       "      <td>AV:L/AC:L/Au:N/C:P/I:P/A:P</td>\n",
       "      <td>NONE</td>\n",
       "      <td>LOW</td>\n",
       "      <td>LOCAL</td>\n",
       "      <td>PARTIAL</td>\n",
       "      <td>PARTIAL</td>\n",
       "      <td>PARTIAL</td>\n",
       "    </tr>\n",
       "    <tr>\n",
       "      <th>1</th>\n",
       "      <td>CVE-2014-3470</td>\n",
       "      <td>4.3</td>\n",
       "      <td>CWE-310</td>\n",
       "      <td>&lt;NA&gt;</td>\n",
       "      <td>AV:N/AC:M/Au:N/C:N/I:N/A:P</td>\n",
       "      <td>NONE</td>\n",
       "      <td>MEDIUM</td>\n",
       "      <td>NETWORK</td>\n",
       "      <td>PARTIAL</td>\n",
       "      <td>NONE</td>\n",
       "      <td>NONE</td>\n",
       "    </tr>\n",
       "    <tr>\n",
       "      <th>2</th>\n",
       "      <td>CVE-2013-2231</td>\n",
       "      <td>7.2</td>\n",
       "      <td>CWE-399</td>\n",
       "      <td>&lt;NA&gt;</td>\n",
       "      <td>AV:L/AC:L/Au:N/C:C/I:C/A:C</td>\n",
       "      <td>NONE</td>\n",
       "      <td>LOW</td>\n",
       "      <td>LOCAL</td>\n",
       "      <td>COMPLETE</td>\n",
       "      <td>COMPLETE</td>\n",
       "      <td>COMPLETE</td>\n",
       "    </tr>\n",
       "    <tr>\n",
       "      <th>3</th>\n",
       "      <td>CVE-2012-4405</td>\n",
       "      <td>6.8</td>\n",
       "      <td>CWE-189</td>\n",
       "      <td>&lt;NA&gt;</td>\n",
       "      <td>AV:N/AC:M/Au:N/C:P/I:P/A:P</td>\n",
       "      <td>NONE</td>\n",
       "      <td>MEDIUM</td>\n",
       "      <td>NETWORK</td>\n",
       "      <td>PARTIAL</td>\n",
       "      <td>PARTIAL</td>\n",
       "      <td>PARTIAL</td>\n",
       "    </tr>\n",
       "    <tr>\n",
       "      <th>4</th>\n",
       "      <td>CVE-2016-0728</td>\n",
       "      <td>7.2</td>\n",
       "      <td>NVD-CWE-Other</td>\n",
       "      <td>&lt;NA&gt;</td>\n",
       "      <td>AV:L/AC:L/Au:N/C:C/I:C/A:C</td>\n",
       "      <td>NONE</td>\n",
       "      <td>LOW</td>\n",
       "      <td>LOCAL</td>\n",
       "      <td>COMPLETE</td>\n",
       "      <td>COMPLETE</td>\n",
       "      <td>COMPLETE</td>\n",
       "    </tr>\n",
       "    <tr>\n",
       "      <th>...</th>\n",
       "      <td>...</td>\n",
       "      <td>...</td>\n",
       "      <td>...</td>\n",
       "      <td>...</td>\n",
       "      <td>...</td>\n",
       "      <td>...</td>\n",
       "      <td>...</td>\n",
       "      <td>...</td>\n",
       "      <td>...</td>\n",
       "      <td>...</td>\n",
       "      <td>...</td>\n",
       "    </tr>\n",
       "    <tr>\n",
       "      <th>65926</th>\n",
       "      <td>CVE-2022-22332</td>\n",
       "      <td>5.0</td>\n",
       "      <td>CWE-672</td>\n",
       "      <td>&lt;NA&gt;</td>\n",
       "      <td>AV:N/AC:L/Au:N/C:N/I:P/A:N</td>\n",
       "      <td>NONE</td>\n",
       "      <td>LOW</td>\n",
       "      <td>NETWORK</td>\n",
       "      <td>NONE</td>\n",
       "      <td>NONE</td>\n",
       "      <td>PARTIAL</td>\n",
       "    </tr>\n",
       "    <tr>\n",
       "      <th>65927</th>\n",
       "      <td>CVE-2022-22327</td>\n",
       "      <td>5.0</td>\n",
       "      <td>CWE-327</td>\n",
       "      <td>&lt;NA&gt;</td>\n",
       "      <td>AV:N/AC:L/Au:N/C:P/I:N/A:N</td>\n",
       "      <td>NONE</td>\n",
       "      <td>LOW</td>\n",
       "      <td>NETWORK</td>\n",
       "      <td>NONE</td>\n",
       "      <td>PARTIAL</td>\n",
       "      <td>NONE</td>\n",
       "    </tr>\n",
       "    <tr>\n",
       "      <th>65928</th>\n",
       "      <td>CVE-2021-43257</td>\n",
       "      <td>6.0</td>\n",
       "      <td>CWE-1236</td>\n",
       "      <td>&lt;NA&gt;</td>\n",
       "      <td>AV:N/AC:M/Au:S/C:P/I:P/A:P</td>\n",
       "      <td>SINGLE</td>\n",
       "      <td>MEDIUM</td>\n",
       "      <td>NETWORK</td>\n",
       "      <td>PARTIAL</td>\n",
       "      <td>PARTIAL</td>\n",
       "      <td>PARTIAL</td>\n",
       "    </tr>\n",
       "    <tr>\n",
       "      <th>65929</th>\n",
       "      <td>CVE-2021-43286</td>\n",
       "      <td>6.5</td>\n",
       "      <td>CWE-77</td>\n",
       "      <td>&lt;NA&gt;</td>\n",
       "      <td>AV:N/AC:L/Au:S/C:P/I:P/A:P</td>\n",
       "      <td>SINGLE</td>\n",
       "      <td>LOW</td>\n",
       "      <td>NETWORK</td>\n",
       "      <td>PARTIAL</td>\n",
       "      <td>PARTIAL</td>\n",
       "      <td>PARTIAL</td>\n",
       "    </tr>\n",
       "    <tr>\n",
       "      <th>65930</th>\n",
       "      <td>CVE-2022-1649</td>\n",
       "      <td>4.3</td>\n",
       "      <td>CWE-787</td>\n",
       "      <td>&lt;NA&gt;</td>\n",
       "      <td>AV:N/AC:M/Au:N/C:N/I:N/A:P</td>\n",
       "      <td>NONE</td>\n",
       "      <td>MEDIUM</td>\n",
       "      <td>NETWORK</td>\n",
       "      <td>PARTIAL</td>\n",
       "      <td>NONE</td>\n",
       "      <td>NONE</td>\n",
       "    </tr>\n",
       "  </tbody>\n",
       "</table>\n",
       "<p>65931 rows × 11 columns</p>\n",
       "</div>"
      ],
      "text/plain": [
       "                  cve  cvss            cwe error                 cvss-vector  \\\n",
       "0       CVE-2014-2972   4.6        CWE-189  <NA>  AV:L/AC:L/Au:N/C:P/I:P/A:P   \n",
       "1       CVE-2014-3470   4.3        CWE-310  <NA>  AV:N/AC:M/Au:N/C:N/I:N/A:P   \n",
       "2       CVE-2013-2231   7.2        CWE-399  <NA>  AV:L/AC:L/Au:N/C:C/I:C/A:C   \n",
       "3       CVE-2012-4405   6.8        CWE-189  <NA>  AV:N/AC:M/Au:N/C:P/I:P/A:P   \n",
       "4       CVE-2016-0728   7.2  NVD-CWE-Other  <NA>  AV:L/AC:L/Au:N/C:C/I:C/A:C   \n",
       "...               ...   ...            ...   ...                         ...   \n",
       "65926  CVE-2022-22332   5.0        CWE-672  <NA>  AV:N/AC:L/Au:N/C:N/I:P/A:N   \n",
       "65927  CVE-2022-22327   5.0        CWE-327  <NA>  AV:N/AC:L/Au:N/C:P/I:N/A:N   \n",
       "65928  CVE-2021-43257   6.0       CWE-1236  <NA>  AV:N/AC:M/Au:S/C:P/I:P/A:P   \n",
       "65929  CVE-2021-43286   6.5         CWE-77  <NA>  AV:N/AC:L/Au:S/C:P/I:P/A:P   \n",
       "65930   CVE-2022-1649   4.3        CWE-787  <NA>  AV:N/AC:M/Au:N/C:N/I:N/A:P   \n",
       "\n",
       "      access.authentication access.complexity access.vector  \\\n",
       "0                      NONE               LOW         LOCAL   \n",
       "1                      NONE            MEDIUM       NETWORK   \n",
       "2                      NONE               LOW         LOCAL   \n",
       "3                      NONE            MEDIUM       NETWORK   \n",
       "4                      NONE               LOW         LOCAL   \n",
       "...                     ...               ...           ...   \n",
       "65926                  NONE               LOW       NETWORK   \n",
       "65927                  NONE               LOW       NETWORK   \n",
       "65928                SINGLE            MEDIUM       NETWORK   \n",
       "65929                SINGLE               LOW       NETWORK   \n",
       "65930                  NONE            MEDIUM       NETWORK   \n",
       "\n",
       "      impact.availability impact.confidentiality impact.integrity  \n",
       "0                 PARTIAL                PARTIAL          PARTIAL  \n",
       "1                 PARTIAL                   NONE             NONE  \n",
       "2                COMPLETE               COMPLETE         COMPLETE  \n",
       "3                 PARTIAL                PARTIAL          PARTIAL  \n",
       "4                COMPLETE               COMPLETE         COMPLETE  \n",
       "...                   ...                    ...              ...  \n",
       "65926                NONE                   NONE          PARTIAL  \n",
       "65927                NONE                PARTIAL             NONE  \n",
       "65928             PARTIAL                PARTIAL          PARTIAL  \n",
       "65929             PARTIAL                PARTIAL          PARTIAL  \n",
       "65930             PARTIAL                   NONE             NONE  \n",
       "\n",
       "[65931 rows x 11 columns]"
      ]
     },
     "execution_count": 3,
     "metadata": {},
     "output_type": "execute_result"
    }
   ],
   "source": [
    "df=pd.read_parquet(df_filename)\n",
    "df"
   ]
  },
  {
   "cell_type": "code",
   "execution_count": 4,
   "id": "adc61d9b",
   "metadata": {},
   "outputs": [
    {
     "data": {
      "text/plain": [
       "(65931, 11)"
      ]
     },
     "execution_count": 4,
     "metadata": {},
     "output_type": "execute_result"
    }
   ],
   "source": [
    "df.shape"
   ]
  },
  {
   "cell_type": "code",
   "execution_count": 5,
   "id": "6a9de70f",
   "metadata": {},
   "outputs": [
    {
     "data": {
      "text/plain": [
       "Index(['cve', 'cvss', 'cwe', 'error', 'cvss-vector', 'access.authentication',\n",
       "       'access.complexity', 'access.vector', 'impact.availability',\n",
       "       'impact.confidentiality', 'impact.integrity'],\n",
       "      dtype='object')"
      ]
     },
     "execution_count": 5,
     "metadata": {},
     "output_type": "execute_result"
    }
   ],
   "source": [
    "df.columns"
   ]
  },
  {
   "cell_type": "code",
   "execution_count": 20,
   "id": "a254a2bb",
   "metadata": {},
   "outputs": [
    {
     "data": {
      "text/plain": [
       "['access.authentication',\n",
       " 'access.complexity',\n",
       " 'access.vector',\n",
       " 'impact.availability',\n",
       " 'impact.confidentiality',\n",
       " 'impact.integrity']"
      ]
     },
     "execution_count": 20,
     "metadata": {},
     "output_type": "execute_result"
    }
   ],
   "source": [
    "cvss_factor_columns=[column_name for column_name in df.columns if \".\" in column_name]\n",
    "cvss_factor_columns"
   ]
  },
  {
   "cell_type": "code",
   "execution_count": 12,
   "id": "e8f338b4",
   "metadata": {},
   "outputs": [
    {
     "data": {
      "text/plain": [
       "<StringArray>\n",
       "[<NA>, \"'cvss'\"]\n",
       "Length: 2, dtype: string"
      ]
     },
     "execution_count": 12,
     "metadata": {},
     "output_type": "execute_result"
    }
   ],
   "source": [
    "df['error'].unique()"
   ]
  },
  {
   "cell_type": "code",
   "execution_count": 31,
   "id": "b86190b6",
   "metadata": {},
   "outputs": [
    {
     "data": {
      "text/plain": [
       "error\n",
       "'cvss'    2766\n",
       "dtype: int64"
      ]
     },
     "execution_count": 31,
     "metadata": {},
     "output_type": "execute_result"
    }
   ],
   "source": [
    "df.value_counts('error')"
   ]
  },
  {
   "cell_type": "code",
   "execution_count": 32,
   "id": "da7a5568",
   "metadata": {},
   "outputs": [
    {
     "data": {
      "text/plain": [
       "147      'cvss'\n",
       "469      'cvss'\n",
       "493      'cvss'\n",
       "595      'cvss'\n",
       "641      'cvss'\n",
       "          ...  \n",
       "65900    'cvss'\n",
       "65901    'cvss'\n",
       "65902    'cvss'\n",
       "65906    'cvss'\n",
       "65911    'cvss'\n",
       "Name: error, Length: 2766, dtype: string"
      ]
     },
     "execution_count": 32,
     "metadata": {},
     "output_type": "execute_result"
    }
   ],
   "source": [
    "df['error'].dropna()"
   ]
  },
  {
   "cell_type": "markdown",
   "id": "af982b58",
   "metadata": {},
   "source": [
    "### The Common Vulnerability Scoring System (CVSS), and CVSS Ratings\n",
    "\n",
    "See https://nvd.nist.gov/vuln-metrics/cvss<br>\n",
    "See https://www.first.org/cvss/specification-document#Qualitative-Severity-Rating-Scale"
   ]
  },
  {
   "cell_type": "code",
   "execution_count": 6,
   "id": "b9d61beb",
   "metadata": {},
   "outputs": [
    {
     "data": {
      "text/plain": [
       "count    63165.000000\n",
       "mean         5.784938\n",
       "std          1.950292\n",
       "min          0.000000\n",
       "25%          4.300000\n",
       "50%          5.000000\n",
       "75%          7.200000\n",
       "max         10.000000\n",
       "Name: cvss, dtype: float64"
      ]
     },
     "execution_count": 6,
     "metadata": {},
     "output_type": "execute_result"
    }
   ],
   "source": [
    "df['cvss'].describe()"
   ]
  },
  {
   "cell_type": "markdown",
   "id": "09ce2474",
   "metadata": {},
   "source": [
    "CVSS v2.0 Ratings\n",
    "\n",
    "https://nvd.nist.gov/vuln-metrics/cvss\n",
    "\n",
    "- Low\t    : 0.0-3.9 \n",
    "- Medium\t: 4.0-6.9 \n",
    "- High\t    : 7.0-10.0 "
   ]
  },
  {
   "cell_type": "code",
   "execution_count": 38,
   "id": "e173e8fe",
   "metadata": {},
   "outputs": [
    {
     "data": {
      "text/plain": [
       "CVSS v2.0 Ratings\n",
       "Medium    39042\n",
       "High      17453\n",
       "Low        6670\n",
       "dtype: int64"
      ]
     },
     "execution_count": 38,
     "metadata": {},
     "output_type": "execute_result"
    }
   ],
   "source": [
    "cvss2r_s = pd.cut(df['cvss'],\n",
    "                  bins=[0,4,7,10.1],right=False,include_lowest=True,\n",
    "                  labels=['Low','Medium','High'])\n",
    "df['CVSS v2.0 Ratings'] = cvss2r_s\n",
    "df.value_counts('CVSS v2.0 Ratings')"
   ]
  },
  {
   "cell_type": "code",
   "execution_count": 50,
   "id": "bf85fb4c",
   "metadata": {},
   "outputs": [
    {
     "data": {
      "text/plain": [
       "<AxesSubplot: xlabel='CVSS v2.0 Ratings', ylabel='CVEs'>"
      ]
     },
     "execution_count": 50,
     "metadata": {},
     "output_type": "execute_result"
    },
    {
     "data": {
      "image/png": "[encoded data removed]",
      "text/plain": [
       "<Figure size 432x288 with 1 Axes>"
      ]
     },
     "metadata": {
      "needs_background": "light"
     },
     "output_type": "display_data"
    }
   ],
   "source": [
    "df.value_counts('CVSS v2.0 Ratings')[['Low','Medium','High']].plot.bar(ylabel='CVEs')"
   ]
  },
  {
   "cell_type": "markdown",
   "id": "10c1f41f",
   "metadata": {},
   "source": [
    "CVSS v3.1 Ratings\n",
    "\n",
    "https://nvd.nist.gov/vuln-metrics/cvss<br>\n",
    "https://www.first.org/cvss/specification-document#Qualitative-Severity-Rating-Scale\n",
    "\n",
    "- None      : 0.0\n",
    "- Low\t    : 0.1-3.9 \n",
    "- Medium\t: 4.0-6.9 \n",
    "- High\t    : 7.0-8.9 \n",
    "- Critical  : 9.0-10.0"
   ]
  },
  {
   "cell_type": "code",
   "execution_count": 46,
   "id": "5b5abd57",
   "metadata": {},
   "outputs": [
    {
     "data": {
      "text/plain": [
       "CVSS v3.1 Ratings\n",
       "Medium      39042\n",
       "High        11075\n",
       "Low          6666\n",
       "Critical     6378\n",
       "None            4\n",
       "dtype: int64"
      ]
     },
     "execution_count": 46,
     "metadata": {},
     "output_type": "execute_result"
    }
   ],
   "source": [
    "cvss3r_s = pd.cut(df['cvss'],\n",
    "                  bins=[0,0.1,4,7,9,10.1],right=False,include_lowest=True,\n",
    "                  labels=['None','Low','Medium','High','Critical'])\n",
    "df['CVSS v3.1 Ratings'] = cvss3r_s\n",
    "df.value_counts('CVSS v3.1 Ratings')"
   ]
  },
  {
   "cell_type": "code",
   "execution_count": 51,
   "id": "40d52f22",
   "metadata": {},
   "outputs": [
    {
     "data": {
      "text/plain": [
       "<AxesSubplot: xlabel='CVSS v3.1 Ratings', ylabel='CVEs'>"
      ]
     },
     "execution_count": 51,
     "metadata": {},
     "output_type": "execute_result"
    },
    {
     "data": {
      "image/png": "[encoded data removed]",
      "text/plain": [
       "<Figure size 432x288 with 1 Axes>"
      ]
     },
     "metadata": {
      "needs_background": "light"
     },
     "output_type": "display_data"
    }
   ],
   "source": [
    "df.value_counts('CVSS v3.1 Ratings')[['None','Low','Medium','High','Critical']].plot(kind='bar', ylabel='CVEs',color='b')"
   ]
  },
  {
   "cell_type": "markdown",
   "id": "9a07498f",
   "metadata": {},
   "source": [
    "### CVSS Factors: access.authentication, etc."
   ]
  },
  {
   "cell_type": "code",
   "execution_count": 21,
   "id": "95ef8f8f",
   "metadata": {},
   "outputs": [
    {
     "name": "stdout",
     "output_type": "stream",
     "text": [
      "access.authentication: NONE,SINGLE,MULTIPLE\n",
      "access.complexity: LOW,MEDIUM,HIGH\n",
      "access.vector: LOCAL,NETWORK,ADJACENT_NETWORK\n",
      "impact.availability: PARTIAL,COMPLETE,NONE\n",
      "impact.confidentiality: PARTIAL,NONE,COMPLETE\n",
      "impact.integrity: PARTIAL,NONE,COMPLETE\n"
     ]
    }
   ],
   "source": [
    "for col in cvss_factor_columns:\n",
    "    print(f\"{col}: {','.join(df[col].dropna().unique())}\")"
   ]
  },
  {
   "cell_type": "code",
   "execution_count": 30,
   "id": "60d5539f",
   "metadata": {},
   "outputs": [
    {
     "name": "stdout",
     "output_type": "stream",
     "text": [
      "access.authentication\n",
      "NONE        52800\n",
      "SINGLE      10337\n",
      "MULTIPLE       28\n",
      "dtype: int64\n",
      "\n",
      "access.complexity\n",
      "LOW       35237\n",
      "MEDIUM    25774\n",
      "HIGH       2154\n",
      "dtype: int64\n",
      "\n",
      "access.vector\n",
      "NETWORK             52249\n",
      "LOCAL                9830\n",
      "ADJACENT_NETWORK     1086\n",
      "dtype: int64\n",
      "\n",
      "impact.availability\n",
      "PARTIAL     27809\n",
      "NONE        21694\n",
      "COMPLETE    13662\n",
      "dtype: int64\n",
      "\n",
      "impact.confidentiality\n",
      "PARTIAL     29502\n",
      "NONE        22813\n",
      "COMPLETE    10850\n",
      "dtype: int64\n",
      "\n",
      "impact.integrity\n",
      "PARTIAL     29439\n",
      "NONE        23252\n",
      "COMPLETE    10474\n",
      "dtype: int64\n",
      "\n"
     ]
    }
   ],
   "source": [
    "for col in cvss_factor_columns:\n",
    "    print(df.value_counts(col))\n",
    "    print('')"
   ]
  },
  {
   "cell_type": "code",
   "execution_count": 66,
   "id": "9e4625e3",
   "metadata": {},
   "outputs": [
    {
     "data": {
      "text/html": [
       "<div>\n",
       "<style scoped>\n",
       "    .dataframe tbody tr th:only-of-type {\n",
       "        vertical-align: middle;\n",
       "    }\n",
       "\n",
       "    .dataframe tbody tr th {\n",
       "        vertical-align: top;\n",
       "    }\n",
       "\n",
       "    .dataframe thead th {\n",
       "        text-align: right;\n",
       "    }\n",
       "</style>\n",
       "<table border=\"1\" class=\"dataframe\">\n",
       "  <thead>\n",
       "    <tr style=\"text-align: right;\">\n",
       "      <th></th>\n",
       "      <th>impact.availability</th>\n",
       "      <th>impact.confidentiality</th>\n",
       "      <th>impact.integrity</th>\n",
       "    </tr>\n",
       "  </thead>\n",
       "  <tbody>\n",
       "    <tr>\n",
       "      <th>NONE</th>\n",
       "      <td>21694</td>\n",
       "      <td>22813</td>\n",
       "      <td>23252</td>\n",
       "    </tr>\n",
       "    <tr>\n",
       "      <th>PARTIAL</th>\n",
       "      <td>27809</td>\n",
       "      <td>29502</td>\n",
       "      <td>29439</td>\n",
       "    </tr>\n",
       "    <tr>\n",
       "      <th>COMPLETE</th>\n",
       "      <td>13662</td>\n",
       "      <td>10850</td>\n",
       "      <td>10474</td>\n",
       "    </tr>\n",
       "  </tbody>\n",
       "</table>\n",
       "</div>"
      ],
      "text/plain": [
       "          impact.availability  impact.confidentiality  impact.integrity\n",
       "NONE                    21694                   22813             23252\n",
       "PARTIAL                 27809                   29502             29439\n",
       "COMPLETE                13662                   10850             10474"
      ]
     },
     "execution_count": 66,
     "metadata": {},
     "output_type": "execute_result"
    }
   ],
   "source": [
    "df_impact=pd.DataFrame()\n",
    "for col in ['impact.availability','impact.confidentiality','impact.integrity']:\n",
    "    df_impact[col] = df.value_counts(col)\n",
    "    \n",
    "df_impact=df_impact.reindex(['NONE','PARTIAL','COMPLETE']).rename_axis(None, axis=1)\n",
    "df_impact.index.name=None\n",
    "\n",
    "df_impact"
   ]
  },
  {
   "cell_type": "code",
   "execution_count": 67,
   "id": "25acb3e4",
   "metadata": {},
   "outputs": [
    {
     "data": {
      "text/plain": [
       "<AxesSubplot: >"
      ]
     },
     "execution_count": 67,
     "metadata": {},
     "output_type": "execute_result"
    },
    {
     "data": {
      "image/png": "[encoded data removed]",
      "text/plain": [
       "<Figure size 432x288 with 1 Axes>"
      ]
     },
     "metadata": {
      "needs_background": "light"
     },
     "output_type": "display_data"
    }
   ],
   "source": [
    "df_impact.plot.bar()"
   ]
  },
  {
   "cell_type": "code",
   "execution_count": 68,
   "id": "1b6eaec7",
   "metadata": {},
   "outputs": [
    {
     "data": {
      "text/plain": [
       "<AxesSubplot: >"
      ]
     },
     "execution_count": 68,
     "metadata": {},
     "output_type": "execute_result"
    },
    {
     "data": {
      "image/png": "[encoded data removed]",
      "text/plain": [
       "<Figure size 432x288 with 1 Axes>"
      ]
     },
     "metadata": {
      "needs_background": "light"
     },
     "output_type": "display_data"
    }
   ],
   "source": [
    "df_impact.transpose().plot.bar()"
   ]
  },
  {
   "cell_type": "code",
   "execution_count": 53,
   "id": "b89bc48b",
   "metadata": {},
   "outputs": [
    {
     "data": {
      "text/plain": [
       "impact.availability  impact.confidentiality  impact.integrity\n",
       "PARTIAL              PARTIAL                 PARTIAL             16664\n",
       "COMPLETE             COMPLETE                COMPLETE            10295\n",
       "PARTIAL              NONE                    NONE                 9526\n",
       "NONE                 PARTIAL                 NONE                 9374\n",
       "                     NONE                    PARTIAL              9195\n",
       "COMPLETE             NONE                    NONE                 3075\n",
       "NONE                 PARTIAL                 PARTIAL              2575\n",
       "PARTIAL              NONE                    PARTIAL               852\n",
       "                     PARTIAL                 NONE                  743\n",
       "NONE                 COMPLETE                NONE                  447\n",
       "COMPLETE             PARTIAL                 PARTIAL                89\n",
       "                     NONE                    COMPLETE               84\n",
       "                     PARTIAL                 NONE                   53\n",
       "NONE                 COMPLETE                COMPLETE               43\n",
       "                     NONE                    COMPLETE               41\n",
       "COMPLETE             NONE                    PARTIAL                34\n",
       "                     COMPLETE                NONE                   26\n",
       "NONE                 COMPLETE                PARTIAL                15\n",
       "PARTIAL              COMPLETE                PARTIAL                11\n",
       "                                             COMPLETE                5\n",
       "COMPLETE             COMPLETE                PARTIAL                 4\n",
       "PARTIAL              COMPLETE                NONE                    4\n",
       "NONE                 NONE                    NONE                    4\n",
       "PARTIAL              NONE                    COMPLETE                2\n",
       "                     PARTIAL                 COMPLETE                2\n",
       "COMPLETE             PARTIAL                 COMPLETE                2\n",
       "dtype: int64"
      ]
     },
     "execution_count": 53,
     "metadata": {},
     "output_type": "execute_result"
    }
   ],
   "source": [
    "df.value_counts(subset=['impact.availability','impact.confidentiality','impact.integrity'])"
   ]
  }
 ],
 "metadata": {
  "kernelspec": {
   "display_name": "Python 3 (ipykernel)",
   "language": "python",
   "name": "python3"
  },
  "language_info": {
   "codemirror_mode": {
    "name": "ipython",
    "version": 3
   },
   "file_extension": ".py",
   "mimetype": "text/x-python",
   "name": "python",
   "nbconvert_exporter": "python",
   "pygments_lexer": "ipython3",
   "version": "3.10.5"
  }
 },
 "nbformat": 4,
 "nbformat_minor": 5
}

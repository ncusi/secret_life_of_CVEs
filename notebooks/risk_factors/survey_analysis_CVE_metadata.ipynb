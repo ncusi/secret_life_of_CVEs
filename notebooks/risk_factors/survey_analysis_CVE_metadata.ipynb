{
 "cells": [
  {
   "cell_type": "code",
   "execution_count": 1,
   "id": "074d647e",
   "metadata": {},
   "outputs": [],
   "source": [
    "from IPython.core.interactiveshell import InteractiveShell\n",
    "InteractiveShell.ast_node_interactivity = \"all\"\n",
    "\n",
    "import pandas as pd\n",
    "import numpy as np\n",
    "\n",
    "from lifelines import CoxPHFitter\n",
    "from lifelines.utils import concordance_index\n",
    "from sksurv.metrics import concordance_index_censored\n",
    "from sksurv.nonparametric import kaplan_meier_estimator\n",
    "\n",
    "import scipy.stats\n",
    "\n",
    "from functools import partial\n",
    "\n",
    "%matplotlib inline\n",
    "import matplotlib.pyplot as plt\n",
    "import seaborn as sns"
   ]
  },
  {
   "cell_type": "code",
   "execution_count": 2,
   "id": "0aa08034",
   "metadata": {},
   "outputs": [],
   "source": [
    "import sys\n",
    "from pathlib import Path\n",
    "from joblib import Parallel, delayed\n",
    "import json"
   ]
  },
  {
   "cell_type": "markdown",
   "id": "06173084",
   "metadata": {},
   "source": [
    "## Declarations and definitions"
   ]
  },
  {
   "cell_type": "code",
   "execution_count": 3,
   "id": "2230aaa9",
   "metadata": {},
   "outputs": [],
   "source": [
    "def mean_confidence_interval(data, confidence=0.95):\n",
    "    \"\"\"Calculate mean, and lower and upper bound of confidence interval\"\"\"\n",
    "    a = 1.0 * np.array(data)\n",
    "    n = len(a)\n",
    "    m, se = np.mean(a), scipy.stats.sem(a)\n",
    "    h = se * scipy.stats.t.ppf((1 + confidence) / 2., n-1)\n",
    "    return m, m-h, m+h"
   ]
  },
  {
   "cell_type": "code",
   "execution_count": 4,
   "id": "fb1b947a",
   "metadata": {},
   "outputs": [],
   "source": [
    "def Dxy(event_observed, cve_lifetime, predicted_scores):\n",
    "    \"\"\"Calculate Dxy\n",
    "\n",
    "    Rescale values from 0<=x<=1 range, where 0 is perfect anti-concordance,\n",
    "    and 0.5 is the expected result from random predictions,\n",
    "    to the -1<=x<=1 range\n",
    "    \"\"\"\n",
    "    #return 2 * concordance_index_censored(event_observed, cve_lifetime, predicted_scores)[0] - 1\n",
    "    return 2 * concordance_index(cve_lifetime, predicted_scores, event_observed) - 1"
   ]
  },
  {
   "cell_type": "code",
   "execution_count": 6,
   "id": "b93d2cd6",
   "metadata": {},
   "outputs": [],
   "source": [
    "def bootstrap_dxy_inner(df):\n",
    "    \"\"\"Bootstrapped Dxy calculation, randomly sampled with replacement\n",
    "\n",
    "    Parameters\n",
    "    ----------\n",
    "    df : pandas.DataFrame\n",
    "        Dataframe to sample to compute Dxy from concordance index.\n",
    "        Assumes that first 3 columns in this dataframe are:\n",
    "\n",
    "        1. boolean column denoting which events were observed (un-censored)\n",
    "        2. column with event times, in this case CVE lifetime (time to fix)\n",
    "        3. column with predicted score, assumed to be category number,\n",
    "           ordered in such way that larger values predict shorter lifetime\n",
    "\n",
    "        Other columns are not used.\n",
    "\n",
    "    Returns\n",
    "    -------\n",
    "    float\n",
    "        Coefficient of concordance correlation, a number between –1 and 1 that\n",
    "        measures the strength and direction of the relationship between\n",
    "        predicted score (risk factor) and event time (CVE survival lifetime).\n",
    "    \"\"\"\n",
    "    e, y, x = df.columns\n",
    "    sample = df.sample(n=df.shape[0], replace=True)\n",
    "\n",
    "    # calculate Dxy from sample\n",
    "    return Dxy(sample[e], sample[y], sample[x])\n",
    "\n",
    "\n",
    "def bootstrap_dxy(df, n=5):\n",
    "    \"\"\"Boostrap and calculate Dxy, resampling `n` times\"\"\"\n",
    "    # resample n times\n",
    "    result = Parallel(n_jobs=-1)(delayed(bootstrap_dxy_inner)(df) for _ in range(n))\n",
    "\n",
    "    return result"
   ]
  },
  {
   "cell_type": "code",
   "execution_count": 7,
   "id": "a6742f16",
   "metadata": {},
   "outputs": [],
   "source": [
    "def apply_stats_for_each_value(params, df, fmap, condition_names=None, df_mask=None):\n",
    "    \"\"\"Apply stats to each value in column\"\"\"\n",
    "\n",
    "    all_count = df.shape[0]\n",
    "\n",
    "    if df_mask is not None:\n",
    "        df = df[df_mask]\n",
    "\n",
    "    dff = pd.DataFrame({'E': df['E'], 'Y': df['Y'], 'agg': df.apply(fmap, axis=1)}).dropna()\n",
    "    selected_count = dff.shape[0]\n",
    "    print(f\"all = {all_count}, selected = {selected_count}, uncensored = {dff['E'].sum()}\",\n",
    "               file=sys.stderr)\n",
    "\n",
    "    # DEBUG\n",
    "    #print(dff.head())\n",
    "\n",
    "    stats = dff['Y'].aggregate(['count', 'median'])\n",
    "\n",
    "    print(f\"Computing {params['bootstrap_samples']} × bootstrap Dxy \" +\n",
    "          f\"for {dff.shape[0]} elements...\", file=sys.stderr)\n",
    "    dxy_bootstrapped = bootstrap_dxy(dff[['E', 'Y', 'agg']], params['bootstrap_samples'])\n",
    "    # DEBUG\n",
    "    #print(dxy_bootstrapped)\n",
    "    # confidence interval\n",
    "    print(f\"Computing confidence interval from {len(dxy_bootstrapped)} samples...\", file=sys.stderr)\n",
    "    dxy, ci_low, ci_high = mean_confidence_interval(dxy_bootstrapped, confidence=params['confidence'])\n",
    "\n",
    "    ret = {\n",
    "        'Cohort': all_count,\n",
    "        'Number of patients': stats['count'],\n",
    "        '% of cohort': 100.0*selected_count / all_count,\n",
    "        'Survival days, median': stats['median'],\n",
    "        'Survival years, median': stats['median'] / 365,\n",
    "        'Dxy (full)': Dxy(dff['E'], dff['Y'], dff['agg']),\n",
    "        'bootstrap': {\n",
    "            'Dxy': dxy,\n",
    "            'Confidence interval low': ci_low,\n",
    "            'Confidence interval high': ci_high,\n",
    "            'confidence threshold %': 100.0*params['confidence'],\n",
    "            'bootstrap samples': params['bootstrap_samples'],\n",
    "        },\n",
    "    }\n",
    "\n",
    "    print(\"Computing descriptive statistics like mean, median, etc....\", file=sys.stderr)\n",
    "    dff_groupby_y = dff.groupby(by=['agg'])['Y']\n",
    "    groups = dff_groupby_y\\\n",
    "        .agg(['count', 'median', 'min',\n",
    "              lambda x: np.percentile(x, q=25), lambda x: np.percentile(x, q=75),\n",
    "              'max', 'mean', 'std', 'skew'])\\\n",
    "        .rename(columns={'<lambda_0>': '25%', '<lambda_1>': '75%'})\n",
    "\n",
    "    # DEBUG\n",
    "    #print(dff_groupby_y.describe())\n",
    "\n",
    "    groups.index.names = [ params['risk_column_name'] ]\n",
    "    if condition_names:\n",
    "        groups.index = groups.index.map(condition_names)\n",
    "\n",
    "    return ret, groups, dff"
   ]
  },
  {
   "cell_type": "code",
   "execution_count": 8,
   "id": "7eef92d2",
   "metadata": {},
   "outputs": [],
   "source": [
    "def plot_survival_function(params, dff, condition_names=None):\n",
    "    \"\"\"Create plot of survival function\n",
    "\n",
    "    Parameters\n",
    "    ----------\n",
    "    params : dict\n",
    "        Uses params['cve_survival_analysis']['risk_column_name'] and\n",
    "        params['description'] to create plot titles\n",
    "    plot_path : str | pathlib.Path\n",
    "        Where to save the plot\n",
    "    dff : pandas.DataFrame\n",
    "        The dataframe with data to compute survival function from\n",
    "    condition_names : dict | None\n",
    "        Mapping from risk factor score to risk factor name\n",
    "    \"\"\"\n",
    "    values_list = dff[\"agg\"].unique()\n",
    "    if condition_names is not None:\n",
    "        values_list = condition_names.keys()\n",
    "    print(f\"values_list = {values_list}\")\n",
    "    for value in values_list:\n",
    "        mask = (dff[\"agg\"] == value)  # it's a boolean-valued pd.Series\n",
    "        time_cell, survival_prob_cell = kaplan_meier_estimator(dff[\"E\"][mask], dff[\"Y\"][mask])\n",
    "        plt.step(time_cell, survival_prob_cell, where=\"post\",\n",
    "                 label=f\"{condition_names[value]} (n = {mask.sum():d})\"\n",
    "                       if condition_names else\n",
    "                       f\"{value:d} (n = {mask.sum():d})\"\n",
    "                 )\n",
    "\n",
    "    if 'risk_column_name' in params:\n",
    "        plt.suptitle(f\"Risk factor: '{params['risk_column_name']}'\")\n",
    "    if 'description' in params:\n",
    "        plt.title(params['description'])\n",
    "    plt.ylabel(\"est. probability of survival $\\\\hat{S}(t)$\")\n",
    "    plt.xlabel(\"time $t$\")\n",
    "    plt.legend(loc=\"best\")\n",
    "    plt.show()\n",
    "    # plt.savefig(plot_path)\n",
    "    plt.clf()"
   ]
  },
  {
   "cell_type": "code",
   "execution_count": 9,
   "id": "4973679e",
   "metadata": {},
   "outputs": [],
   "source": [
    "def create_values_ranking_list(column_s, column_dtype):\n",
    "    # if column_dtype is ordered category, we can use the order;\n",
    "    # or column_dtype is unordered category with two values, any order is good;\n",
    "    # or column_dtype is some kind of integer, we can use values\n",
    "\n",
    "    # or column_dtype == 'category'\n",
    "    if isinstance(column_dtype, pd.CategoricalDtype):\n",
    "        if column_dtype.ordered:\n",
    "            # we can use category ordering as ranking\n",
    "            return column_dtype.categories.to_list()\n",
    "        if column_dtype.categories.shape[0] == 2:\n",
    "            # any order is good, we can get correlation or anti-correlation\n",
    "            return column_dtype.categories.to_list()\n",
    "\n",
    "    if pd.api.types.is_string_dtype(column_dtype) \\\n",
    "            and column_s.nunique(dropna=True) == 2:\n",
    "        return column_s.unique().tolist()\n",
    "\n",
    "    # we can't create ranking list of values\n",
    "    return None"
   ]
  },
  {
   "cell_type": "code",
   "execution_count": 10,
   "id": "cee6bbd7",
   "metadata": {},
   "outputs": [],
   "source": [
    "def values_ranking_hashes(values_ranking_list):\n",
    "    values_ranking_hash = { value: idx\n",
    "                            for (idx, value) in enumerate(values_ranking_list) }\n",
    "    rankings_condition_names = { idx: value\n",
    "                                 for (idx, value) in enumerate(values_ranking_list) }\n",
    "\n",
    "    return values_ranking_hash, rankings_condition_names"
   ]
  },
  {
   "cell_type": "code",
   "execution_count": 11,
   "id": "871f31f3",
   "metadata": {},
   "outputs": [],
   "source": [
    "def f_map_int(row, column_name, min_value=None, max_value=None):\n",
    "    value = int(row[column_name])\n",
    "    if min_value is not None and value < min_value:\n",
    "        return None\n",
    "    if max_value is not None and value > max_value:\n",
    "        return None\n",
    "\n",
    "    return value\n",
    "\n",
    "\n",
    "def f_map_bool(row, column_name):\n",
    "    value = bool(row[column_name])\n",
    "    return value\n",
    "\n",
    "\n",
    "def f_map_generic(row, column_name, values_ranking_hash):\n",
    "    value = row[column_name]\n",
    "    if value in values_ranking_hash:\n",
    "        return values_ranking_hash[value]\n",
    "\n",
    "    return None"
   ]
  },
  {
   "cell_type": "code",
   "execution_count": 12,
   "id": "444baa0b",
   "metadata": {},
   "outputs": [],
   "source": [
    "def uniquify(param):\n",
    "    seen = set()\n",
    "    uniq = []\n",
    "    for elem in param:\n",
    "        if elem not in seen:\n",
    "            uniq.append(elem)\n",
    "            seen.add(elem)\n",
    "\n",
    "    return uniq"
   ]
  },
  {
   "cell_type": "markdown",
   "id": "c7a2cb27",
   "metadata": {},
   "source": [
    "Helper functions (specific to notebook(s))"
   ]
  },
  {
   "cell_type": "code",
   "execution_count": 13,
   "id": "9913cc6f",
   "metadata": {},
   "outputs": [],
   "source": [
    "def read_df(input_df):\n",
    "    print(f\"Reading input dataframe from '{input_df}'...\")\n",
    "    df = pd.read_parquet(input_df)\n",
    "    print(f\"{df.shape[0]} elems\")\n",
    "    df = df.drop_duplicates()\n",
    "    print(f\"{df.shape[0]} width duplicates dropped\")\n",
    "    return df"
   ]
  },
  {
   "cell_type": "markdown",
   "id": "c0acf0c2",
   "metadata": {},
   "source": [
    "## Read data"
   ]
  },
  {
   "cell_type": "code",
   "execution_count": 14,
   "id": "f897f4de",
   "metadata": {},
   "outputs": [],
   "source": [
    "DATA_PREFIX=\"~jnareb/echoes_of_vulnerabilities_code/data/\""
   ]
  },
  {
   "cell_type": "code",
   "execution_count": 15,
   "id": "2a89db4c",
   "metadata": {},
   "outputs": [
    {
     "name": "stdout",
     "output_type": "stream",
     "text": [
      "Reading input dataframe from '~jnareb/echoes_of_vulnerabilities_code/data/cve_survival_input_df'...\n",
      "287884 elems\n",
      "287884 width duplicates dropped\n"
     ]
    }
   ],
   "source": [
    "df = read_df(DATA_PREFIX + \"cve_survival_input_df\")"
   ]
  },
  {
   "cell_type": "code",
   "execution_count": 16,
   "id": "92dae6e7",
   "metadata": {},
   "outputs": [
    {
     "data": {
      "text/html": [
       "<div>\n",
       "<style scoped>\n",
       "    .dataframe tbody tr th:only-of-type {\n",
       "        vertical-align: middle;\n",
       "    }\n",
       "\n",
       "    .dataframe tbody tr th {\n",
       "        vertical-align: top;\n",
       "    }\n",
       "\n",
       "    .dataframe thead th {\n",
       "        text-align: right;\n",
       "    }\n",
       "</style>\n",
       "<table border=\"1\" class=\"dataframe\">\n",
       "  <thead>\n",
       "    <tr style=\"text-align: right;\">\n",
       "      <th></th>\n",
       "      <th>commit_cves</th>\n",
       "      <th>project_names</th>\n",
       "      <th>commits</th>\n",
       "      <th>used_dep_manager</th>\n",
       "      <th>cve_lifespan_commiter_time</th>\n",
       "      <th>cve_lifespan_author_time</th>\n",
       "      <th>embargo_min</th>\n",
       "      <th>embargo_max</th>\n",
       "      <th>lang_Shell</th>\n",
       "      <th>other_languages</th>\n",
       "      <th>...</th>\n",
       "      <th>LatestCommitDate</th>\n",
       "      <th>NumActiveMon</th>\n",
       "      <th>NumAuthors</th>\n",
       "      <th>NumCore</th>\n",
       "      <th>CommunitySize</th>\n",
       "      <th>NumCommits</th>\n",
       "      <th>NumBlobs</th>\n",
       "      <th>NumFiles</th>\n",
       "      <th>NumForks</th>\n",
       "      <th>NumStars</th>\n",
       "    </tr>\n",
       "  </thead>\n",
       "  <tbody>\n",
       "    <tr>\n",
       "      <th>0</th>\n",
       "      <td>CVE-2002-0429</td>\n",
       "      <td>bitbucket.org_cagney_netbsd</td>\n",
       "      <td>1</td>\n",
       "      <td>0</td>\n",
       "      <td>4791 days 06:33:58</td>\n",
       "      <td>4791 days 06:33:58</td>\n",
       "      <td>False</td>\n",
       "      <td>False</td>\n",
       "      <td>1512.0</td>\n",
       "      <td>58463.0</td>\n",
       "      <td>...</td>\n",
       "      <td>2015-09-25 13:47:53+00:00</td>\n",
       "      <td>2</td>\n",
       "      <td>2</td>\n",
       "      <td>1</td>\n",
       "      <td>2</td>\n",
       "      <td>22</td>\n",
       "      <td>137167</td>\n",
       "      <td>144273</td>\n",
       "      <td>0</td>\n",
       "      <td>&lt;NA&gt;</td>\n",
       "    </tr>\n",
       "    <tr>\n",
       "      <th>1</th>\n",
       "      <td>CVE-2002-0429</td>\n",
       "      <td>bitbucket.org_cagney_netbsd</td>\n",
       "      <td>1</td>\n",
       "      <td>0</td>\n",
       "      <td>4791 days 06:33:58</td>\n",
       "      <td>4791 days 06:33:58</td>\n",
       "      <td>False</td>\n",
       "      <td>False</td>\n",
       "      <td>1512.0</td>\n",
       "      <td>58463.0</td>\n",
       "      <td>...</td>\n",
       "      <td>2015-09-25 13:47:53+00:00</td>\n",
       "      <td>2</td>\n",
       "      <td>2</td>\n",
       "      <td>1</td>\n",
       "      <td>2</td>\n",
       "      <td>22</td>\n",
       "      <td>137167</td>\n",
       "      <td>144273</td>\n",
       "      <td>0</td>\n",
       "      <td>&lt;NA&gt;</td>\n",
       "    </tr>\n",
       "    <tr>\n",
       "      <th>2</th>\n",
       "      <td>CVE-2002-0429</td>\n",
       "      <td>IIJ-NetBSD_netbsd-src</td>\n",
       "      <td>1</td>\n",
       "      <td>0</td>\n",
       "      <td>577 days 02:42:04</td>\n",
       "      <td>577 days 02:42:04</td>\n",
       "      <td>False</td>\n",
       "      <td>False</td>\n",
       "      <td>0.0</td>\n",
       "      <td>0.0</td>\n",
       "      <td>...</td>\n",
       "      <td>2021-03-12 04:57:42+00:00</td>\n",
       "      <td>338</td>\n",
       "      <td>470</td>\n",
       "      <td>72</td>\n",
       "      <td>83</td>\n",
       "      <td>310763</td>\n",
       "      <td>1496164</td>\n",
       "      <td>466280</td>\n",
       "      <td>81</td>\n",
       "      <td>164</td>\n",
       "    </tr>\n",
       "    <tr>\n",
       "      <th>3</th>\n",
       "      <td>CVE-2002-0429</td>\n",
       "      <td>NetBSD_src</td>\n",
       "      <td>22</td>\n",
       "      <td>0</td>\n",
       "      <td>577 days 02:42:04</td>\n",
       "      <td>577 days 02:42:04</td>\n",
       "      <td>False</td>\n",
       "      <td>False</td>\n",
       "      <td>0.0</td>\n",
       "      <td>0.0</td>\n",
       "      <td>...</td>\n",
       "      <td>2021-09-09 15:00:01+00:00</td>\n",
       "      <td>344</td>\n",
       "      <td>708</td>\n",
       "      <td>95</td>\n",
       "      <td>224</td>\n",
       "      <td>6250114</td>\n",
       "      <td>2303243</td>\n",
       "      <td>597353</td>\n",
       "      <td>230</td>\n",
       "      <td>514</td>\n",
       "    </tr>\n",
       "    <tr>\n",
       "      <th>4</th>\n",
       "      <td>CVE-2002-0429</td>\n",
       "      <td>bitbucket.org_cagney_netbsd</td>\n",
       "      <td>1</td>\n",
       "      <td>0</td>\n",
       "      <td>4791 days 06:33:58</td>\n",
       "      <td>4791 days 06:33:58</td>\n",
       "      <td>False</td>\n",
       "      <td>False</td>\n",
       "      <td>1512.0</td>\n",
       "      <td>58463.0</td>\n",
       "      <td>...</td>\n",
       "      <td>2015-09-25 13:47:53+00:00</td>\n",
       "      <td>2</td>\n",
       "      <td>2</td>\n",
       "      <td>1</td>\n",
       "      <td>2</td>\n",
       "      <td>22</td>\n",
       "      <td>137167</td>\n",
       "      <td>144273</td>\n",
       "      <td>0</td>\n",
       "      <td>&lt;NA&gt;</td>\n",
       "    </tr>\n",
       "  </tbody>\n",
       "</table>\n",
       "<p>5 rows × 46 columns</p>\n",
       "</div>"
      ],
      "text/plain": [
       "     commit_cves                project_names  commits  used_dep_manager  \\\n",
       "0  CVE-2002-0429  bitbucket.org_cagney_netbsd        1                 0   \n",
       "1  CVE-2002-0429  bitbucket.org_cagney_netbsd        1                 0   \n",
       "2  CVE-2002-0429        IIJ-NetBSD_netbsd-src        1                 0   \n",
       "3  CVE-2002-0429                   NetBSD_src       22                 0   \n",
       "4  CVE-2002-0429  bitbucket.org_cagney_netbsd        1                 0   \n",
       "\n",
       "  cve_lifespan_commiter_time cve_lifespan_author_time  embargo_min  \\\n",
       "0         4791 days 06:33:58       4791 days 06:33:58        False   \n",
       "1         4791 days 06:33:58       4791 days 06:33:58        False   \n",
       "2          577 days 02:42:04        577 days 02:42:04        False   \n",
       "3          577 days 02:42:04        577 days 02:42:04        False   \n",
       "4         4791 days 06:33:58       4791 days 06:33:58        False   \n",
       "\n",
       "   embargo_max  lang_Shell  other_languages  ...          LatestCommitDate  \\\n",
       "0        False      1512.0          58463.0  ... 2015-09-25 13:47:53+00:00   \n",
       "1        False      1512.0          58463.0  ... 2015-09-25 13:47:53+00:00   \n",
       "2        False         0.0              0.0  ... 2021-03-12 04:57:42+00:00   \n",
       "3        False         0.0              0.0  ... 2021-09-09 15:00:01+00:00   \n",
       "4        False      1512.0          58463.0  ... 2015-09-25 13:47:53+00:00   \n",
       "\n",
       "   NumActiveMon  NumAuthors NumCore  CommunitySize NumCommits  NumBlobs  \\\n",
       "0             2           2       1              2         22    137167   \n",
       "1             2           2       1              2         22    137167   \n",
       "2           338         470      72             83     310763   1496164   \n",
       "3           344         708      95            224    6250114   2303243   \n",
       "4             2           2       1              2         22    137167   \n",
       "\n",
       "  NumFiles  NumForks NumStars  \n",
       "0   144273         0     <NA>  \n",
       "1   144273         0     <NA>  \n",
       "2   466280        81      164  \n",
       "3   597353       230      514  \n",
       "4   144273         0     <NA>  \n",
       "\n",
       "[5 rows x 46 columns]"
      ]
     },
     "execution_count": 16,
     "metadata": {},
     "output_type": "execute_result"
    }
   ],
   "source": [
    "df.head()"
   ]
  },
  {
   "cell_type": "markdown",
   "id": "2d595185",
   "metadata": {},
   "source": [
    "### Exploration"
   ]
  },
  {
   "cell_type": "code",
   "execution_count": 17,
   "id": "6394e19f",
   "metadata": {},
   "outputs": [
    {
     "name": "stdout",
     "output_type": "stream",
     "text": [
      "<class 'pandas.core.frame.DataFrame'>\n",
      "Int64Index: 287884 entries, 0 to 287883\n",
      "Data columns (total 46 columns):\n",
      " #   Column                           Non-Null Count   Dtype              \n",
      "---  ------                           --------------   -----              \n",
      " 0   commit_cves                      287884 non-null  object             \n",
      " 1   project_names                    287884 non-null  object             \n",
      " 2   commits                          287884 non-null  int64              \n",
      " 3   used_dep_manager                 287884 non-null  int64              \n",
      " 4   cve_lifespan_commiter_time       287884 non-null  timedelta64[ns]    \n",
      " 5   cve_lifespan_author_time         287884 non-null  timedelta64[ns]    \n",
      " 6   embargo_min                      287884 non-null  bool               \n",
      " 7   embargo_max                      287884 non-null  bool               \n",
      " 8   lang_Shell                       287884 non-null  float64            \n",
      " 9   other_languages                  287884 non-null  float64            \n",
      " 10  variable                         287884 non-null  object             \n",
      " 11  value                            287884 non-null  float64            \n",
      " 12  programming_paradigm             287884 non-null  int64              \n",
      " 13  Programming paradigm             287884 non-null  category           \n",
      " 14  compilation_class                287884 non-null  int64              \n",
      " 15  Compilation class                287884 non-null  category           \n",
      " 16  type_class                       287884 non-null  int64              \n",
      " 17  Type class                       287884 non-null  category           \n",
      " 18  memory_model                     287884 non-null  int64              \n",
      " 19  Memory model                     287884 non-null  category           \n",
      " 20  extended_programming_paradigm    287884 non-null  int64              \n",
      " 21  Programming paradigm (extended)  287884 non-null  category           \n",
      " 22  cve                              287884 non-null  object             \n",
      " 23  cvss                             286848 non-null  Float64            \n",
      " 24  cwe                              286848 non-null  string             \n",
      " 25  cvss-vector                      286848 non-null  string             \n",
      " 26  access.authentication            286848 non-null  category           \n",
      " 27  access.complexity                286848 non-null  category           \n",
      " 28  access.vector                    286848 non-null  category           \n",
      " 29  impact.availability              286848 non-null  category           \n",
      " 30  impact.confidentiality           286848 non-null  category           \n",
      " 31  impact.integrity                 286848 non-null  category           \n",
      " 32  CVSS v2.0 Ratings                286848 non-null  category           \n",
      " 33  CVSS v3.1 Ratings                286848 non-null  category           \n",
      " 34  RootFork                         213378 non-null  object             \n",
      " 35  EarliestCommitDate               287884 non-null  datetime64[ns, UTC]\n",
      " 36  LatestCommitDate                 287884 non-null  datetime64[ns, UTC]\n",
      " 37  NumActiveMon                     287884 non-null  Int64              \n",
      " 38  NumAuthors                       287040 non-null  Int64              \n",
      " 39  NumCore                          287040 non-null  Int64              \n",
      " 40  CommunitySize                    287876 non-null  Int64              \n",
      " 41  NumCommits                       287595 non-null  Int64              \n",
      " 42  NumBlobs                         287884 non-null  Int64              \n",
      " 43  NumFiles                         287884 non-null  Int64              \n",
      " 44  NumForks                         287876 non-null  Int64              \n",
      " 45  NumStars                         228169 non-null  Int64              \n",
      "dtypes: Float64(1), Int64(9), bool(2), category(13), datetime64[ns, UTC](2), float64(3), int64(7), object(5), string(2), timedelta64[ns](2)\n",
      "memory usage: 77.1+ MB\n"
     ]
    }
   ],
   "source": [
    "df.info()"
   ]
  },
  {
   "cell_type": "code",
   "execution_count": 18,
   "id": "a671a47f",
   "metadata": {},
   "outputs": [],
   "source": [
    "cve_columns=[\n",
    "    'cve','cvss','cwe','cvss-vector',\n",
    "    'access.authentication','access.complexity','access.vector',\n",
    "    'impact.availability', 'impact.confidentiality', 'impact.integrity',\n",
    "    'CVSS v2.0 Ratings', 'CVSS v3.1 Ratings',\n",
    "]"
   ]
  },
  {
   "cell_type": "code",
   "execution_count": 19,
   "id": "bce97487",
   "metadata": {
    "scrolled": true
   },
   "outputs": [
    {
     "data": {
      "text/plain": [
       "cve                         object\n",
       "cvss                       Float64\n",
       "cwe                         string\n",
       "cvss-vector                 string\n",
       "access.authentication     category\n",
       "access.complexity         category\n",
       "access.vector             category\n",
       "impact.availability       category\n",
       "impact.confidentiality    category\n",
       "impact.integrity          category\n",
       "CVSS v2.0 Ratings         category\n",
       "CVSS v3.1 Ratings         category\n",
       "dtype: object"
      ]
     },
     "execution_count": 19,
     "metadata": {},
     "output_type": "execute_result"
    }
   ],
   "source": [
    "df[cve_columns].dtypes"
   ]
  },
  {
   "cell_type": "code",
   "execution_count": 25,
   "id": "6ec875d2",
   "metadata": {},
   "outputs": [
    {
     "data": {
      "text/plain": [
       "access.authentication     category\n",
       "access.complexity         category\n",
       "access.vector             category\n",
       "impact.availability       category\n",
       "impact.confidentiality    category\n",
       "impact.integrity          category\n",
       "CVSS v2.0 Ratings         category\n",
       "CVSS v3.1 Ratings         category\n",
       "dtype: object"
      ]
     },
     "execution_count": 25,
     "metadata": {},
     "output_type": "execute_result"
    }
   ],
   "source": [
    "cve_columns_categorical = cve_columns[4:]\n",
    "df[cve_columns_categorical].dtypes"
   ]
  },
  {
   "cell_type": "code",
   "execution_count": 20,
   "id": "33c79491",
   "metadata": {
    "scrolled": true
   },
   "outputs": [
    {
     "data": {
      "text/html": [
       "<div>\n",
       "<style scoped>\n",
       "    .dataframe tbody tr th:only-of-type {\n",
       "        vertical-align: middle;\n",
       "    }\n",
       "\n",
       "    .dataframe tbody tr th {\n",
       "        vertical-align: top;\n",
       "    }\n",
       "\n",
       "    .dataframe thead th {\n",
       "        text-align: right;\n",
       "    }\n",
       "</style>\n",
       "<table border=\"1\" class=\"dataframe\">\n",
       "  <thead>\n",
       "    <tr style=\"text-align: right;\">\n",
       "      <th></th>\n",
       "      <th>cvss</th>\n",
       "    </tr>\n",
       "  </thead>\n",
       "  <tbody>\n",
       "    <tr>\n",
       "      <th>count</th>\n",
       "      <td>286848.000000</td>\n",
       "    </tr>\n",
       "    <tr>\n",
       "      <th>mean</th>\n",
       "      <td>5.825607</td>\n",
       "    </tr>\n",
       "    <tr>\n",
       "      <th>std</th>\n",
       "      <td>1.920419</td>\n",
       "    </tr>\n",
       "    <tr>\n",
       "      <th>min</th>\n",
       "      <td>0.000000</td>\n",
       "    </tr>\n",
       "    <tr>\n",
       "      <th>25%</th>\n",
       "      <td>4.300000</td>\n",
       "    </tr>\n",
       "    <tr>\n",
       "      <th>50%</th>\n",
       "      <td>5.000000</td>\n",
       "    </tr>\n",
       "    <tr>\n",
       "      <th>75%</th>\n",
       "      <td>7.200000</td>\n",
       "    </tr>\n",
       "    <tr>\n",
       "      <th>max</th>\n",
       "      <td>10.000000</td>\n",
       "    </tr>\n",
       "  </tbody>\n",
       "</table>\n",
       "</div>"
      ],
      "text/plain": [
       "                cvss\n",
       "count  286848.000000\n",
       "mean        5.825607\n",
       "std         1.920419\n",
       "min         0.000000\n",
       "25%         4.300000\n",
       "50%         5.000000\n",
       "75%         7.200000\n",
       "max        10.000000"
      ]
     },
     "execution_count": 20,
     "metadata": {},
     "output_type": "execute_result"
    }
   ],
   "source": [
    "df[cve_columns].describe()"
   ]
  },
  {
   "cell_type": "code",
   "execution_count": 28,
   "id": "0901a4a1",
   "metadata": {},
   "outputs": [],
   "source": [
    "cve_columns_numeric='cvss'"
   ]
  },
  {
   "cell_type": "code",
   "execution_count": 27,
   "id": "84cad6ed",
   "metadata": {
    "scrolled": true
   },
   "outputs": [
    {
     "data": {
      "text/plain": [
       "NONE        264030\n",
       "SINGLE       22753\n",
       "MULTIPLE        65\n",
       "Name: access.authentication, dtype: int64"
      ]
     },
     "metadata": {},
     "output_type": "display_data"
    },
    {
     "data": {
      "text/plain": [
       "LOW       163390\n",
       "MEDIUM    109497\n",
       "HIGH       13961\n",
       "Name: access.complexity, dtype: int64"
      ]
     },
     "metadata": {},
     "output_type": "display_data"
    },
    {
     "data": {
      "text/plain": [
       "LOCAL                61104\n",
       "ADJACENT_NETWORK      6903\n",
       "NETWORK             218841\n",
       "Name: access.vector, dtype: int64"
      ]
     },
     "metadata": {},
     "output_type": "display_data"
    },
    {
     "data": {
      "text/plain": [
       "NONE         60128\n",
       "PARTIAL     152375\n",
       "COMPLETE     74345\n",
       "Name: impact.availability, dtype: int64"
      ]
     },
     "metadata": {},
     "output_type": "display_data"
    },
    {
     "data": {
      "text/plain": [
       "NONE        117644\n",
       "PARTIAL     117690\n",
       "COMPLETE     51514\n",
       "Name: impact.confidentiality, dtype: int64"
      ]
     },
     "metadata": {},
     "output_type": "display_data"
    },
    {
     "data": {
      "text/plain": [
       "NONE        125189\n",
       "PARTIAL     112369\n",
       "COMPLETE     49290\n",
       "Name: impact.integrity, dtype: int64"
      ]
     },
     "metadata": {},
     "output_type": "display_data"
    },
    {
     "data": {
      "text/plain": [
       "Low        27433\n",
       "Medium    173580\n",
       "High       85835\n",
       "Name: CVSS v2.0 Ratings, dtype: int64"
      ]
     },
     "metadata": {},
     "output_type": "display_data"
    },
    {
     "data": {
      "text/plain": [
       "None            10\n",
       "Low          27423\n",
       "Medium      173580\n",
       "High         61327\n",
       "Critical     24508\n",
       "Name: CVSS v3.1 Ratings, dtype: int64"
      ]
     },
     "metadata": {},
     "output_type": "display_data"
    }
   ],
   "source": [
    "for column in cve_columns_categorical:\n",
    "    display(df[column].value_counts().sort_index())"
   ]
  },
  {
   "cell_type": "markdown",
   "id": "a364120f",
   "metadata": {},
   "source": [
    "### Adding survival analysis-related columns"
   ]
  },
  {
   "cell_type": "code",
   "execution_count": 29,
   "id": "77c05795",
   "metadata": {},
   "outputs": [],
   "source": [
    "df['E'] = True\n",
    "df['Y']=df['cve_lifespan_commiter_time'].dt.days"
   ]
  },
  {
   "cell_type": "code",
   "execution_count": 30,
   "id": "81110a2f",
   "metadata": {},
   "outputs": [
    {
     "data": {
      "text/html": [
       "<div>\n",
       "<style scoped>\n",
       "    .dataframe tbody tr th:only-of-type {\n",
       "        vertical-align: middle;\n",
       "    }\n",
       "\n",
       "    .dataframe tbody tr th {\n",
       "        vertical-align: top;\n",
       "    }\n",
       "\n",
       "    .dataframe thead th {\n",
       "        text-align: right;\n",
       "    }\n",
       "</style>\n",
       "<table border=\"1\" class=\"dataframe\">\n",
       "  <thead>\n",
       "    <tr style=\"text-align: right;\">\n",
       "      <th></th>\n",
       "      <th>Y</th>\n",
       "    </tr>\n",
       "  </thead>\n",
       "  <tbody>\n",
       "    <tr>\n",
       "      <th>count</th>\n",
       "      <td>287884.000000</td>\n",
       "    </tr>\n",
       "    <tr>\n",
       "      <th>mean</th>\n",
       "      <td>804.992702</td>\n",
       "    </tr>\n",
       "    <tr>\n",
       "      <th>std</th>\n",
       "      <td>1079.697016</td>\n",
       "    </tr>\n",
       "    <tr>\n",
       "      <th>min</th>\n",
       "      <td>0.000000</td>\n",
       "    </tr>\n",
       "    <tr>\n",
       "      <th>25%</th>\n",
       "      <td>49.000000</td>\n",
       "    </tr>\n",
       "    <tr>\n",
       "      <th>50%</th>\n",
       "      <td>368.000000</td>\n",
       "    </tr>\n",
       "    <tr>\n",
       "      <th>75%</th>\n",
       "      <td>1151.000000</td>\n",
       "    </tr>\n",
       "    <tr>\n",
       "      <th>max</th>\n",
       "      <td>8019.000000</td>\n",
       "    </tr>\n",
       "  </tbody>\n",
       "</table>\n",
       "</div>"
      ],
      "text/plain": [
       "                   Y\n",
       "count  287884.000000\n",
       "mean      804.992702\n",
       "std      1079.697016\n",
       "min         0.000000\n",
       "25%        49.000000\n",
       "50%       368.000000\n",
       "75%      1151.000000\n",
       "max      8019.000000"
      ]
     },
     "execution_count": 30,
     "metadata": {},
     "output_type": "execute_result"
    }
   ],
   "source": [
    "df[['Y','E']].describe()"
   ]
  },
  {
   "cell_type": "markdown",
   "id": "30e9fc3c",
   "metadata": {},
   "source": [
    "### Filtering"
   ]
  },
  {
   "cell_type": "markdown",
   "id": "8c69511c",
   "metadata": {},
   "source": [
    "Limit to lifetime < 365 days"
   ]
  },
  {
   "cell_type": "code",
   "execution_count": 31,
   "id": "afb04b76",
   "metadata": {},
   "outputs": [],
   "source": [
    "df_full=df.copy() # original unfiltered version\n",
    "df=df[df['Y'] <= 365]"
   ]
  },
  {
   "cell_type": "code",
   "execution_count": 32,
   "id": "5400b4d6",
   "metadata": {},
   "outputs": [
    {
     "data": {
      "text/html": [
       "<div>\n",
       "<style scoped>\n",
       "    .dataframe tbody tr th:only-of-type {\n",
       "        vertical-align: middle;\n",
       "    }\n",
       "\n",
       "    .dataframe tbody tr th {\n",
       "        vertical-align: top;\n",
       "    }\n",
       "\n",
       "    .dataframe thead th {\n",
       "        text-align: right;\n",
       "    }\n",
       "</style>\n",
       "<table border=\"1\" class=\"dataframe\">\n",
       "  <thead>\n",
       "    <tr style=\"text-align: right;\">\n",
       "      <th></th>\n",
       "      <th>Y</th>\n",
       "    </tr>\n",
       "  </thead>\n",
       "  <tbody>\n",
       "    <tr>\n",
       "      <th>count</th>\n",
       "      <td>287884.000000</td>\n",
       "    </tr>\n",
       "    <tr>\n",
       "      <th>mean</th>\n",
       "      <td>804.992702</td>\n",
       "    </tr>\n",
       "    <tr>\n",
       "      <th>std</th>\n",
       "      <td>1079.697016</td>\n",
       "    </tr>\n",
       "    <tr>\n",
       "      <th>min</th>\n",
       "      <td>0.000000</td>\n",
       "    </tr>\n",
       "    <tr>\n",
       "      <th>25%</th>\n",
       "      <td>49.000000</td>\n",
       "    </tr>\n",
       "    <tr>\n",
       "      <th>50%</th>\n",
       "      <td>368.000000</td>\n",
       "    </tr>\n",
       "    <tr>\n",
       "      <th>75%</th>\n",
       "      <td>1151.000000</td>\n",
       "    </tr>\n",
       "    <tr>\n",
       "      <th>max</th>\n",
       "      <td>8019.000000</td>\n",
       "    </tr>\n",
       "  </tbody>\n",
       "</table>\n",
       "</div>"
      ],
      "text/plain": [
       "                   Y\n",
       "count  287884.000000\n",
       "mean      804.992702\n",
       "std      1079.697016\n",
       "min         0.000000\n",
       "25%        49.000000\n",
       "50%       368.000000\n",
       "75%      1151.000000\n",
       "max      8019.000000"
      ]
     },
     "execution_count": 32,
     "metadata": {},
     "output_type": "execute_result"
    }
   ],
   "source": [
    "df_full[['Y','E']].describe()"
   ]
  },
  {
   "cell_type": "code",
   "execution_count": 33,
   "id": "c240ce46",
   "metadata": {},
   "outputs": [
    {
     "data": {
      "text/html": [
       "<div>\n",
       "<style scoped>\n",
       "    .dataframe tbody tr th:only-of-type {\n",
       "        vertical-align: middle;\n",
       "    }\n",
       "\n",
       "    .dataframe tbody tr th {\n",
       "        vertical-align: top;\n",
       "    }\n",
       "\n",
       "    .dataframe thead th {\n",
       "        text-align: right;\n",
       "    }\n",
       "</style>\n",
       "<table border=\"1\" class=\"dataframe\">\n",
       "  <thead>\n",
       "    <tr style=\"text-align: right;\">\n",
       "      <th></th>\n",
       "      <th>Y</th>\n",
       "    </tr>\n",
       "  </thead>\n",
       "  <tbody>\n",
       "    <tr>\n",
       "      <th>count</th>\n",
       "      <td>143486.000000</td>\n",
       "    </tr>\n",
       "    <tr>\n",
       "      <th>mean</th>\n",
       "      <td>92.666964</td>\n",
       "    </tr>\n",
       "    <tr>\n",
       "      <th>std</th>\n",
       "      <td>103.068081</td>\n",
       "    </tr>\n",
       "    <tr>\n",
       "      <th>min</th>\n",
       "      <td>0.000000</td>\n",
       "    </tr>\n",
       "    <tr>\n",
       "      <th>25%</th>\n",
       "      <td>9.000000</td>\n",
       "    </tr>\n",
       "    <tr>\n",
       "      <th>50%</th>\n",
       "      <td>49.000000</td>\n",
       "    </tr>\n",
       "    <tr>\n",
       "      <th>75%</th>\n",
       "      <td>154.000000</td>\n",
       "    </tr>\n",
       "    <tr>\n",
       "      <th>max</th>\n",
       "      <td>365.000000</td>\n",
       "    </tr>\n",
       "  </tbody>\n",
       "</table>\n",
       "</div>"
      ],
      "text/plain": [
       "                   Y\n",
       "count  143486.000000\n",
       "mean       92.666964\n",
       "std       103.068081\n",
       "min         0.000000\n",
       "25%         9.000000\n",
       "50%        49.000000\n",
       "75%       154.000000\n",
       "max       365.000000"
      ]
     },
     "execution_count": 33,
     "metadata": {},
     "output_type": "execute_result"
    }
   ],
   "source": [
    "df[['Y','E']].describe()"
   ]
  },
  {
   "cell_type": "markdown",
   "id": "e1805325",
   "metadata": {},
   "source": [
    "Checking embargo-related columns"
   ]
  },
  {
   "cell_type": "code",
   "execution_count": 34,
   "id": "7565e4cf",
   "metadata": {},
   "outputs": [
    {
     "data": {
      "text/plain": [
       "False"
      ]
     },
     "execution_count": 34,
     "metadata": {},
     "output_type": "execute_result"
    }
   ],
   "source": [
    "True < False"
   ]
  },
  {
   "cell_type": "code",
   "execution_count": 35,
   "id": "fe44981b",
   "metadata": {},
   "outputs": [
    {
     "data": {
      "text/plain": [
       "False    143486\n",
       "dtype: int64"
      ]
     },
     "execution_count": 35,
     "metadata": {},
     "output_type": "execute_result"
    }
   ],
   "source": [
    "(df['embargo_min'] < df['embargo_max']).value_counts()"
   ]
  },
  {
   "cell_type": "markdown",
   "id": "6eaf10c3",
   "metadata": {},
   "source": [
    "## Analysis"
   ]
  },
  {
   "cell_type": "code",
   "execution_count": 36,
   "id": "63b4a6f0",
   "metadata": {},
   "outputs": [
    {
     "data": {
      "text/plain": [
       "['cve',\n",
       " 'cvss',\n",
       " 'cwe',\n",
       " 'cvss-vector',\n",
       " 'access.authentication',\n",
       " 'access.complexity',\n",
       " 'access.vector',\n",
       " 'impact.availability',\n",
       " 'impact.confidentiality',\n",
       " 'impact.integrity',\n",
       " 'CVSS v2.0 Ratings',\n",
       " 'CVSS v3.1 Ratings']"
      ]
     },
     "execution_count": 36,
     "metadata": {},
     "output_type": "execute_result"
    }
   ],
   "source": [
    "cve_columns"
   ]
  },
  {
   "cell_type": "markdown",
   "id": "5f6fdb07",
   "metadata": {},
   "source": [
    "CVE columns to analyze\n",
    "- CVSS (Common Vulnerability Scoring System)\n",
    "    - [ ] CVSS\n",
    "    - [ ] CVSS v2.0 Ratings\n",
    "    - [ ] CVSS v3.1 Ratings\n",
    "- access.\\*\n",
    "    - [ ] access.authentication,\n",
    "    - [ ] access.complexity,\n",
    "    - [ ] access.vector,\n",
    "- impact.\\* (same categories) \n",
    "    - [ ] impact.availability,\n",
    "    - [ ] impact.confidentiality,\n",
    "    - [ ] impact.integrity"
   ]
  },
  {
   "cell_type": "code",
   "execution_count": 37,
   "id": "8d37bfbd",
   "metadata": {},
   "outputs": [],
   "source": [
    "results_summary={}"
   ]
  },
  {
   "cell_type": "markdown",
   "id": "e17da31b",
   "metadata": {},
   "source": [
    "### CVSS"
   ]
  },
  {
   "cell_type": "code",
   "execution_count": 38,
   "id": "6fa33998",
   "metadata": {},
   "outputs": [
    {
     "data": {
      "text/plain": [
       "<AxesSubplot: ylabel='Count'>"
      ]
     },
     "execution_count": 38,
     "metadata": {},
     "output_type": "execute_result"
    },
    {
     "data": {
      "image/png": "[encoded data removed]",
      "text/plain": [
       "<Figure size 432x288 with 1 Axes>"
      ]
     },
     "metadata": {
      "needs_background": "light"
     },
     "output_type": "display_data"
    }
   ],
   "source": [
    "sns.histplot(data=df[['cvss']].dropna())"
   ]
  },
  {
   "cell_type": "code",
   "execution_count": 43,
   "id": "53b4c566",
   "metadata": {},
   "outputs": [
    {
     "name": "stdout",
     "output_type": "stream",
     "text": [
      "<class 'pandas.core.frame.DataFrame'>\n",
      "Int64Index: 143060 entries, 36 to 287883\n",
      "Data columns (total 1 columns):\n",
      " #   Column  Non-Null Count   Dtype  \n",
      "---  ------  --------------   -----  \n",
      " 0   cvss    143060 non-null  Float64\n",
      "dtypes: Float64(1)\n",
      "memory usage: 2.3 MB\n"
     ]
    }
   ],
   "source": [
    "df[['cvss']].dropna().info()"
   ]
  },
  {
   "cell_type": "code",
   "execution_count": 48,
   "id": "1ae51782",
   "metadata": {},
   "outputs": [
    {
     "name": "stderr",
     "output_type": "stream",
     "text": [
      "/usr/local/lib/python3.10/dist-packages/seaborn/distributions.py:499: FutureWarning: In a future version, the Index constructor will not infer numeric dtypes when passed object-dtype sequences (matching Series behavior)\n",
      "  pd.Index(edges, name=\"edges\"),\n",
      "/usr/local/lib/python3.10/dist-packages/seaborn/distributions.py:500: FutureWarning: In a future version, the Index constructor will not infer numeric dtypes when passed object-dtype sequences (matching Series behavior)\n",
      "  pd.Index(widths, name=\"widths\"),\n"
     ]
    },
    {
     "data": {
      "text/plain": [
       "<seaborn.axisgrid.FacetGrid at 0x7f66ebdabe20>"
      ]
     },
     "execution_count": 48,
     "metadata": {},
     "output_type": "execute_result"
    },
    {
     "data": {
      "image/png": "[encoded data removed]",
      "text/plain": [
       "<Figure size 360x360 with 1 Axes>"
      ]
     },
     "metadata": {
      "needs_background": "light"
     },
     "output_type": "display_data"
    }
   ],
   "source": [
    "sns.displot(df,x='cvss')"
   ]
  },
  {
   "cell_type": "code",
   "execution_count": 53,
   "id": "e7a8583b",
   "metadata": {},
   "outputs": [
    {
     "data": {
      "text/plain": [
       "<AxesSubplot: ylabel='Density'>"
      ]
     },
     "execution_count": 53,
     "metadata": {},
     "output_type": "execute_result"
    },
    {
     "data": {
      "image/png": "[encoded data removed]",
      "text/plain": [
       "<Figure size 432x288 with 1 Axes>"
      ]
     },
     "metadata": {
      "needs_background": "light"
     },
     "output_type": "display_data"
    }
   ],
   "source": [
    "df['cvss'].dropna().plot.kde(ind=np.linspace(0,10))"
   ]
  },
  {
   "cell_type": "code",
   "execution_count": 54,
   "id": "5ac1f1c6",
   "metadata": {},
   "outputs": [
    {
     "data": {
      "text/plain": [
       "<AxesSubplot: xlabel='cvss', ylabel='Y'>"
      ]
     },
     "execution_count": 54,
     "metadata": {},
     "output_type": "execute_result"
    },
    {
     "data": {
      "image/png": "[encoded data removed]",
      "text/plain": [
       "<Figure size 432x288 with 1 Axes>"
      ]
     },
     "metadata": {
      "needs_background": "light"
     },
     "output_type": "display_data"
    }
   ],
   "source": [
    "sns.scatterplot(data=df, x='cvss', y='Y', hue='embargo_max')"
   ]
  },
  {
   "cell_type": "markdown",
   "id": "5b0a70ac",
   "metadata": {},
   "source": [
    "#### CVSS v2.0 Ratings"
   ]
  },
  {
   "cell_type": "code",
   "execution_count": 56,
   "id": "2df75f7b",
   "metadata": {},
   "outputs": [
    {
     "data": {
      "text/plain": [
       "['access.authentication',\n",
       " 'access.complexity',\n",
       " 'access.vector',\n",
       " 'impact.availability',\n",
       " 'impact.confidentiality',\n",
       " 'impact.integrity',\n",
       " 'CVSS v2.0 Ratings',\n",
       " 'CVSS v3.1 Ratings']"
      ]
     },
     "execution_count": 56,
     "metadata": {},
     "output_type": "execute_result"
    }
   ],
   "source": [
    "cve_columns_categorical"
   ]
  },
  {
   "cell_type": "code",
   "execution_count": 59,
   "id": "50448c1d",
   "metadata": {},
   "outputs": [],
   "source": [
    "column_name='CVSS v2.0 Ratings'\n",
    "column_cut=column_name"
   ]
  },
  {
   "cell_type": "code",
   "execution_count": 61,
   "id": "2a70fc66",
   "metadata": {},
   "outputs": [
    {
     "data": {
      "text/plain": [
       "CVSS v2.0 Ratings\n",
       "Low       13947\n",
       "Medium    87935\n",
       "High      41178\n",
       "dtype: int64"
      ]
     },
     "metadata": {},
     "output_type": "display_data"
    },
    {
     "data": {
      "text/plain": [
       "<AxesSubplot: xlabel='CVSS v2.0 Ratings', ylabel='CVE+project'>"
      ]
     },
     "execution_count": 61,
     "metadata": {},
     "output_type": "execute_result"
    },
    {
     "data": {
      "image/png": "[encoded data removed]",
      "text/plain": [
       "<Figure size 432x288 with 1 Axes>"
      ]
     },
     "metadata": {
      "needs_background": "light"
     },
     "output_type": "display_data"
    }
   ],
   "source": [
    "display(df.value_counts(column_cut).sort_index())\n",
    "\n",
    "df.value_counts(column_cut).sort_index().plot.bar(ylabel='CVE+project')"
   ]
  },
  {
   "cell_type": "code",
   "execution_count": 62,
   "id": "7fe8078c",
   "metadata": {},
   "outputs": [
    {
     "data": {
      "text/plain": [
       "{0: 'Low', 1: 'Medium', 2: 'High'}"
      ]
     },
     "metadata": {},
     "output_type": "display_data"
    }
   ],
   "source": [
    "ranking_list = create_values_ranking_list(df[column_cut], df[column_cut].dtype)\n",
    "(values_hash, values_names) = values_ranking_hashes(ranking_list)\n",
    "\n",
    "#display(ranking_list)\n",
    "#display(values_hash)\n",
    "display(values_names)"
   ]
  },
  {
   "cell_type": "code",
   "execution_count": 63,
   "id": "6f6c604e",
   "metadata": {},
   "outputs": [
    {
     "name": "stderr",
     "output_type": "stream",
     "text": [
      "all = 143486, selected = 143060, uncensored = 143060\n",
      "Computing 50 × bootstrap Dxy for 143060 elements...\n",
      "Computing confidence interval from 50 samples...\n"
     ]
    },
    {
     "name": "stdout",
     "output_type": "stream",
     "text": [
      "{\n",
      "    \"Cohort\": 143486,\n",
      "    \"Number of patients\": 143060.0,\n",
      "    \"% of cohort\": 99.70310692332353,\n",
      "    \"Survival days, median\": 49.0,\n",
      "    \"Survival years, median\": 0.13424657534246576,\n",
      "    \"Dxy (full)\": -0.030858974019679186,\n",
      "    \"bootstrap\": {\n",
      "        \"Dxy\": -0.031116439031101,\n",
      "        \"Confidence interval low\": -0.03151118258013961,\n",
      "        \"Confidence interval high\": -0.030721695482062387,\n",
      "        \"confidence threshold %\": 95.0,\n",
      "        \"bootstrap samples\": 50\n",
      "    }\n",
      "}\n"
     ]
    },
    {
     "name": "stderr",
     "output_type": "stream",
     "text": [
      "Computing descriptive statistics like mean, median, etc....\n"
     ]
    },
    {
     "data": {
      "text/html": [
       "<div>\n",
       "<style scoped>\n",
       "    .dataframe tbody tr th:only-of-type {\n",
       "        vertical-align: middle;\n",
       "    }\n",
       "\n",
       "    .dataframe tbody tr th {\n",
       "        vertical-align: top;\n",
       "    }\n",
       "\n",
       "    .dataframe thead th {\n",
       "        text-align: right;\n",
       "    }\n",
       "</style>\n",
       "<table border=\"1\" class=\"dataframe\">\n",
       "  <thead>\n",
       "    <tr style=\"text-align: right;\">\n",
       "      <th></th>\n",
       "      <th>count</th>\n",
       "      <th>median</th>\n",
       "      <th>min</th>\n",
       "      <th>25%</th>\n",
       "      <th>75%</th>\n",
       "      <th>max</th>\n",
       "      <th>mean</th>\n",
       "      <th>std</th>\n",
       "      <th>skew</th>\n",
       "    </tr>\n",
       "    <tr>\n",
       "      <th>CVSS v2.0 Ratings</th>\n",
       "      <th></th>\n",
       "      <th></th>\n",
       "      <th></th>\n",
       "      <th></th>\n",
       "      <th></th>\n",
       "      <th></th>\n",
       "      <th></th>\n",
       "      <th></th>\n",
       "      <th></th>\n",
       "    </tr>\n",
       "  </thead>\n",
       "  <tbody>\n",
       "    <tr>\n",
       "      <th>Low</th>\n",
       "      <td>13947</td>\n",
       "      <td>67.0</td>\n",
       "      <td>0</td>\n",
       "      <td>17.0</td>\n",
       "      <td>177.0</td>\n",
       "      <td>365</td>\n",
       "      <td>105.711981</td>\n",
       "      <td>105.131046</td>\n",
       "      <td>0.898061</td>\n",
       "    </tr>\n",
       "    <tr>\n",
       "      <th>Medium</th>\n",
       "      <td>87935</td>\n",
       "      <td>47.0</td>\n",
       "      <td>0</td>\n",
       "      <td>9.0</td>\n",
       "      <td>156.0</td>\n",
       "      <td>365</td>\n",
       "      <td>92.988537</td>\n",
       "      <td>103.696482</td>\n",
       "      <td>1.073268</td>\n",
       "    </tr>\n",
       "    <tr>\n",
       "      <th>High</th>\n",
       "      <td>41178</td>\n",
       "      <td>45.0</td>\n",
       "      <td>0</td>\n",
       "      <td>7.0</td>\n",
       "      <td>139.0</td>\n",
       "      <td>365</td>\n",
       "      <td>87.655423</td>\n",
       "      <td>100.623109</td>\n",
       "      <td>1.157557</td>\n",
       "    </tr>\n",
       "  </tbody>\n",
       "</table>\n",
       "</div>"
      ],
      "text/plain": [
       "                   count  median  min   25%    75%  max        mean  \\\n",
       "CVSS v2.0 Ratings                                                     \n",
       "Low                13947    67.0    0  17.0  177.0  365  105.711981   \n",
       "Medium             87935    47.0    0   9.0  156.0  365   92.988537   \n",
       "High               41178    45.0    0   7.0  139.0  365   87.655423   \n",
       "\n",
       "                          std      skew  \n",
       "CVSS v2.0 Ratings                        \n",
       "Low                105.131046  0.898061  \n",
       "Medium             103.696482  1.073268  \n",
       "High               100.623109  1.157557  "
      ]
     },
     "metadata": {},
     "output_type": "display_data"
    }
   ],
   "source": [
    "df_mask=None\n",
    "f_map = lambda row: f_map_generic(row, column_cut, values_hash)\n",
    "params = {\n",
    "    'bootstrap_samples': 50,\n",
    "    'confidence': 0.95,\n",
    "    'risk_column_name': column_cut,\n",
    "}\n",
    "(ret, groups, ddf) = apply_stats_for_each_value(params, df, f_map, condition_names=values_names, df_mask=df_mask)\n",
    "\n",
    "print(json.dumps(ret, indent=4))\n",
    "display(groups)"
   ]
  },
  {
   "cell_type": "code",
   "execution_count": 64,
   "id": "0d532904",
   "metadata": {},
   "outputs": [],
   "source": [
    "results_summary[column_cut] = {\n",
    "    'cohort': ret['Cohort'],\n",
    "    '% of cohort': ret['% of cohort'],\n",
    "    'Dxy': ret['bootstrap']['Dxy'],\n",
    "    'Dxy_low': ret['bootstrap']['Confidence interval low'],\n",
    "    'Dxy_high': ret['bootstrap']['Confidence interval low'],\n",
    "}"
   ]
  },
  {
   "cell_type": "code",
   "execution_count": 65,
   "id": "0b3c3025",
   "metadata": {},
   "outputs": [
    {
     "data": {
      "image/png": "[encoded data removed]",
      "text/plain": [
       "<Figure size 432x288 with 1 Axes>"
      ]
     },
     "metadata": {
      "needs_background": "light"
     },
     "output_type": "display_data"
    },
    {
     "data": {
      "image/png": "[encoded data removed]",
      "text/plain": [
       "<Figure size 432x288 with 1 Axes>"
      ]
     },
     "metadata": {
      "needs_background": "light"
     },
     "output_type": "display_data"
    },
    {
     "data": {
      "image/png": "[encoded data removed]",
      "text/plain": [
       "<Figure size 432x288 with 1 Axes>"
      ]
     },
     "metadata": {
      "needs_background": "light"
     },
     "output_type": "display_data"
    }
   ],
   "source": [
    "sns.boxplot(data=df, x=\"Y\", y=column_cut)\n",
    "plt.show();\n",
    "sns.boxenplot(data=df, x=\"Y\", y=column_cut)\n",
    "plt.show();\n",
    "sns.violinplot(data=df, x=\"Y\", y=column_cut)\n",
    "plt.show();"
   ]
  },
  {
   "cell_type": "code",
   "execution_count": 66,
   "id": "0b6e694a",
   "metadata": {},
   "outputs": [
    {
     "name": "stdout",
     "output_type": "stream",
     "text": [
      "values_list = dict_keys([0, 1, 2])\n"
     ]
    },
    {
     "data": {
      "image/png": "[encoded data removed]",
      "text/plain": [
       "<Figure size 432x288 with 1 Axes>"
      ]
     },
     "metadata": {
      "needs_background": "light"
     },
     "output_type": "display_data"
    },
    {
     "data": {
      "text/plain": [
       "<Figure size 432x288 with 0 Axes>"
      ]
     },
     "metadata": {},
     "output_type": "display_data"
    }
   ],
   "source": [
    "#print(values_names)\n",
    "#print(values_names.keys())\n",
    "plot_survival_function(params, ddf, condition_names=values_names)"
   ]
  },
  {
   "cell_type": "markdown",
   "id": "6f835e74",
   "metadata": {},
   "source": [
    "#### CVSS v3.1 Ratings"
   ]
  },
  {
   "cell_type": "code",
   "execution_count": 67,
   "id": "b441e012",
   "metadata": {},
   "outputs": [],
   "source": [
    "column_name='CVSS v3.1 Ratings'\n",
    "column_cut=column_name"
   ]
  },
  {
   "cell_type": "code",
   "execution_count": 68,
   "id": "850635d8",
   "metadata": {},
   "outputs": [
    {
     "data": {
      "text/plain": [
       "CVSS v3.1 Ratings\n",
       "None            8\n",
       "Low         13939\n",
       "Medium      87935\n",
       "High        30564\n",
       "Critical    10614\n",
       "dtype: int64"
      ]
     },
     "metadata": {},
     "output_type": "display_data"
    },
    {
     "data": {
      "text/plain": [
       "<AxesSubplot: xlabel='CVSS v3.1 Ratings', ylabel='CVE+project'>"
      ]
     },
     "execution_count": 68,
     "metadata": {},
     "output_type": "execute_result"
    },
    {
     "data": {
      "image/png": "[encoded data removed]",
      "text/plain": [
       "<Figure size 432x288 with 1 Axes>"
      ]
     },
     "metadata": {
      "needs_background": "light"
     },
     "output_type": "display_data"
    }
   ],
   "source": [
    "display(df.value_counts(column_cut).sort_index())\n",
    "\n",
    "df.value_counts(column_cut).sort_index().plot.bar(ylabel='CVE+project')"
   ]
  },
  {
   "cell_type": "code",
   "execution_count": 69,
   "id": "7ea62ea8",
   "metadata": {},
   "outputs": [
    {
     "data": {
      "text/plain": [
       "{0: 'None', 1: 'Low', 2: 'Medium', 3: 'High', 4: 'Critical'}"
      ]
     },
     "metadata": {},
     "output_type": "display_data"
    },
    {
     "name": "stderr",
     "output_type": "stream",
     "text": [
      "all = 143486, selected = 143060, uncensored = 143060\n",
      "Computing 50 × bootstrap Dxy for 143060 elements...\n",
      "Computing confidence interval from 50 samples...\n"
     ]
    },
    {
     "name": "stdout",
     "output_type": "stream",
     "text": [
      "{\n",
      "    \"Cohort\": 143486,\n",
      "    \"Number of patients\": 143060.0,\n",
      "    \"% of cohort\": 99.70310692332353,\n",
      "    \"Survival days, median\": 49.0,\n",
      "    \"Survival years, median\": 0.13424657534246576,\n",
      "    \"Dxy (full)\": -0.034375908202966765,\n",
      "    \"bootstrap\": {\n",
      "        \"Dxy\": -0.0343630099531778,\n",
      "        \"Confidence interval low\": -0.034811831726786514,\n",
      "        \"Confidence interval high\": -0.03391418817956909,\n",
      "        \"confidence threshold %\": 95.0,\n",
      "        \"bootstrap samples\": 50\n",
      "    }\n",
      "}\n"
     ]
    },
    {
     "name": "stderr",
     "output_type": "stream",
     "text": [
      "Computing descriptive statistics like mean, median, etc....\n"
     ]
    },
    {
     "data": {
      "text/html": [
       "<div>\n",
       "<style scoped>\n",
       "    .dataframe tbody tr th:only-of-type {\n",
       "        vertical-align: middle;\n",
       "    }\n",
       "\n",
       "    .dataframe tbody tr th {\n",
       "        vertical-align: top;\n",
       "    }\n",
       "\n",
       "    .dataframe thead th {\n",
       "        text-align: right;\n",
       "    }\n",
       "</style>\n",
       "<table border=\"1\" class=\"dataframe\">\n",
       "  <thead>\n",
       "    <tr style=\"text-align: right;\">\n",
       "      <th></th>\n",
       "      <th>count</th>\n",
       "      <th>median</th>\n",
       "      <th>min</th>\n",
       "      <th>25%</th>\n",
       "      <th>75%</th>\n",
       "      <th>max</th>\n",
       "      <th>mean</th>\n",
       "      <th>std</th>\n",
       "      <th>skew</th>\n",
       "    </tr>\n",
       "    <tr>\n",
       "      <th>CVSS v3.1 Ratings</th>\n",
       "      <th></th>\n",
       "      <th></th>\n",
       "      <th></th>\n",
       "      <th></th>\n",
       "      <th></th>\n",
       "      <th></th>\n",
       "      <th></th>\n",
       "      <th></th>\n",
       "      <th></th>\n",
       "    </tr>\n",
       "  </thead>\n",
       "  <tbody>\n",
       "    <tr>\n",
       "      <th>None</th>\n",
       "      <td>8</td>\n",
       "      <td>17.0</td>\n",
       "      <td>0</td>\n",
       "      <td>5.25</td>\n",
       "      <td>38.75</td>\n",
       "      <td>74</td>\n",
       "      <td>27.000000</td>\n",
       "      <td>30.882265</td>\n",
       "      <td>0.984818</td>\n",
       "    </tr>\n",
       "    <tr>\n",
       "      <th>Low</th>\n",
       "      <td>13939</td>\n",
       "      <td>67.0</td>\n",
       "      <td>0</td>\n",
       "      <td>17.00</td>\n",
       "      <td>177.00</td>\n",
       "      <td>365</td>\n",
       "      <td>105.757156</td>\n",
       "      <td>105.142017</td>\n",
       "      <td>0.897335</td>\n",
       "    </tr>\n",
       "    <tr>\n",
       "      <th>Medium</th>\n",
       "      <td>87935</td>\n",
       "      <td>47.0</td>\n",
       "      <td>0</td>\n",
       "      <td>9.00</td>\n",
       "      <td>156.00</td>\n",
       "      <td>365</td>\n",
       "      <td>92.988537</td>\n",
       "      <td>103.696482</td>\n",
       "      <td>1.073268</td>\n",
       "    </tr>\n",
       "    <tr>\n",
       "      <th>High</th>\n",
       "      <td>30564</td>\n",
       "      <td>49.0</td>\n",
       "      <td>0</td>\n",
       "      <td>8.00</td>\n",
       "      <td>147.00</td>\n",
       "      <td>365</td>\n",
       "      <td>91.493129</td>\n",
       "      <td>102.231952</td>\n",
       "      <td>1.096995</td>\n",
       "    </tr>\n",
       "    <tr>\n",
       "      <th>Critical</th>\n",
       "      <td>10614</td>\n",
       "      <td>35.0</td>\n",
       "      <td>0</td>\n",
       "      <td>3.00</td>\n",
       "      <td>111.00</td>\n",
       "      <td>365</td>\n",
       "      <td>76.604390</td>\n",
       "      <td>94.981920</td>\n",
       "      <td>1.347025</td>\n",
       "    </tr>\n",
       "  </tbody>\n",
       "</table>\n",
       "</div>"
      ],
      "text/plain": [
       "                   count  median  min    25%     75%  max        mean  \\\n",
       "CVSS v3.1 Ratings                                                       \n",
       "None                   8    17.0    0   5.25   38.75   74   27.000000   \n",
       "Low                13939    67.0    0  17.00  177.00  365  105.757156   \n",
       "Medium             87935    47.0    0   9.00  156.00  365   92.988537   \n",
       "High               30564    49.0    0   8.00  147.00  365   91.493129   \n",
       "Critical           10614    35.0    0   3.00  111.00  365   76.604390   \n",
       "\n",
       "                          std      skew  \n",
       "CVSS v3.1 Ratings                        \n",
       "None                30.882265  0.984818  \n",
       "Low                105.142017  0.897335  \n",
       "Medium             103.696482  1.073268  \n",
       "High               102.231952  1.096995  \n",
       "Critical            94.981920  1.347025  "
      ]
     },
     "metadata": {},
     "output_type": "display_data"
    }
   ],
   "source": [
    "ranking_list = create_values_ranking_list(df[column_cut], df[column_cut].dtype)\n",
    "(values_hash, values_names) = values_ranking_hashes(ranking_list)\n",
    "\n",
    "#display(ranking_list)\n",
    "#display(values_hash)\n",
    "display(values_names)\n",
    "\n",
    "df_mask=None\n",
    "f_map = lambda row: f_map_generic(row, column_cut, values_hash)\n",
    "params = {\n",
    "    'bootstrap_samples': 50,\n",
    "    'confidence': 0.95,\n",
    "    'risk_column_name': column_cut,\n",
    "}\n",
    "(ret, groups, ddf) = apply_stats_for_each_value(params, df, f_map, condition_names=values_names, df_mask=df_mask)\n",
    "\n",
    "print(json.dumps(ret, indent=4))\n",
    "display(groups)"
   ]
  },
  {
   "cell_type": "code",
   "execution_count": 70,
   "id": "5fee3783",
   "metadata": {},
   "outputs": [],
   "source": [
    "results_summary[column_cut] = {\n",
    "    'cohort': ret['Cohort'],\n",
    "    '% of cohort': ret['% of cohort'],\n",
    "    'Dxy': ret['bootstrap']['Dxy'],\n",
    "    'Dxy_low': ret['bootstrap']['Confidence interval low'],\n",
    "    'Dxy_high': ret['bootstrap']['Confidence interval low'],\n",
    "}"
   ]
  },
  {
   "cell_type": "code",
   "execution_count": 71,
   "id": "393e4793",
   "metadata": {},
   "outputs": [
    {
     "data": {
      "image/png": "[encoded data removed]",
      "text/plain": [
       "<Figure size 432x288 with 1 Axes>"
      ]
     },
     "metadata": {
      "needs_background": "light"
     },
     "output_type": "display_data"
    },
    {
     "data": {
      "image/png": "[encoded data removed]",
      "text/plain": [
       "<Figure size 432x288 with 1 Axes>"
      ]
     },
     "metadata": {
      "needs_background": "light"
     },
     "output_type": "display_data"
    },
    {
     "data": {
      "image/png": "[encoded data removed]",
      "text/plain": [
       "<Figure size 432x288 with 1 Axes>"
      ]
     },
     "metadata": {
      "needs_background": "light"
     },
     "output_type": "display_data"
    }
   ],
   "source": [
    "sns.boxplot(data=df, x=\"Y\", y=column_cut)\n",
    "plt.show();\n",
    "sns.boxenplot(data=df, x=\"Y\", y=column_cut)\n",
    "plt.show();\n",
    "sns.violinplot(data=df, x=\"Y\", y=column_cut)\n",
    "plt.show();"
   ]
  },
  {
   "cell_type": "code",
   "execution_count": 72,
   "id": "5db91677",
   "metadata": {},
   "outputs": [
    {
     "name": "stdout",
     "output_type": "stream",
     "text": [
      "values_list = dict_keys([0, 1, 2, 3, 4])\n"
     ]
    },
    {
     "data": {
      "image/png": "[encoded data removed]",
      "text/plain": [
       "<Figure size 432x288 with 1 Axes>"
      ]
     },
     "metadata": {
      "needs_background": "light"
     },
     "output_type": "display_data"
    },
    {
     "data": {
      "text/plain": [
       "<Figure size 432x288 with 0 Axes>"
      ]
     },
     "metadata": {},
     "output_type": "display_data"
    }
   ],
   "source": [
    "#print(values_names)\n",
    "#print(values_names.keys())\n",
    "plot_survival_function(params, ddf, condition_names=values_names)"
   ]
  },
  {
   "cell_type": "code",
   "execution_count": 74,
   "id": "0a0c7bf7",
   "metadata": {},
   "outputs": [
    {
     "name": "stdout",
     "output_type": "stream",
     "text": [
      "{0: 'None', 1: 'Low', 2: 'Medium', 3: 'High', 4: 'Critical'}\n",
      "{1: 'Low', 2: 'Medium', 3: 'High', 4: 'Critical'}\n"
     ]
    }
   ],
   "source": [
    "print(values_names)\n",
    "del values_names[0]\n",
    "del values_hash['None']\n",
    "print(values_names)`"
   ]
  },
  {
   "cell_type": "code",
   "execution_count": 75,
   "id": "802ff472",
   "metadata": {},
   "outputs": [
    {
     "name": "stderr",
     "output_type": "stream",
     "text": [
      "all = 143486, selected = 143052, uncensored = 143052\n",
      "Computing 50 × bootstrap Dxy for 143052 elements...\n",
      "Computing confidence interval from 50 samples...\n"
     ]
    },
    {
     "name": "stdout",
     "output_type": "stream",
     "text": [
      "{\n",
      "    \"Cohort\": 143486,\n",
      "    \"Number of patients\": 143052.0,\n",
      "    \"% of cohort\": 99.69753146648453,\n",
      "    \"Survival days, median\": 49.0,\n",
      "    \"Survival years, median\": 0.13424657534246576,\n",
      "    \"Dxy (full)\": -0.034422057452046184,\n",
      "    \"bootstrap\": {\n",
      "        \"Dxy\": -0.03441179016055782,\n",
      "        \"Confidence interval low\": -0.034924106949657314,\n",
      "        \"Confidence interval high\": -0.03389947337145833,\n",
      "        \"confidence threshold %\": 95.0,\n",
      "        \"bootstrap samples\": 50\n",
      "    }\n",
      "}\n"
     ]
    },
    {
     "name": "stderr",
     "output_type": "stream",
     "text": [
      "Computing descriptive statistics like mean, median, etc....\n"
     ]
    },
    {
     "data": {
      "text/html": [
       "<div>\n",
       "<style scoped>\n",
       "    .dataframe tbody tr th:only-of-type {\n",
       "        vertical-align: middle;\n",
       "    }\n",
       "\n",
       "    .dataframe tbody tr th {\n",
       "        vertical-align: top;\n",
       "    }\n",
       "\n",
       "    .dataframe thead th {\n",
       "        text-align: right;\n",
       "    }\n",
       "</style>\n",
       "<table border=\"1\" class=\"dataframe\">\n",
       "  <thead>\n",
       "    <tr style=\"text-align: right;\">\n",
       "      <th></th>\n",
       "      <th>count</th>\n",
       "      <th>median</th>\n",
       "      <th>min</th>\n",
       "      <th>25%</th>\n",
       "      <th>75%</th>\n",
       "      <th>max</th>\n",
       "      <th>mean</th>\n",
       "      <th>std</th>\n",
       "      <th>skew</th>\n",
       "    </tr>\n",
       "    <tr>\n",
       "      <th>CVSS v3.1 Ratings</th>\n",
       "      <th></th>\n",
       "      <th></th>\n",
       "      <th></th>\n",
       "      <th></th>\n",
       "      <th></th>\n",
       "      <th></th>\n",
       "      <th></th>\n",
       "      <th></th>\n",
       "      <th></th>\n",
       "    </tr>\n",
       "  </thead>\n",
       "  <tbody>\n",
       "    <tr>\n",
       "      <th>Low</th>\n",
       "      <td>13939</td>\n",
       "      <td>67.0</td>\n",
       "      <td>0</td>\n",
       "      <td>17.0</td>\n",
       "      <td>177.0</td>\n",
       "      <td>365</td>\n",
       "      <td>105.757156</td>\n",
       "      <td>105.142017</td>\n",
       "      <td>0.897335</td>\n",
       "    </tr>\n",
       "    <tr>\n",
       "      <th>Medium</th>\n",
       "      <td>87935</td>\n",
       "      <td>47.0</td>\n",
       "      <td>0</td>\n",
       "      <td>9.0</td>\n",
       "      <td>156.0</td>\n",
       "      <td>365</td>\n",
       "      <td>92.988537</td>\n",
       "      <td>103.696482</td>\n",
       "      <td>1.073268</td>\n",
       "    </tr>\n",
       "    <tr>\n",
       "      <th>High</th>\n",
       "      <td>30564</td>\n",
       "      <td>49.0</td>\n",
       "      <td>0</td>\n",
       "      <td>8.0</td>\n",
       "      <td>147.0</td>\n",
       "      <td>365</td>\n",
       "      <td>91.493129</td>\n",
       "      <td>102.231952</td>\n",
       "      <td>1.096995</td>\n",
       "    </tr>\n",
       "    <tr>\n",
       "      <th>Critical</th>\n",
       "      <td>10614</td>\n",
       "      <td>35.0</td>\n",
       "      <td>0</td>\n",
       "      <td>3.0</td>\n",
       "      <td>111.0</td>\n",
       "      <td>365</td>\n",
       "      <td>76.604390</td>\n",
       "      <td>94.981920</td>\n",
       "      <td>1.347025</td>\n",
       "    </tr>\n",
       "  </tbody>\n",
       "</table>\n",
       "</div>"
      ],
      "text/plain": [
       "                   count  median  min   25%    75%  max        mean  \\\n",
       "CVSS v3.1 Ratings                                                     \n",
       "Low                13939    67.0    0  17.0  177.0  365  105.757156   \n",
       "Medium             87935    47.0    0   9.0  156.0  365   92.988537   \n",
       "High               30564    49.0    0   8.0  147.0  365   91.493129   \n",
       "Critical           10614    35.0    0   3.0  111.0  365   76.604390   \n",
       "\n",
       "                          std      skew  \n",
       "CVSS v3.1 Ratings                        \n",
       "Low                105.142017  0.897335  \n",
       "Medium             103.696482  1.073268  \n",
       "High               102.231952  1.096995  \n",
       "Critical            94.981920  1.347025  "
      ]
     },
     "metadata": {},
     "output_type": "display_data"
    }
   ],
   "source": [
    "df_mask=None\n",
    "f_map = lambda row: f_map_generic(row, column_cut, values_hash)\n",
    "params = {\n",
    "    'bootstrap_samples': 50,\n",
    "    'confidence': 0.95,\n",
    "    'risk_column_name': column_cut,\n",
    "}\n",
    "(ret, groups, ddf) = apply_stats_for_each_value(params, df, f_map, condition_names=values_names, df_mask=df_mask)\n",
    "\n",
    "print(json.dumps(ret, indent=4))\n",
    "display(groups)"
   ]
  },
  {
   "cell_type": "code",
   "execution_count": 76,
   "id": "0e393ef8",
   "metadata": {},
   "outputs": [],
   "source": [
    "results_summary[column_cut+' no None'] = {\n",
    "    'cohort': ret['Cohort'],\n",
    "    '% of cohort': ret['% of cohort'],\n",
    "    'Dxy': ret['bootstrap']['Dxy'],\n",
    "    'Dxy_low': ret['bootstrap']['Confidence interval low'],\n",
    "    'Dxy_high': ret['bootstrap']['Confidence interval low'],\n",
    "}"
   ]
  },
  {
   "cell_type": "code",
   "execution_count": 77,
   "id": "1326b3d7",
   "metadata": {},
   "outputs": [
    {
     "name": "stdout",
     "output_type": "stream",
     "text": [
      "values_list = dict_keys([1, 2, 3, 4])\n"
     ]
    },
    {
     "data": {
      "image/png": "[encoded data removed]",
      "text/plain": [
       "<Figure size 432x288 with 1 Axes>"
      ]
     },
     "metadata": {
      "needs_background": "light"
     },
     "output_type": "display_data"
    },
    {
     "data": {
      "text/plain": [
       "<Figure size 432x288 with 0 Axes>"
      ]
     },
     "metadata": {},
     "output_type": "display_data"
    }
   ],
   "source": [
    "#print(values_names)\n",
    "#print(values_names.keys())\n",
    "plot_survival_function(params, ddf, condition_names=values_names)"
   ]
  },
  {
   "cell_type": "markdown",
   "id": "d0cae261",
   "metadata": {},
   "source": [
    "### access.*"
   ]
  },
  {
   "cell_type": "markdown",
   "id": "43d1a00d",
   "metadata": {},
   "source": [
    "#### access.vector"
   ]
  },
  {
   "cell_type": "code",
   "execution_count": 81,
   "id": "8b09a579",
   "metadata": {},
   "outputs": [
    {
     "data": {
      "text/plain": [
       "36    NETWORK\n",
       "37    NETWORK\n",
       "38    NETWORK\n",
       "39    NETWORK\n",
       "40    NETWORK\n",
       "Name: access.vector, dtype: category\n",
       "Categories (3, object): ['LOCAL' < 'ADJACENT_NETWORK' < 'NETWORK']"
      ]
     },
     "execution_count": 81,
     "metadata": {},
     "output_type": "execute_result"
    }
   ],
   "source": [
    "column_name='access.vector'\n",
    "column_cut=column_name\n",
    "df[column_name].head()"
   ]
  },
  {
   "cell_type": "code",
   "execution_count": 82,
   "id": "65d760a2",
   "metadata": {},
   "outputs": [
    {
     "data": {
      "text/plain": [
       "access.vector\n",
       "LOCAL                29538\n",
       "ADJACENT_NETWORK      2776\n",
       "NETWORK             110746\n",
       "dtype: int64"
      ]
     },
     "metadata": {},
     "output_type": "display_data"
    },
    {
     "data": {
      "text/plain": [
       "<AxesSubplot: xlabel='access.vector', ylabel='CVE+project'>"
      ]
     },
     "execution_count": 82,
     "metadata": {},
     "output_type": "execute_result"
    },
    {
     "data": {
      "image/png": "[encoded data removed]",
      "text/plain": [
       "<Figure size 432x288 with 1 Axes>"
      ]
     },
     "metadata": {
      "needs_background": "light"
     },
     "output_type": "display_data"
    }
   ],
   "source": [
    "display(df.value_counts(column_cut).sort_index())\n",
    "\n",
    "df.value_counts(column_cut).sort_index().plot.bar(ylabel='CVE+project')"
   ]
  },
  {
   "cell_type": "code",
   "execution_count": 83,
   "id": "1ed6c01a",
   "metadata": {},
   "outputs": [
    {
     "data": {
      "text/plain": [
       "{0: 'LOCAL', 1: 'ADJACENT_NETWORK', 2: 'NETWORK'}"
      ]
     },
     "metadata": {},
     "output_type": "display_data"
    },
    {
     "name": "stderr",
     "output_type": "stream",
     "text": [
      "all = 143486, selected = 143060, uncensored = 143060\n",
      "Computing 50 × bootstrap Dxy for 143060 elements...\n",
      "Computing confidence interval from 50 samples...\n"
     ]
    },
    {
     "name": "stdout",
     "output_type": "stream",
     "text": [
      "{\n",
      "    \"Cohort\": 143486,\n",
      "    \"Number of patients\": 143060.0,\n",
      "    \"% of cohort\": 99.70310692332353,\n",
      "    \"Survival days, median\": 49.0,\n",
      "    \"Survival years, median\": 0.13424657534246576,\n",
      "    \"Dxy (full)\": -0.05995938915770582,\n",
      "    \"bootstrap\": {\n",
      "        \"Dxy\": -0.06004123368547778,\n",
      "        \"Confidence interval low\": -0.060340601737038126,\n",
      "        \"Confidence interval high\": -0.05974186563391743,\n",
      "        \"confidence threshold %\": 95.0,\n",
      "        \"bootstrap samples\": 50\n",
      "    }\n",
      "}\n"
     ]
    },
    {
     "name": "stderr",
     "output_type": "stream",
     "text": [
      "Computing descriptive statistics like mean, median, etc....\n"
     ]
    },
    {
     "data": {
      "text/html": [
       "<div>\n",
       "<style scoped>\n",
       "    .dataframe tbody tr th:only-of-type {\n",
       "        vertical-align: middle;\n",
       "    }\n",
       "\n",
       "    .dataframe tbody tr th {\n",
       "        vertical-align: top;\n",
       "    }\n",
       "\n",
       "    .dataframe thead th {\n",
       "        text-align: right;\n",
       "    }\n",
       "</style>\n",
       "<table border=\"1\" class=\"dataframe\">\n",
       "  <thead>\n",
       "    <tr style=\"text-align: right;\">\n",
       "      <th></th>\n",
       "      <th>count</th>\n",
       "      <th>median</th>\n",
       "      <th>min</th>\n",
       "      <th>25%</th>\n",
       "      <th>75%</th>\n",
       "      <th>max</th>\n",
       "      <th>mean</th>\n",
       "      <th>std</th>\n",
       "      <th>skew</th>\n",
       "    </tr>\n",
       "    <tr>\n",
       "      <th>access.vector</th>\n",
       "      <th></th>\n",
       "      <th></th>\n",
       "      <th></th>\n",
       "      <th></th>\n",
       "      <th></th>\n",
       "      <th></th>\n",
       "      <th></th>\n",
       "      <th></th>\n",
       "      <th></th>\n",
       "    </tr>\n",
       "  </thead>\n",
       "  <tbody>\n",
       "    <tr>\n",
       "      <th>LOCAL</th>\n",
       "      <td>29538</td>\n",
       "      <td>79.0</td>\n",
       "      <td>0</td>\n",
       "      <td>20.25</td>\n",
       "      <td>190.00</td>\n",
       "      <td>365</td>\n",
       "      <td>113.761291</td>\n",
       "      <td>107.345346</td>\n",
       "      <td>0.774441</td>\n",
       "    </tr>\n",
       "    <tr>\n",
       "      <th>ADJACENT_NETWORK</th>\n",
       "      <td>2776</td>\n",
       "      <td>68.0</td>\n",
       "      <td>0</td>\n",
       "      <td>12.00</td>\n",
       "      <td>180.25</td>\n",
       "      <td>365</td>\n",
       "      <td>106.390850</td>\n",
       "      <td>109.197068</td>\n",
       "      <td>0.832623</td>\n",
       "    </tr>\n",
       "    <tr>\n",
       "      <th>NETWORK</th>\n",
       "      <td>110746</td>\n",
       "      <td>42.0</td>\n",
       "      <td>0</td>\n",
       "      <td>7.00</td>\n",
       "      <td>139.00</td>\n",
       "      <td>365</td>\n",
       "      <td>86.731485</td>\n",
       "      <td>100.968766</td>\n",
       "      <td>1.181529</td>\n",
       "    </tr>\n",
       "  </tbody>\n",
       "</table>\n",
       "</div>"
      ],
      "text/plain": [
       "                   count  median  min    25%     75%  max        mean  \\\n",
       "access.vector                                                           \n",
       "LOCAL              29538    79.0    0  20.25  190.00  365  113.761291   \n",
       "ADJACENT_NETWORK    2776    68.0    0  12.00  180.25  365  106.390850   \n",
       "NETWORK           110746    42.0    0   7.00  139.00  365   86.731485   \n",
       "\n",
       "                         std      skew  \n",
       "access.vector                           \n",
       "LOCAL             107.345346  0.774441  \n",
       "ADJACENT_NETWORK  109.197068  0.832623  \n",
       "NETWORK           100.968766  1.181529  "
      ]
     },
     "metadata": {},
     "output_type": "display_data"
    }
   ],
   "source": [
    "ranking_list = create_values_ranking_list(df[column_cut], df[column_cut].dtype)\n",
    "(values_hash, values_names) = values_ranking_hashes(ranking_list)\n",
    "\n",
    "#display(ranking_list)\n",
    "#display(values_hash)\n",
    "display(values_names)\n",
    "\n",
    "df_mask=None\n",
    "f_map = lambda row: f_map_generic(row, column_cut, values_hash)\n",
    "params = {\n",
    "    'bootstrap_samples': 50,\n",
    "    'confidence': 0.95,\n",
    "    'risk_column_name': column_cut,\n",
    "}\n",
    "(ret, groups, ddf) = apply_stats_for_each_value(params, df, f_map, condition_names=values_names, df_mask=df_mask)\n",
    "\n",
    "print(json.dumps(ret, indent=4))\n",
    "display(groups)"
   ]
  },
  {
   "cell_type": "code",
   "execution_count": 84,
   "id": "806695ae",
   "metadata": {},
   "outputs": [],
   "source": [
    "results_summary[column_cut] = {\n",
    "    'cohort': ret['Cohort'],\n",
    "    '% of cohort': ret['% of cohort'],\n",
    "    'Dxy': ret['bootstrap']['Dxy'],\n",
    "    'Dxy_low': ret['bootstrap']['Confidence interval low'],\n",
    "    'Dxy_high': ret['bootstrap']['Confidence interval low'],\n",
    "}"
   ]
  },
  {
   "cell_type": "code",
   "execution_count": 85,
   "id": "0f48f48e",
   "metadata": {},
   "outputs": [
    {
     "data": {
      "image/png": "[encoded data removed]",
      "text/plain": [
       "<Figure size 432x288 with 1 Axes>"
      ]
     },
     "metadata": {
      "needs_background": "light"
     },
     "output_type": "display_data"
    },
    {
     "data": {
      "image/png": "[encoded data removed]",
      "text/plain": [
       "<Figure size 432x288 with 1 Axes>"
      ]
     },
     "metadata": {
      "needs_background": "light"
     },
     "output_type": "display_data"
    },
    {
     "data": {
      "image/png": "[encoded data removed]",
      "text/plain": [
       "<Figure size 432x288 with 1 Axes>"
      ]
     },
     "metadata": {
      "needs_background": "light"
     },
     "output_type": "display_data"
    }
   ],
   "source": [
    "sns.boxplot(data=df, x=\"Y\", y=column_cut)\n",
    "plt.show();\n",
    "sns.boxenplot(data=df, x=\"Y\", y=column_cut)\n",
    "plt.show();\n",
    "sns.violinplot(data=df, x=\"Y\", y=column_cut)\n",
    "plt.show();"
   ]
  },
  {
   "cell_type": "code",
   "execution_count": 86,
   "id": "866564ae",
   "metadata": {},
   "outputs": [
    {
     "name": "stdout",
     "output_type": "stream",
     "text": [
      "values_list = dict_keys([0, 1, 2])\n"
     ]
    },
    {
     "data": {
      "image/png": "[encoded data removed]",
      "text/plain": [
       "<Figure size 432x288 with 1 Axes>"
      ]
     },
     "metadata": {
      "needs_background": "light"
     },
     "output_type": "display_data"
    },
    {
     "data": {
      "text/plain": [
       "<Figure size 432x288 with 0 Axes>"
      ]
     },
     "metadata": {},
     "output_type": "display_data"
    }
   ],
   "source": [
    "#print(values_names)\n",
    "#print(values_names.keys())\n",
    "plot_survival_function(params, ddf, condition_names=values_names)"
   ]
  },
  {
   "cell_type": "markdown",
   "id": "71548eac",
   "metadata": {},
   "source": [
    "Delete `ADJACENT_NETWORK` as underrepresented"
   ]
  },
  {
   "cell_type": "code",
   "execution_count": 91,
   "id": "e13d3773",
   "metadata": {},
   "outputs": [
    {
     "name": "stdout",
     "output_type": "stream",
     "text": [
      "{0: 'LOCAL', 1: 'ADJACENT_NETWORK', 2: 'NETWORK'}\n",
      "{0: 'LOCAL', 2: 'NETWORK'}\n"
     ]
    }
   ],
   "source": [
    "print(values_names)\n",
    "del values_names[1]\n",
    "del values_hash['ADJACENT_NETWORK']\n",
    "print(values_names)"
   ]
  },
  {
   "cell_type": "code",
   "execution_count": 92,
   "id": "95f8bd33",
   "metadata": {},
   "outputs": [
    {
     "name": "stderr",
     "output_type": "stream",
     "text": [
      "all = 143486, selected = 140284, uncensored = 140284\n",
      "Computing 50 × bootstrap Dxy for 140284 elements...\n",
      "Computing confidence interval from 50 samples...\n"
     ]
    },
    {
     "name": "stdout",
     "output_type": "stream",
     "text": [
      "{\n",
      "    \"Cohort\": 143486,\n",
      "    \"Number of patients\": 140284.0,\n",
      "    \"% of cohort\": 97.76842340019235,\n",
      "    \"Survival days, median\": 48.0,\n",
      "    \"Survival years, median\": 0.13150684931506848,\n",
      "    \"Dxy (full)\": -0.05862930832598545,\n",
      "    \"bootstrap\": {\n",
      "        \"Dxy\": -0.0587992794395123,\n",
      "        \"Confidence interval low\": -0.059177619341002206,\n",
      "        \"Confidence interval high\": -0.05842093953802239,\n",
      "        \"confidence threshold %\": 95.0,\n",
      "        \"bootstrap samples\": 50\n",
      "    }\n",
      "}\n"
     ]
    },
    {
     "name": "stderr",
     "output_type": "stream",
     "text": [
      "Computing descriptive statistics like mean, median, etc....\n"
     ]
    },
    {
     "data": {
      "text/html": [
       "<div>\n",
       "<style scoped>\n",
       "    .dataframe tbody tr th:only-of-type {\n",
       "        vertical-align: middle;\n",
       "    }\n",
       "\n",
       "    .dataframe tbody tr th {\n",
       "        vertical-align: top;\n",
       "    }\n",
       "\n",
       "    .dataframe thead th {\n",
       "        text-align: right;\n",
       "    }\n",
       "</style>\n",
       "<table border=\"1\" class=\"dataframe\">\n",
       "  <thead>\n",
       "    <tr style=\"text-align: right;\">\n",
       "      <th></th>\n",
       "      <th>count</th>\n",
       "      <th>median</th>\n",
       "      <th>min</th>\n",
       "      <th>25%</th>\n",
       "      <th>75%</th>\n",
       "      <th>max</th>\n",
       "      <th>mean</th>\n",
       "      <th>std</th>\n",
       "      <th>skew</th>\n",
       "    </tr>\n",
       "    <tr>\n",
       "      <th>access.vector</th>\n",
       "      <th></th>\n",
       "      <th></th>\n",
       "      <th></th>\n",
       "      <th></th>\n",
       "      <th></th>\n",
       "      <th></th>\n",
       "      <th></th>\n",
       "      <th></th>\n",
       "      <th></th>\n",
       "    </tr>\n",
       "  </thead>\n",
       "  <tbody>\n",
       "    <tr>\n",
       "      <th>LOCAL</th>\n",
       "      <td>29538</td>\n",
       "      <td>79.0</td>\n",
       "      <td>0</td>\n",
       "      <td>20.25</td>\n",
       "      <td>190.0</td>\n",
       "      <td>365</td>\n",
       "      <td>113.761291</td>\n",
       "      <td>107.345346</td>\n",
       "      <td>0.774441</td>\n",
       "    </tr>\n",
       "    <tr>\n",
       "      <th>NETWORK</th>\n",
       "      <td>110746</td>\n",
       "      <td>42.0</td>\n",
       "      <td>0</td>\n",
       "      <td>7.00</td>\n",
       "      <td>139.0</td>\n",
       "      <td>365</td>\n",
       "      <td>86.731485</td>\n",
       "      <td>100.968766</td>\n",
       "      <td>1.181529</td>\n",
       "    </tr>\n",
       "  </tbody>\n",
       "</table>\n",
       "</div>"
      ],
      "text/plain": [
       "                count  median  min    25%    75%  max        mean         std  \\\n",
       "access.vector                                                                   \n",
       "LOCAL           29538    79.0    0  20.25  190.0  365  113.761291  107.345346   \n",
       "NETWORK        110746    42.0    0   7.00  139.0  365   86.731485  100.968766   \n",
       "\n",
       "                   skew  \n",
       "access.vector            \n",
       "LOCAL          0.774441  \n",
       "NETWORK        1.181529  "
      ]
     },
     "metadata": {},
     "output_type": "display_data"
    }
   ],
   "source": [
    "df_mask=None\n",
    "f_map = lambda row: f_map_generic(row, column_cut, values_hash)\n",
    "params = {\n",
    "    'bootstrap_samples': 50,\n",
    "    'confidence': 0.95,\n",
    "    'risk_column_name': column_cut,\n",
    "}\n",
    "(ret, groups, ddf) = apply_stats_for_each_value(params, df, f_map, condition_names=values_names, df_mask=df_mask)\n",
    "\n",
    "print(json.dumps(ret, indent=4))\n",
    "display(groups)"
   ]
  },
  {
   "cell_type": "code",
   "execution_count": 93,
   "id": "29c5622d",
   "metadata": {},
   "outputs": [],
   "source": [
    "results_summary[column_cut+' no ADJACENT_NETWORK'] = {\n",
    "    'cohort': ret['Cohort'],\n",
    "    '% of cohort': ret['% of cohort'],\n",
    "    'Dxy': ret['bootstrap']['Dxy'],\n",
    "    'Dxy_low': ret['bootstrap']['Confidence interval low'],\n",
    "    'Dxy_high': ret['bootstrap']['Confidence interval low'],\n",
    "}"
   ]
  },
  {
   "cell_type": "code",
   "execution_count": null,
   "id": "41fe95a7",
   "metadata": {},
   "outputs": [],
   "source": []
  },
  {
   "cell_type": "markdown",
   "id": "232fced8",
   "metadata": {},
   "source": [
    "#### access.complexity"
   ]
  },
  {
   "cell_type": "markdown",
   "id": "062b437f",
   "metadata": {},
   "source": [
    "#### access.vector"
   ]
  },
  {
   "cell_type": "markdown",
   "id": "2e4877b6",
   "metadata": {},
   "source": [
    "### impact.*"
   ]
  },
  {
   "cell_type": "markdown",
   "id": "a7ff3c21",
   "metadata": {},
   "source": [
    "#### impact.availability"
   ]
  },
  {
   "cell_type": "markdown",
   "id": "667bee85",
   "metadata": {},
   "source": [
    "#### impact.confidentiality"
   ]
  },
  {
   "cell_type": "markdown",
   "id": "4f7d24d8",
   "metadata": {},
   "source": [
    "#### impact.integrity"
   ]
  },
  {
   "cell_type": "markdown",
   "id": "fbd98c9e",
   "metadata": {},
   "source": [
    "## Summary"
   ]
  },
  {
   "cell_type": "code",
   "execution_count": 78,
   "id": "96f7bea1",
   "metadata": {},
   "outputs": [
    {
     "data": {
      "text/html": [
       "<div>\n",
       "<style scoped>\n",
       "    .dataframe tbody tr th:only-of-type {\n",
       "        vertical-align: middle;\n",
       "    }\n",
       "\n",
       "    .dataframe tbody tr th {\n",
       "        vertical-align: top;\n",
       "    }\n",
       "\n",
       "    .dataframe thead th {\n",
       "        text-align: right;\n",
       "    }\n",
       "</style>\n",
       "<table border=\"1\" class=\"dataframe\">\n",
       "  <thead>\n",
       "    <tr style=\"text-align: right;\">\n",
       "      <th></th>\n",
       "      <th>cohort</th>\n",
       "      <th>% of cohort</th>\n",
       "      <th>Dxy</th>\n",
       "      <th>Dxy_low</th>\n",
       "      <th>Dxy_high</th>\n",
       "    </tr>\n",
       "  </thead>\n",
       "  <tbody>\n",
       "    <tr>\n",
       "      <th>CVSS v2.0 Ratings</th>\n",
       "      <td>143486</td>\n",
       "      <td>99.703107</td>\n",
       "      <td>-0.031116</td>\n",
       "      <td>-0.031511</td>\n",
       "      <td>-0.031511</td>\n",
       "    </tr>\n",
       "    <tr>\n",
       "      <th>CVSS v3.1 Ratings</th>\n",
       "      <td>143486</td>\n",
       "      <td>99.703107</td>\n",
       "      <td>-0.034363</td>\n",
       "      <td>-0.034812</td>\n",
       "      <td>-0.034812</td>\n",
       "    </tr>\n",
       "    <tr>\n",
       "      <th>CVSS v3.1 Ratings no None</th>\n",
       "      <td>143486</td>\n",
       "      <td>99.697531</td>\n",
       "      <td>-0.034412</td>\n",
       "      <td>-0.034924</td>\n",
       "      <td>-0.034924</td>\n",
       "    </tr>\n",
       "  </tbody>\n",
       "</table>\n",
       "</div>"
      ],
      "text/plain": [
       "                           cohort  % of cohort       Dxy   Dxy_low  Dxy_high\n",
       "CVSS v2.0 Ratings          143486    99.703107 -0.031116 -0.031511 -0.031511\n",
       "CVSS v3.1 Ratings          143486    99.703107 -0.034363 -0.034812 -0.034812\n",
       "CVSS v3.1 Ratings no None  143486    99.697531 -0.034412 -0.034924 -0.034924"
      ]
     },
     "execution_count": 78,
     "metadata": {},
     "output_type": "execute_result"
    }
   ],
   "source": [
    "summary_df=pd.DataFrame.from_dict(results_summary, orient='index')\n",
    "summary_df"
   ]
  },
  {
   "cell_type": "code",
   "execution_count": 79,
   "id": "e25ae645",
   "metadata": {},
   "outputs": [
    {
     "data": {
      "text/plain": [
       "<AxesSubplot: title={'center': 'Dxy'}>"
      ]
     },
     "execution_count": 79,
     "metadata": {},
     "output_type": "execute_result"
    },
    {
     "data": {
      "image/png": "[encoded data removed]",
      "text/plain": [
       "<Figure size 432x288 with 1 Axes>"
      ]
     },
     "metadata": {
      "needs_background": "light"
     },
     "output_type": "display_data"
    }
   ],
   "source": [
    "summary_df['Dxy'].sort_values().plot(kind='barh',title='Dxy')"
   ]
  },
  {
   "cell_type": "code",
   "execution_count": 80,
   "id": "382c4543",
   "metadata": {},
   "outputs": [],
   "source": [
    "ver='365days'\n",
    "summary_df.to_csv(f\"survey_analysis_CVE_metadata.{ver}.csv\")"
   ]
  }
 ],
 "metadata": {
  "kernelspec": {
   "display_name": "Python 3 (ipykernel)",
   "language": "python",
   "name": "python3"
  },
  "language_info": {
   "codemirror_mode": {
    "name": "ipython",
    "version": 3
   },
   "file_extension": ".py",
   "mimetype": "text/x-python",
   "name": "python",
   "nbconvert_exporter": "python",
   "pygments_lexer": "ipython3",
   "version": "3.10.5"
  }
 },
 "nbformat": 4,
 "nbformat_minor": 5
}

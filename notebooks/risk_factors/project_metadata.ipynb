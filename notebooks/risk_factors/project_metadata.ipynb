{
 "cells": [
  {
   "cell_type": "markdown",
   "id": "150e3747",
   "metadata": {},
   "source": [
    "# Examining risk factors associated with characteristics of a project\n",
    "\n",
    "> using project metadata retrieved from World of Code\n",
    "> [MongoDB database](https://github.com/woc-hack/tutorial#mongo-database)\n",
    "> with the help of `projects_stats/retrieve_metadata_from_WoC_mongodb.py` script\n",
    "\n",
    "MongoDB tables contain the summary information about authors and projects,\n",
    "to enable selection of subsets for later analysis."
   ]
  },
  {
   "cell_type": "markdown",
   "id": "940ce13c",
   "metadata": {},
   "source": [
    "See [MSR 2023 CVE](https://docs.google.com/spreadsheets/d/1yUXKMNrwUA4t0wH4_c8kVLwmEKmOGjt9sj_nHUofmGo) Google Sheet"
   ]
  },
  {
   "cell_type": "markdown",
   "id": "6247274f",
   "metadata": {},
   "source": [
    "-----\n",
    "Imports"
   ]
  },
  {
   "cell_type": "code",
   "execution_count": 83,
   "id": "21cdcd8e",
   "metadata": {},
   "outputs": [],
   "source": [
    "import numpy as np\n",
    "import pandas as pd\n",
    "import matplotlib.pyplot as plt\n",
    "import seaborn as sns"
   ]
  },
  {
   "cell_type": "markdown",
   "id": "50c786b0",
   "metadata": {},
   "source": [
    "## Exploring `data/unique_project_info.parquet`"
   ]
  },
  {
   "cell_type": "code",
   "execution_count": 2,
   "id": "878d6186",
   "metadata": {},
   "outputs": [
    {
     "data": {
      "text/plain": [
       "'../../data/unique_project_info.parquet'"
      ]
     },
     "execution_count": 2,
     "metadata": {},
     "output_type": "execute_result"
    }
   ],
   "source": [
    "df_filename='../../data/unique_project_info.parquet'\n",
    "df_filename"
   ]
  },
  {
   "cell_type": "code",
   "execution_count": 3,
   "id": "3a48294f",
   "metadata": {},
   "outputs": [
    {
     "data": {
      "text/html": [
       "<div>\n",
       "<style scoped>\n",
       "    .dataframe tbody tr th:only-of-type {\n",
       "        vertical-align: middle;\n",
       "    }\n",
       "\n",
       "    .dataframe tbody tr th {\n",
       "        vertical-align: top;\n",
       "    }\n",
       "\n",
       "    .dataframe thead th {\n",
       "        text-align: right;\n",
       "    }\n",
       "</style>\n",
       "<table border=\"1\" class=\"dataframe\">\n",
       "  <thead>\n",
       "    <tr style=\"text-align: right;\">\n",
       "      <th></th>\n",
       "      <th>RootFork</th>\n",
       "      <th>EarliestCommitDate</th>\n",
       "      <th>LatestCommitDate</th>\n",
       "      <th>NumActiveMon</th>\n",
       "      <th>NumAuthors</th>\n",
       "      <th>NumCore</th>\n",
       "      <th>CommunitySize</th>\n",
       "      <th>NumCommits</th>\n",
       "      <th>NumBlobs</th>\n",
       "      <th>NumFiles</th>\n",
       "      <th>NumForks</th>\n",
       "      <th>NumStars</th>\n",
       "    </tr>\n",
       "    <tr>\n",
       "      <th>ProjectID</th>\n",
       "      <th></th>\n",
       "      <th></th>\n",
       "      <th></th>\n",
       "      <th></th>\n",
       "      <th></th>\n",
       "      <th></th>\n",
       "      <th></th>\n",
       "      <th></th>\n",
       "      <th></th>\n",
       "      <th></th>\n",
       "      <th></th>\n",
       "      <th></th>\n",
       "    </tr>\n",
       "  </thead>\n",
       "  <tbody>\n",
       "    <tr>\n",
       "      <th>Jackeagle_kernel_msm-3.18</th>\n",
       "      <td>torvalds_linux</td>\n",
       "      <td>1988-01-05 07:17:15+00:00</td>\n",
       "      <td>2085-06-18 15:57:19+00:00</td>\n",
       "      <td>364</td>\n",
       "      <td>109725</td>\n",
       "      <td>3769</td>\n",
       "      <td>112489</td>\n",
       "      <td>36468389</td>\n",
       "      <td>20588737</td>\n",
       "      <td>7984434</td>\n",
       "      <td>237104</td>\n",
       "      <td>201441</td>\n",
       "    </tr>\n",
       "    <tr>\n",
       "      <th>bloomberg_chromium.bb</th>\n",
       "      <td>FFmpeg_FFmpeg</td>\n",
       "      <td>1988-01-05 07:17:15+00:00</td>\n",
       "      <td>2097-03-18 18:54:57+00:00</td>\n",
       "      <td>305</td>\n",
       "      <td>39637</td>\n",
       "      <td>2083</td>\n",
       "      <td>63661</td>\n",
       "      <td>6686322</td>\n",
       "      <td>12676680</td>\n",
       "      <td>7181765</td>\n",
       "      <td>63294</td>\n",
       "      <td>219233</td>\n",
       "    </tr>\n",
       "    <tr>\n",
       "      <th>buildroot_buildroot</th>\n",
       "      <td>buildroot_buildroot</td>\n",
       "      <td>2000-05-14 04:16:35+00:00</td>\n",
       "      <td>2021-11-24 02:32:46+00:00</td>\n",
       "      <td>259</td>\n",
       "      <td>4347</td>\n",
       "      <td>239</td>\n",
       "      <td>4897</td>\n",
       "      <td>375883</td>\n",
       "      <td>694969</td>\n",
       "      <td>604548</td>\n",
       "      <td>4390</td>\n",
       "      <td>12124</td>\n",
       "    </tr>\n",
       "    <tr>\n",
       "      <th>jayanta525_openwrt-nanopi-r4s</th>\n",
       "      <td>u-boot_u-boot</td>\n",
       "      <td>1988-01-05 07:17:15+00:00</td>\n",
       "      <td>2021-11-26 22:10:53+00:00</td>\n",
       "      <td>260</td>\n",
       "      <td>12431</td>\n",
       "      <td>665</td>\n",
       "      <td>10358</td>\n",
       "      <td>1466896</td>\n",
       "      <td>2001478</td>\n",
       "      <td>719038</td>\n",
       "      <td>8383</td>\n",
       "      <td>10930</td>\n",
       "    </tr>\n",
       "    <tr>\n",
       "      <th>openssl_openssl</th>\n",
       "      <td>openssl_openssl</td>\n",
       "      <td>1998-10-05 20:12:28+00:00</td>\n",
       "      <td>2021-11-24 03:32:47+00:00</td>\n",
       "      <td>277</td>\n",
       "      <td>2595</td>\n",
       "      <td>55</td>\n",
       "      <td>6680</td>\n",
       "      <td>155973</td>\n",
       "      <td>390711</td>\n",
       "      <td>184853</td>\n",
       "      <td>7491</td>\n",
       "      <td>16022</td>\n",
       "    </tr>\n",
       "    <tr>\n",
       "      <th>...</th>\n",
       "      <td>...</td>\n",
       "      <td>...</td>\n",
       "      <td>...</td>\n",
       "      <td>...</td>\n",
       "      <td>...</td>\n",
       "      <td>...</td>\n",
       "      <td>...</td>\n",
       "      <td>...</td>\n",
       "      <td>...</td>\n",
       "      <td>...</td>\n",
       "      <td>...</td>\n",
       "      <td>...</td>\n",
       "    </tr>\n",
       "    <tr>\n",
       "      <th>stong_CVE-2020-15368</th>\n",
       "      <td>&lt;NA&gt;</td>\n",
       "      <td>2021-06-29 04:37:48+00:00</td>\n",
       "      <td>2021-10-29 07:46:53+00:00</td>\n",
       "      <td>5</td>\n",
       "      <td>2</td>\n",
       "      <td>1</td>\n",
       "      <td>1</td>\n",
       "      <td>19</td>\n",
       "      <td>81</td>\n",
       "      <td>33</td>\n",
       "      <td>0</td>\n",
       "      <td>&lt;NA&gt;</td>\n",
       "    </tr>\n",
       "    <tr>\n",
       "      <th>clio_ten_years_rails</th>\n",
       "      <td>clio_ten_years_rails</td>\n",
       "      <td>2018-04-16 16:32:49+00:00</td>\n",
       "      <td>2021-10-22 17:44:59+00:00</td>\n",
       "      <td>28</td>\n",
       "      <td>20</td>\n",
       "      <td>6</td>\n",
       "      <td>13</td>\n",
       "      <td>142</td>\n",
       "      <td>194</td>\n",
       "      <td>40</td>\n",
       "      <td>16</td>\n",
       "      <td>177</td>\n",
       "    </tr>\n",
       "    <tr>\n",
       "      <th>badsaarow_commcode2sql</th>\n",
       "      <td>&lt;NA&gt;</td>\n",
       "      <td>2018-02-12 09:58:42+00:00</td>\n",
       "      <td>2021-11-02 13:27:44+00:00</td>\n",
       "      <td>14</td>\n",
       "      <td>2</td>\n",
       "      <td>2</td>\n",
       "      <td>1</td>\n",
       "      <td>49</td>\n",
       "      <td>120</td>\n",
       "      <td>49</td>\n",
       "      <td>0</td>\n",
       "      <td>&lt;NA&gt;</td>\n",
       "    </tr>\n",
       "    <tr>\n",
       "      <th>kernelmethod_face_remover</th>\n",
       "      <td>&lt;NA&gt;</td>\n",
       "      <td>2020-06-02 04:03:18+00:00</td>\n",
       "      <td>2021-09-13 17:48:54+00:00</td>\n",
       "      <td>7</td>\n",
       "      <td>1</td>\n",
       "      <td>1</td>\n",
       "      <td>1</td>\n",
       "      <td>17</td>\n",
       "      <td>34</td>\n",
       "      <td>13</td>\n",
       "      <td>0</td>\n",
       "      <td>&lt;NA&gt;</td>\n",
       "    </tr>\n",
       "    <tr>\n",
       "      <th>ScratchAddons_website</th>\n",
       "      <td>ScratchAddons_website</td>\n",
       "      <td>2020-09-16 23:44:04+00:00</td>\n",
       "      <td>2021-05-11 20:35:56+00:00</td>\n",
       "      <td>9</td>\n",
       "      <td>17</td>\n",
       "      <td>2</td>\n",
       "      <td>6</td>\n",
       "      <td>521</td>\n",
       "      <td>884</td>\n",
       "      <td>232</td>\n",
       "      <td>10</td>\n",
       "      <td>10</td>\n",
       "    </tr>\n",
       "  </tbody>\n",
       "</table>\n",
       "<p>37367 rows × 12 columns</p>\n",
       "</div>"
      ],
      "text/plain": [
       "                                            RootFork  \\\n",
       "ProjectID                                              \n",
       "Jackeagle_kernel_msm-3.18             torvalds_linux   \n",
       "bloomberg_chromium.bb                  FFmpeg_FFmpeg   \n",
       "buildroot_buildroot              buildroot_buildroot   \n",
       "jayanta525_openwrt-nanopi-r4s          u-boot_u-boot   \n",
       "openssl_openssl                      openssl_openssl   \n",
       "...                                              ...   \n",
       "stong_CVE-2020-15368                            <NA>   \n",
       "clio_ten_years_rails            clio_ten_years_rails   \n",
       "badsaarow_commcode2sql                          <NA>   \n",
       "kernelmethod_face_remover                       <NA>   \n",
       "ScratchAddons_website          ScratchAddons_website   \n",
       "\n",
       "                                     EarliestCommitDate  \\\n",
       "ProjectID                                                 \n",
       "Jackeagle_kernel_msm-3.18     1988-01-05 07:17:15+00:00   \n",
       "bloomberg_chromium.bb         1988-01-05 07:17:15+00:00   \n",
       "buildroot_buildroot           2000-05-14 04:16:35+00:00   \n",
       "jayanta525_openwrt-nanopi-r4s 1988-01-05 07:17:15+00:00   \n",
       "openssl_openssl               1998-10-05 20:12:28+00:00   \n",
       "...                                                 ...   \n",
       "stong_CVE-2020-15368          2021-06-29 04:37:48+00:00   \n",
       "clio_ten_years_rails          2018-04-16 16:32:49+00:00   \n",
       "badsaarow_commcode2sql        2018-02-12 09:58:42+00:00   \n",
       "kernelmethod_face_remover     2020-06-02 04:03:18+00:00   \n",
       "ScratchAddons_website         2020-09-16 23:44:04+00:00   \n",
       "\n",
       "                                       LatestCommitDate  NumActiveMon  \\\n",
       "ProjectID                                                               \n",
       "Jackeagle_kernel_msm-3.18     2085-06-18 15:57:19+00:00           364   \n",
       "bloomberg_chromium.bb         2097-03-18 18:54:57+00:00           305   \n",
       "buildroot_buildroot           2021-11-24 02:32:46+00:00           259   \n",
       "jayanta525_openwrt-nanopi-r4s 2021-11-26 22:10:53+00:00           260   \n",
       "openssl_openssl               2021-11-24 03:32:47+00:00           277   \n",
       "...                                                 ...           ...   \n",
       "stong_CVE-2020-15368          2021-10-29 07:46:53+00:00             5   \n",
       "clio_ten_years_rails          2021-10-22 17:44:59+00:00            28   \n",
       "badsaarow_commcode2sql        2021-11-02 13:27:44+00:00            14   \n",
       "kernelmethod_face_remover     2021-09-13 17:48:54+00:00             7   \n",
       "ScratchAddons_website         2021-05-11 20:35:56+00:00             9   \n",
       "\n",
       "                               NumAuthors  NumCore  CommunitySize  NumCommits  \\\n",
       "ProjectID                                                                       \n",
       "Jackeagle_kernel_msm-3.18          109725     3769         112489    36468389   \n",
       "bloomberg_chromium.bb               39637     2083          63661     6686322   \n",
       "buildroot_buildroot                  4347      239           4897      375883   \n",
       "jayanta525_openwrt-nanopi-r4s       12431      665          10358     1466896   \n",
       "openssl_openssl                      2595       55           6680      155973   \n",
       "...                                   ...      ...            ...         ...   \n",
       "stong_CVE-2020-15368                    2        1              1          19   \n",
       "clio_ten_years_rails                   20        6             13         142   \n",
       "badsaarow_commcode2sql                  2        2              1          49   \n",
       "kernelmethod_face_remover               1        1              1          17   \n",
       "ScratchAddons_website                  17        2              6         521   \n",
       "\n",
       "                               NumBlobs  NumFiles  NumForks  NumStars  \n",
       "ProjectID                                                              \n",
       "Jackeagle_kernel_msm-3.18      20588737   7984434    237104    201441  \n",
       "bloomberg_chromium.bb          12676680   7181765     63294    219233  \n",
       "buildroot_buildroot              694969    604548      4390     12124  \n",
       "jayanta525_openwrt-nanopi-r4s   2001478    719038      8383     10930  \n",
       "openssl_openssl                  390711    184853      7491     16022  \n",
       "...                                 ...       ...       ...       ...  \n",
       "stong_CVE-2020-15368                 81        33         0      <NA>  \n",
       "clio_ten_years_rails                194        40        16       177  \n",
       "badsaarow_commcode2sql              120        49         0      <NA>  \n",
       "kernelmethod_face_remover            34        13         0      <NA>  \n",
       "ScratchAddons_website               884       232        10        10  \n",
       "\n",
       "[37367 rows x 12 columns]"
      ]
     },
     "execution_count": 3,
     "metadata": {},
     "output_type": "execute_result"
    }
   ],
   "source": [
    "df=pd.read_parquet(df_filename)\n",
    "df"
   ]
  },
  {
   "cell_type": "code",
   "execution_count": 4,
   "id": "92bcf909",
   "metadata": {},
   "outputs": [
    {
     "data": {
      "text/plain": [
       "(37367, 12)"
      ]
     },
     "execution_count": 4,
     "metadata": {},
     "output_type": "execute_result"
    }
   ],
   "source": [
    "df.shape"
   ]
  },
  {
   "cell_type": "code",
   "execution_count": 5,
   "id": "bef1ac98",
   "metadata": {},
   "outputs": [
    {
     "data": {
      "text/plain": [
       "Index(['RootFork', 'EarliestCommitDate', 'LatestCommitDate', 'NumActiveMon',\n",
       "       'NumAuthors', 'NumCore', 'CommunitySize', 'NumCommits', 'NumBlobs',\n",
       "       'NumFiles', 'NumForks', 'NumStars'],\n",
       "      dtype='object')"
      ]
     },
     "execution_count": 5,
     "metadata": {},
     "output_type": "execute_result"
    }
   ],
   "source": [
    "df.columns"
   ]
  },
  {
   "cell_type": "code",
   "execution_count": 6,
   "id": "f40cc764",
   "metadata": {
    "scrolled": true
   },
   "outputs": [
    {
     "data": {
      "text/html": [
       "<div>\n",
       "<style scoped>\n",
       "    .dataframe tbody tr th:only-of-type {\n",
       "        vertical-align: middle;\n",
       "    }\n",
       "\n",
       "    .dataframe tbody tr th {\n",
       "        vertical-align: top;\n",
       "    }\n",
       "\n",
       "    .dataframe thead th {\n",
       "        text-align: right;\n",
       "    }\n",
       "</style>\n",
       "<table border=\"1\" class=\"dataframe\">\n",
       "  <thead>\n",
       "    <tr style=\"text-align: right;\">\n",
       "      <th></th>\n",
       "      <th>NumActiveMon</th>\n",
       "      <th>NumAuthors</th>\n",
       "      <th>NumCore</th>\n",
       "      <th>CommunitySize</th>\n",
       "      <th>NumCommits</th>\n",
       "      <th>NumBlobs</th>\n",
       "      <th>NumFiles</th>\n",
       "      <th>NumForks</th>\n",
       "      <th>NumStars</th>\n",
       "    </tr>\n",
       "  </thead>\n",
       "  <tbody>\n",
       "    <tr>\n",
       "      <th>count</th>\n",
       "      <td>37359.000000</td>\n",
       "      <td>36717.000000</td>\n",
       "      <td>36717.000000</td>\n",
       "      <td>37353.000000</td>\n",
       "      <td>3.712200e+04</td>\n",
       "      <td>3.735500e+04</td>\n",
       "      <td>3.735500e+04</td>\n",
       "      <td>37353.000000</td>\n",
       "      <td>20781.000000</td>\n",
       "    </tr>\n",
       "    <tr>\n",
       "      <th>mean</th>\n",
       "      <td>36.971948</td>\n",
       "      <td>122.309203</td>\n",
       "      <td>19.795517</td>\n",
       "      <td>193.313629</td>\n",
       "      <td>1.058411e+04</td>\n",
       "      <td>2.343997e+04</td>\n",
       "      <td>1.394070e+04</td>\n",
       "      <td>195.406179</td>\n",
       "      <td>1027.231269</td>\n",
       "    </tr>\n",
       "    <tr>\n",
       "      <th>std</th>\n",
       "      <td>49.217411</td>\n",
       "      <td>1433.092674</td>\n",
       "      <td>539.196746</td>\n",
       "      <td>2990.991122</td>\n",
       "      <td>2.456707e+05</td>\n",
       "      <td>3.045360e+05</td>\n",
       "      <td>2.926235e+05</td>\n",
       "      <td>2455.997305</td>\n",
       "      <td>7499.875281</td>\n",
       "    </tr>\n",
       "    <tr>\n",
       "      <th>min</th>\n",
       "      <td>1.000000</td>\n",
       "      <td>1.000000</td>\n",
       "      <td>1.000000</td>\n",
       "      <td>1.000000</td>\n",
       "      <td>1.000000e+00</td>\n",
       "      <td>1.000000e+00</td>\n",
       "      <td>1.000000e+00</td>\n",
       "      <td>0.000000</td>\n",
       "      <td>1.000000</td>\n",
       "    </tr>\n",
       "    <tr>\n",
       "      <th>25%</th>\n",
       "      <td>4.000000</td>\n",
       "      <td>1.000000</td>\n",
       "      <td>1.000000</td>\n",
       "      <td>1.000000</td>\n",
       "      <td>2.400000e+01</td>\n",
       "      <td>1.380000e+02</td>\n",
       "      <td>4.300000e+01</td>\n",
       "      <td>0.000000</td>\n",
       "      <td>2.000000</td>\n",
       "    </tr>\n",
       "    <tr>\n",
       "      <th>50%</th>\n",
       "      <td>17.000000</td>\n",
       "      <td>5.000000</td>\n",
       "      <td>2.000000</td>\n",
       "      <td>2.000000</td>\n",
       "      <td>1.450000e+02</td>\n",
       "      <td>5.840000e+02</td>\n",
       "      <td>2.640000e+02</td>\n",
       "      <td>1.000000</td>\n",
       "      <td>11.000000</td>\n",
       "    </tr>\n",
       "    <tr>\n",
       "      <th>75%</th>\n",
       "      <td>50.000000</td>\n",
       "      <td>27.000000</td>\n",
       "      <td>5.000000</td>\n",
       "      <td>10.000000</td>\n",
       "      <td>9.910000e+02</td>\n",
       "      <td>3.658500e+03</td>\n",
       "      <td>1.514500e+03</td>\n",
       "      <td>10.000000</td>\n",
       "      <td>108.000000</td>\n",
       "    </tr>\n",
       "    <tr>\n",
       "      <th>max</th>\n",
       "      <td>1093.000000</td>\n",
       "      <td>147142.000000</td>\n",
       "      <td>97996.000000</td>\n",
       "      <td>397005.000000</td>\n",
       "      <td>3.646839e+07</td>\n",
       "      <td>3.604579e+07</td>\n",
       "      <td>4.307279e+07</td>\n",
       "      <td>237104.000000</td>\n",
       "      <td>467739.000000</td>\n",
       "    </tr>\n",
       "  </tbody>\n",
       "</table>\n",
       "</div>"
      ],
      "text/plain": [
       "       NumActiveMon     NumAuthors       NumCore  CommunitySize    NumCommits  \\\n",
       "count  37359.000000   36717.000000  36717.000000   37353.000000  3.712200e+04   \n",
       "mean      36.971948     122.309203     19.795517     193.313629  1.058411e+04   \n",
       "std       49.217411    1433.092674    539.196746    2990.991122  2.456707e+05   \n",
       "min        1.000000       1.000000      1.000000       1.000000  1.000000e+00   \n",
       "25%        4.000000       1.000000      1.000000       1.000000  2.400000e+01   \n",
       "50%       17.000000       5.000000      2.000000       2.000000  1.450000e+02   \n",
       "75%       50.000000      27.000000      5.000000      10.000000  9.910000e+02   \n",
       "max     1093.000000  147142.000000  97996.000000  397005.000000  3.646839e+07   \n",
       "\n",
       "           NumBlobs      NumFiles       NumForks       NumStars  \n",
       "count  3.735500e+04  3.735500e+04   37353.000000   20781.000000  \n",
       "mean   2.343997e+04  1.394070e+04     195.406179    1027.231269  \n",
       "std    3.045360e+05  2.926235e+05    2455.997305    7499.875281  \n",
       "min    1.000000e+00  1.000000e+00       0.000000       1.000000  \n",
       "25%    1.380000e+02  4.300000e+01       0.000000       2.000000  \n",
       "50%    5.840000e+02  2.640000e+02       1.000000      11.000000  \n",
       "75%    3.658500e+03  1.514500e+03      10.000000     108.000000  \n",
       "max    3.604579e+07  4.307279e+07  237104.000000  467739.000000  "
      ]
     },
     "execution_count": 6,
     "metadata": {},
     "output_type": "execute_result"
    }
   ],
   "source": [
    "df.describe()"
   ]
  },
  {
   "cell_type": "code",
   "execution_count": 62,
   "id": "c9f6f5fc",
   "metadata": {},
   "outputs": [
    {
     "data": {
      "text/plain": [
       "NumActiveMon                fcharlie_git-analyze-demo\n",
       "NumAuthors                     Tiseg_github-slideshow\n",
       "NumCore                        Tiseg_github-slideshow\n",
       "NumCommits                  Jackeagle_kernel_msm-3.18\n",
       "NumBlobs         gitlab.com_gitlab-com_www-gitlab-com\n",
       "NumFiles                  apple_llvm-project-v5-split\n",
       "CommunitySize                  Tiseg_github-slideshow\n",
       "NumForks                    Jackeagle_kernel_msm-3.18\n",
       "NumStars                              frioux_dotfiles\n",
       "dtype: object"
      ]
     },
     "execution_count": 62,
     "metadata": {},
     "output_type": "execute_result"
    }
   ],
   "source": [
    "df[['NumActiveMon','NumAuthors','NumCore','NumCommits','NumBlobs','NumFiles','CommunitySize','NumForks','NumStars']].idxmax()"
   ]
  },
  {
   "cell_type": "code",
   "execution_count": 63,
   "id": "6956140c",
   "metadata": {},
   "outputs": [
    {
     "data": {
      "text/plain": [
       "NumActiveMon         1093\n",
       "NumAuthors         147142\n",
       "NumCore             97996\n",
       "NumCommits       36468389\n",
       "NumBlobs         36045793\n",
       "NumFiles         43072792\n",
       "CommunitySize      397005\n",
       "NumForks           237104\n",
       "NumStars           467739\n",
       "dtype: int64"
      ]
     },
     "execution_count": 63,
     "metadata": {},
     "output_type": "execute_result"
    }
   ],
   "source": [
    "df[['NumActiveMon','NumAuthors','NumCore','NumCommits','NumBlobs','NumFiles','CommunitySize','NumForks','NumStars']].max()"
   ]
  },
  {
   "cell_type": "code",
   "execution_count": 67,
   "id": "165717c8",
   "metadata": {
    "scrolled": true
   },
   "outputs": [
    {
     "data": {
      "text/html": [
       "<div>\n",
       "<style scoped>\n",
       "    .dataframe tbody tr th:only-of-type {\n",
       "        vertical-align: middle;\n",
       "    }\n",
       "\n",
       "    .dataframe tbody tr th {\n",
       "        vertical-align: top;\n",
       "    }\n",
       "\n",
       "    .dataframe thead th {\n",
       "        text-align: right;\n",
       "    }\n",
       "</style>\n",
       "<table border=\"1\" class=\"dataframe\">\n",
       "  <thead>\n",
       "    <tr style=\"text-align: right;\">\n",
       "      <th></th>\n",
       "      <th>RootFork</th>\n",
       "      <th>EarliestCommitDate</th>\n",
       "      <th>LatestCommitDate</th>\n",
       "      <th>NumActiveMon</th>\n",
       "      <th>NumAuthors</th>\n",
       "      <th>NumCore</th>\n",
       "      <th>CommunitySize</th>\n",
       "      <th>NumCommits</th>\n",
       "      <th>NumBlobs</th>\n",
       "      <th>NumFiles</th>\n",
       "      <th>NumForks</th>\n",
       "      <th>NumStars</th>\n",
       "      <th>NumCore/NumAuthors</th>\n",
       "    </tr>\n",
       "    <tr>\n",
       "      <th>ProjectID</th>\n",
       "      <th></th>\n",
       "      <th></th>\n",
       "      <th></th>\n",
       "      <th></th>\n",
       "      <th></th>\n",
       "      <th></th>\n",
       "      <th></th>\n",
       "      <th></th>\n",
       "      <th></th>\n",
       "      <th></th>\n",
       "      <th></th>\n",
       "      <th></th>\n",
       "      <th></th>\n",
       "    </tr>\n",
       "  </thead>\n",
       "  <tbody>\n",
       "    <tr>\n",
       "      <th>fcharlie_git-analyze-demo</th>\n",
       "      <td>&lt;NA&gt;</td>\n",
       "      <td>2010-01-01 03:27:17+00:00</td>\n",
       "      <td>2100-12-31 09:36:19+00:00</td>\n",
       "      <td>1093</td>\n",
       "      <td>4</td>\n",
       "      <td>2</td>\n",
       "      <td>4</td>\n",
       "      <td>265831</td>\n",
       "      <td>1669</td>\n",
       "      <td>1214</td>\n",
       "      <td>0</td>\n",
       "      <td>1</td>\n",
       "      <td>0.5</td>\n",
       "    </tr>\n",
       "    <tr>\n",
       "      <th>Tiseg_github-slideshow</th>\n",
       "      <td>ilike-1mwtt_github-slideshow</td>\n",
       "      <td>2018-01-23 16:34:15+00:00</td>\n",
       "      <td>2021-11-25 00:28:04+00:00</td>\n",
       "      <td>47</td>\n",
       "      <td>147142</td>\n",
       "      <td>97996</td>\n",
       "      <td>397005</td>\n",
       "      <td>642359</td>\n",
       "      <td>242411</td>\n",
       "      <td>333546</td>\n",
       "      <td>517</td>\n",
       "      <td>7537</td>\n",
       "      <td>0.665996</td>\n",
       "    </tr>\n",
       "    <tr>\n",
       "      <th>Jackeagle_kernel_msm-3.18</th>\n",
       "      <td>torvalds_linux</td>\n",
       "      <td>1988-01-05 07:17:15+00:00</td>\n",
       "      <td>2085-06-18 15:57:19+00:00</td>\n",
       "      <td>364</td>\n",
       "      <td>109725</td>\n",
       "      <td>3769</td>\n",
       "      <td>112489</td>\n",
       "      <td>36468389</td>\n",
       "      <td>20588737</td>\n",
       "      <td>7984434</td>\n",
       "      <td>237104</td>\n",
       "      <td>201441</td>\n",
       "      <td>0.03435</td>\n",
       "    </tr>\n",
       "    <tr>\n",
       "      <th>gitlab.com_gitlab-com_www-gitlab-com</th>\n",
       "      <td>imathis_octopress</td>\n",
       "      <td>1985-04-09 16:00:00+00:00</td>\n",
       "      <td>2146-03-27 23:31:44+00:00</td>\n",
       "      <td>239</td>\n",
       "      <td>74338</td>\n",
       "      <td>12880</td>\n",
       "      <td>98855</td>\n",
       "      <td>3219197</td>\n",
       "      <td>36045793</td>\n",
       "      <td>8308706</td>\n",
       "      <td>80833</td>\n",
       "      <td>95072</td>\n",
       "      <td>0.173263</td>\n",
       "    </tr>\n",
       "    <tr>\n",
       "      <th>apple_llvm-project-v5-split</th>\n",
       "      <td>llvm-mirror_llvm</td>\n",
       "      <td>1998-03-27 23:38:17+00:00</td>\n",
       "      <td>2021-11-27 19:16:18+00:00</td>\n",
       "      <td>247</td>\n",
       "      <td>9563</td>\n",
       "      <td>324</td>\n",
       "      <td>12970</td>\n",
       "      <td>8299149</td>\n",
       "      <td>3139847</td>\n",
       "      <td>43072792</td>\n",
       "      <td>13811</td>\n",
       "      <td>39505</td>\n",
       "      <td>0.033881</td>\n",
       "    </tr>\n",
       "    <tr>\n",
       "      <th>frioux_dotfiles</th>\n",
       "      <td>amix_vimrc</td>\n",
       "      <td>2001-07-09 00:00:00+00:00</td>\n",
       "      <td>2021-11-27 18:13:37+00:00</td>\n",
       "      <td>233</td>\n",
       "      <td>21031</td>\n",
       "      <td>2075</td>\n",
       "      <td>66181</td>\n",
       "      <td>328010</td>\n",
       "      <td>659847</td>\n",
       "      <td>483055</td>\n",
       "      <td>74498</td>\n",
       "      <td>467739</td>\n",
       "      <td>0.098664</td>\n",
       "    </tr>\n",
       "  </tbody>\n",
       "</table>\n",
       "</div>"
      ],
      "text/plain": [
       "                                                          RootFork  \\\n",
       "ProjectID                                                            \n",
       "fcharlie_git-analyze-demo                                     <NA>   \n",
       "Tiseg_github-slideshow                ilike-1mwtt_github-slideshow   \n",
       "Jackeagle_kernel_msm-3.18                           torvalds_linux   \n",
       "gitlab.com_gitlab-com_www-gitlab-com             imathis_octopress   \n",
       "apple_llvm-project-v5-split                       llvm-mirror_llvm   \n",
       "frioux_dotfiles                                         amix_vimrc   \n",
       "\n",
       "                                            EarliestCommitDate  \\\n",
       "ProjectID                                                        \n",
       "fcharlie_git-analyze-demo            2010-01-01 03:27:17+00:00   \n",
       "Tiseg_github-slideshow               2018-01-23 16:34:15+00:00   \n",
       "Jackeagle_kernel_msm-3.18            1988-01-05 07:17:15+00:00   \n",
       "gitlab.com_gitlab-com_www-gitlab-com 1985-04-09 16:00:00+00:00   \n",
       "apple_llvm-project-v5-split          1998-03-27 23:38:17+00:00   \n",
       "frioux_dotfiles                      2001-07-09 00:00:00+00:00   \n",
       "\n",
       "                                              LatestCommitDate  NumActiveMon  \\\n",
       "ProjectID                                                                      \n",
       "fcharlie_git-analyze-demo            2100-12-31 09:36:19+00:00          1093   \n",
       "Tiseg_github-slideshow               2021-11-25 00:28:04+00:00            47   \n",
       "Jackeagle_kernel_msm-3.18            2085-06-18 15:57:19+00:00           364   \n",
       "gitlab.com_gitlab-com_www-gitlab-com 2146-03-27 23:31:44+00:00           239   \n",
       "apple_llvm-project-v5-split          2021-11-27 19:16:18+00:00           247   \n",
       "frioux_dotfiles                      2021-11-27 18:13:37+00:00           233   \n",
       "\n",
       "                                      NumAuthors  NumCore  CommunitySize  \\\n",
       "ProjectID                                                                  \n",
       "fcharlie_git-analyze-demo                      4        2              4   \n",
       "Tiseg_github-slideshow                    147142    97996         397005   \n",
       "Jackeagle_kernel_msm-3.18                 109725     3769         112489   \n",
       "gitlab.com_gitlab-com_www-gitlab-com       74338    12880          98855   \n",
       "apple_llvm-project-v5-split                 9563      324          12970   \n",
       "frioux_dotfiles                            21031     2075          66181   \n",
       "\n",
       "                                      NumCommits  NumBlobs  NumFiles  \\\n",
       "ProjectID                                                              \n",
       "fcharlie_git-analyze-demo                 265831      1669      1214   \n",
       "Tiseg_github-slideshow                    642359    242411    333546   \n",
       "Jackeagle_kernel_msm-3.18               36468389  20588737   7984434   \n",
       "gitlab.com_gitlab-com_www-gitlab-com     3219197  36045793   8308706   \n",
       "apple_llvm-project-v5-split              8299149   3139847  43072792   \n",
       "frioux_dotfiles                           328010    659847    483055   \n",
       "\n",
       "                                      NumForks  NumStars  NumCore/NumAuthors  \n",
       "ProjectID                                                                     \n",
       "fcharlie_git-analyze-demo                    0         1                 0.5  \n",
       "Tiseg_github-slideshow                     517      7537            0.665996  \n",
       "Jackeagle_kernel_msm-3.18               237104    201441             0.03435  \n",
       "gitlab.com_gitlab-com_www-gitlab-com     80833     95072            0.173263  \n",
       "apple_llvm-project-v5-split              13811     39505            0.033881  \n",
       "frioux_dotfiles                          74498    467739            0.098664  "
      ]
     },
     "execution_count": 67,
     "metadata": {},
     "output_type": "execute_result"
    }
   ],
   "source": [
    "df.loc[[\n",
    "    'fcharlie_git-analyze-demo',\n",
    "    'Tiseg_github-slideshow',\n",
    "    'Jackeagle_kernel_msm-3.18',\n",
    "    'gitlab.com_gitlab-com_www-gitlab-com',\n",
    "    'apple_llvm-project-v5-split',\n",
    "    'frioux_dotfiles'\n",
    "]]"
   ]
  },
  {
   "cell_type": "markdown",
   "id": "ab39554b",
   "metadata": {},
   "source": [
    "- `Tiseg_github-slideshow` ([Tiseg/github-slideshow](https://github.com/Tiseg/github-slideshow)) GitHub Learning Lab Repository for Introducing GitHub\n",
    "- `fcharlie_git-analyze-demo` is crazy git tools git-analyze demo, with commits crazily in the future (latest commit is Dec 31, 2100)"
   ]
  },
  {
   "cell_type": "markdown",
   "id": "0d04ba66",
   "metadata": {},
   "source": [
    "### Project age"
   ]
  },
  {
   "cell_type": "markdown",
   "id": "efae17bf",
   "metadata": {},
   "source": [
    "To analyze project age, we need to remove projects with unreliable commit dates\n",
    "- first release of Git was on 7 April 2005, but projects may have been imported from other version control systems\n",
    "   - CVS was first publicly released on 3 July 1986\n",
    "   - Subversion was started in 2000\n",
    "- The `P_metadata.U` collection is from May 2022, so there shouldn't be any older commit dates"
   ]
  },
  {
   "cell_type": "code",
   "execution_count": 101,
   "id": "9fd8654c",
   "metadata": {
    "scrolled": true
   },
   "outputs": [
    {
     "name": "stdout",
     "output_type": "stream",
     "text": [
      "(37367, 13)\n",
      "(37291, 13)\n",
      "99.796611983836\n"
     ]
    }
   ],
   "source": [
    "df_filtered=df[df['LatestCommitDate']<'2022-05-30']\n",
    "print(df.shape)\n",
    "print(df_filtered.shape)\n",
    "print(100.0*df_filtered.shape[0]/df.shape[0])"
   ]
  },
  {
   "cell_type": "code",
   "execution_count": 100,
   "id": "ec9acb12",
   "metadata": {},
   "outputs": [
    {
     "data": {
      "text/plain": [
       "LatestCommitDate    2022-05-28 16:00:00+00:00\n",
       "NumActiveMon                              453\n",
       "NumAuthors                             147142\n",
       "NumCore                                 97996\n",
       "NumCommits                            8299149\n",
       "NumBlobs                             18381095\n",
       "NumFiles                             43072792\n",
       "CommunitySize                          397005\n",
       "NumForks                               217807\n",
       "NumStars                               467739\n",
       "dtype: object"
      ]
     },
     "execution_count": 100,
     "metadata": {},
     "output_type": "execute_result"
    }
   ],
   "source": [
    "df_filtered[['LatestCommitDate','NumActiveMon','NumAuthors','NumCore','NumCommits','NumBlobs','NumFiles','CommunitySize','NumForks','NumStars']].max()"
   ]
  },
  {
   "cell_type": "code",
   "execution_count": 102,
   "id": "092a5f7e",
   "metadata": {},
   "outputs": [
    {
     "data": {
      "text/plain": [
       "<AxesSubplot: ylabel='Count'>"
      ]
     },
     "execution_count": 102,
     "metadata": {},
     "output_type": "execute_result"
    },
    {
     "data": {
      "image/png": "[encoded data removed]",
      "text/plain": [
       "<Figure size 432x288 with 1 Axes>"
      ]
     },
     "metadata": {
      "needs_background": "light"
     },
     "output_type": "display_data"
    }
   ],
   "source": [
    "sns.histplot(data=df_filtered[['NumActiveMon']].dropna(), kde=True)"
   ]
  },
  {
   "cell_type": "code",
   "execution_count": 103,
   "id": "357c7629",
   "metadata": {},
   "outputs": [
    {
     "data": {
      "text/plain": [
       "<AxesSubplot: ylabel='Count'>"
      ]
     },
     "execution_count": 103,
     "metadata": {},
     "output_type": "execute_result"
    },
    {
     "data": {
      "image/png": "[encoded data removed]",
      "text/plain": [
       "<Figure size 432x288 with 1 Axes>"
      ]
     },
     "metadata": {
      "needs_background": "light"
     },
     "output_type": "display_data"
    }
   ],
   "source": [
    "sns.histplot(data=df_filtered[['NumActiveMon']].dropna(), kde=True, log_scale=True)"
   ]
  },
  {
   "cell_type": "code",
   "execution_count": 106,
   "id": "96231f8a",
   "metadata": {},
   "outputs": [
    {
     "data": {
      "text/plain": [
       "<AxesSubplot: ylabel='Count'>"
      ]
     },
     "execution_count": 106,
     "metadata": {},
     "output_type": "execute_result"
    },
    {
     "data": {
      "image/png": "[encoded data removed]",
      "text/plain": [
       "<Figure size 432x288 with 1 Axes>"
      ]
     },
     "metadata": {
      "needs_background": "light"
     },
     "output_type": "display_data"
    }
   ],
   "source": [
    "sns.histplot(data=df_filtered[['NumActiveMon']].dropna(), log_scale=True)"
   ]
  },
  {
   "cell_type": "code",
   "execution_count": 105,
   "id": "c08561f7",
   "metadata": {
    "scrolled": true
   },
   "outputs": [
    {
     "data": {
      "text/plain": [
       "<AxesSubplot: ylabel='Count'>"
      ]
     },
     "execution_count": 105,
     "metadata": {},
     "output_type": "execute_result"
    },
    {
     "data": {
      "image/png": "[encoded data removed]",
      "text/plain": [
       "<Figure size 432x288 with 1 Axes>"
      ]
     },
     "metadata": {
      "needs_background": "light"
     },
     "output_type": "display_data"
    }
   ],
   "source": [
    "sns.histplot(data=df_filtered[['NumActiveMon']].dropna(), discrete=True, log_scale=True)"
   ]
  },
  {
   "cell_type": "code",
   "execution_count": 107,
   "id": "e61e41d9",
   "metadata": {},
   "outputs": [
    {
     "data": {
      "text/html": [
       "<div>\n",
       "<style scoped>\n",
       "    .dataframe tbody tr th:only-of-type {\n",
       "        vertical-align: middle;\n",
       "    }\n",
       "\n",
       "    .dataframe tbody tr th {\n",
       "        vertical-align: top;\n",
       "    }\n",
       "\n",
       "    .dataframe thead th {\n",
       "        text-align: right;\n",
       "    }\n",
       "</style>\n",
       "<table border=\"1\" class=\"dataframe\">\n",
       "  <thead>\n",
       "    <tr style=\"text-align: right;\">\n",
       "      <th></th>\n",
       "      <th>EarliestCommitDate</th>\n",
       "      <th>LatestCommitDate</th>\n",
       "      <th>CommitDateRange</th>\n",
       "      <th>NumActiveMon</th>\n",
       "    </tr>\n",
       "    <tr>\n",
       "      <th>ProjectID</th>\n",
       "      <th></th>\n",
       "      <th></th>\n",
       "      <th></th>\n",
       "      <th></th>\n",
       "    </tr>\n",
       "  </thead>\n",
       "  <tbody>\n",
       "    <tr>\n",
       "      <th>Jackeagle_kernel_msm-3.18</th>\n",
       "      <td>1988-01-05 07:17:15+00:00</td>\n",
       "      <td>2085-06-18 15:57:19+00:00</td>\n",
       "      <td>35594 days 08:40:04</td>\n",
       "      <td>364</td>\n",
       "    </tr>\n",
       "    <tr>\n",
       "      <th>bloomberg_chromium.bb</th>\n",
       "      <td>1988-01-05 07:17:15+00:00</td>\n",
       "      <td>2097-03-18 18:54:57+00:00</td>\n",
       "      <td>39885 days 11:37:42</td>\n",
       "      <td>305</td>\n",
       "    </tr>\n",
       "    <tr>\n",
       "      <th>buildroot_buildroot</th>\n",
       "      <td>2000-05-14 04:16:35+00:00</td>\n",
       "      <td>2021-11-24 02:32:46+00:00</td>\n",
       "      <td>7863 days 22:16:11</td>\n",
       "      <td>259</td>\n",
       "    </tr>\n",
       "    <tr>\n",
       "      <th>jayanta525_openwrt-nanopi-r4s</th>\n",
       "      <td>1988-01-05 07:17:15+00:00</td>\n",
       "      <td>2021-11-26 22:10:53+00:00</td>\n",
       "      <td>12379 days 14:53:38</td>\n",
       "      <td>260</td>\n",
       "    </tr>\n",
       "    <tr>\n",
       "      <th>openssl_openssl</th>\n",
       "      <td>1998-10-05 20:12:28+00:00</td>\n",
       "      <td>2021-11-24 03:32:47+00:00</td>\n",
       "      <td>8450 days 07:20:19</td>\n",
       "      <td>277</td>\n",
       "    </tr>\n",
       "    <tr>\n",
       "      <th>...</th>\n",
       "      <td>...</td>\n",
       "      <td>...</td>\n",
       "      <td>...</td>\n",
       "      <td>...</td>\n",
       "    </tr>\n",
       "    <tr>\n",
       "      <th>stong_CVE-2020-15368</th>\n",
       "      <td>2021-06-29 04:37:48+00:00</td>\n",
       "      <td>2021-10-29 07:46:53+00:00</td>\n",
       "      <td>122 days 03:09:05</td>\n",
       "      <td>5</td>\n",
       "    </tr>\n",
       "    <tr>\n",
       "      <th>clio_ten_years_rails</th>\n",
       "      <td>2018-04-16 16:32:49+00:00</td>\n",
       "      <td>2021-10-22 17:44:59+00:00</td>\n",
       "      <td>1285 days 01:12:10</td>\n",
       "      <td>28</td>\n",
       "    </tr>\n",
       "    <tr>\n",
       "      <th>badsaarow_commcode2sql</th>\n",
       "      <td>2018-02-12 09:58:42+00:00</td>\n",
       "      <td>2021-11-02 13:27:44+00:00</td>\n",
       "      <td>1359 days 03:29:02</td>\n",
       "      <td>14</td>\n",
       "    </tr>\n",
       "    <tr>\n",
       "      <th>kernelmethod_face_remover</th>\n",
       "      <td>2020-06-02 04:03:18+00:00</td>\n",
       "      <td>2021-09-13 17:48:54+00:00</td>\n",
       "      <td>468 days 13:45:36</td>\n",
       "      <td>7</td>\n",
       "    </tr>\n",
       "    <tr>\n",
       "      <th>ScratchAddons_website</th>\n",
       "      <td>2020-09-16 23:44:04+00:00</td>\n",
       "      <td>2021-05-11 20:35:56+00:00</td>\n",
       "      <td>236 days 20:51:52</td>\n",
       "      <td>9</td>\n",
       "    </tr>\n",
       "  </tbody>\n",
       "</table>\n",
       "<p>37367 rows × 4 columns</p>\n",
       "</div>"
      ],
      "text/plain": [
       "                                     EarliestCommitDate  \\\n",
       "ProjectID                                                 \n",
       "Jackeagle_kernel_msm-3.18     1988-01-05 07:17:15+00:00   \n",
       "bloomberg_chromium.bb         1988-01-05 07:17:15+00:00   \n",
       "buildroot_buildroot           2000-05-14 04:16:35+00:00   \n",
       "jayanta525_openwrt-nanopi-r4s 1988-01-05 07:17:15+00:00   \n",
       "openssl_openssl               1998-10-05 20:12:28+00:00   \n",
       "...                                                 ...   \n",
       "stong_CVE-2020-15368          2021-06-29 04:37:48+00:00   \n",
       "clio_ten_years_rails          2018-04-16 16:32:49+00:00   \n",
       "badsaarow_commcode2sql        2018-02-12 09:58:42+00:00   \n",
       "kernelmethod_face_remover     2020-06-02 04:03:18+00:00   \n",
       "ScratchAddons_website         2020-09-16 23:44:04+00:00   \n",
       "\n",
       "                                       LatestCommitDate     CommitDateRange  \\\n",
       "ProjectID                                                                     \n",
       "Jackeagle_kernel_msm-3.18     2085-06-18 15:57:19+00:00 35594 days 08:40:04   \n",
       "bloomberg_chromium.bb         2097-03-18 18:54:57+00:00 39885 days 11:37:42   \n",
       "buildroot_buildroot           2021-11-24 02:32:46+00:00  7863 days 22:16:11   \n",
       "jayanta525_openwrt-nanopi-r4s 2021-11-26 22:10:53+00:00 12379 days 14:53:38   \n",
       "openssl_openssl               2021-11-24 03:32:47+00:00  8450 days 07:20:19   \n",
       "...                                                 ...                 ...   \n",
       "stong_CVE-2020-15368          2021-10-29 07:46:53+00:00   122 days 03:09:05   \n",
       "clio_ten_years_rails          2021-10-22 17:44:59+00:00  1285 days 01:12:10   \n",
       "badsaarow_commcode2sql        2021-11-02 13:27:44+00:00  1359 days 03:29:02   \n",
       "kernelmethod_face_remover     2021-09-13 17:48:54+00:00   468 days 13:45:36   \n",
       "ScratchAddons_website         2021-05-11 20:35:56+00:00   236 days 20:51:52   \n",
       "\n",
       "                               NumActiveMon  \n",
       "ProjectID                                    \n",
       "Jackeagle_kernel_msm-3.18               364  \n",
       "bloomberg_chromium.bb                   305  \n",
       "buildroot_buildroot                     259  \n",
       "jayanta525_openwrt-nanopi-r4s           260  \n",
       "openssl_openssl                         277  \n",
       "...                                     ...  \n",
       "stong_CVE-2020-15368                      5  \n",
       "clio_ten_years_rails                     28  \n",
       "badsaarow_commcode2sql                   14  \n",
       "kernelmethod_face_remover                 7  \n",
       "ScratchAddons_website                     9  \n",
       "\n",
       "[37367 rows x 4 columns]"
      ]
     },
     "execution_count": 107,
     "metadata": {},
     "output_type": "execute_result"
    }
   ],
   "source": [
    "df['CommitDateRange']=df['LatestCommitDate']-df['EarliestCommitDate']\n",
    "df[['EarliestCommitDate','LatestCommitDate','CommitDateRange','NumActiveMon']]"
   ]
  },
  {
   "cell_type": "code",
   "execution_count": 108,
   "id": "4c470eb6",
   "metadata": {},
   "outputs": [
    {
     "data": {
      "text/plain": [
       "Index(['RootFork', 'EarliestCommitDate', 'LatestCommitDate', 'NumActiveMon',\n",
       "       'NumAuthors', 'NumCore', 'CommunitySize', 'NumCommits', 'NumBlobs',\n",
       "       'NumFiles', 'NumForks', 'NumStars', 'NumCore/NumAuthors'],\n",
       "      dtype='object')"
      ]
     },
     "execution_count": 108,
     "metadata": {},
     "output_type": "execute_result"
    }
   ],
   "source": [
    "df_filtered.columns"
   ]
  },
  {
   "cell_type": "code",
   "execution_count": 136,
   "id": "f55b8003",
   "metadata": {
    "scrolled": true
   },
   "outputs": [
    {
     "data": {
      "text/plain": [
       "ProjectID\n",
       "Jackeagle_kernel_msm-3.18        35594.0\n",
       "bloomberg_chromium.bb            39885.0\n",
       "buildroot_buildroot               7863.0\n",
       "jayanta525_openwrt-nanopi-r4s    12379.0\n",
       "openssl_openssl                   8450.0\n",
       "                                  ...   \n",
       "stong_CVE-2020-15368               122.0\n",
       "clio_ten_years_rails              1285.0\n",
       "badsaarow_commcode2sql            1359.0\n",
       "kernelmethod_face_remover          468.0\n",
       "ScratchAddons_website              236.0\n",
       "Name: CommitDateRange [days], Length: 37367, dtype: float64"
      ]
     },
     "execution_count": 136,
     "metadata": {},
     "output_type": "execute_result"
    }
   ],
   "source": [
    "df['CommitDateRange [days]']=df['CommitDateRange'].dt.days\n",
    "df['CommitDateRange [days]']"
   ]
  },
  {
   "cell_type": "code",
   "execution_count": 139,
   "id": "0d8915d4",
   "metadata": {},
   "outputs": [
    {
     "data": {
      "text/html": [
       "<div>\n",
       "<style scoped>\n",
       "    .dataframe tbody tr th:only-of-type {\n",
       "        vertical-align: middle;\n",
       "    }\n",
       "\n",
       "    .dataframe tbody tr th {\n",
       "        vertical-align: top;\n",
       "    }\n",
       "\n",
       "    .dataframe thead th {\n",
       "        text-align: right;\n",
       "    }\n",
       "</style>\n",
       "<table border=\"1\" class=\"dataframe\">\n",
       "  <thead>\n",
       "    <tr style=\"text-align: right;\">\n",
       "      <th></th>\n",
       "      <th>NumActiveMon</th>\n",
       "      <th>NumAuthors</th>\n",
       "      <th>NumCore</th>\n",
       "      <th>CommunitySize</th>\n",
       "      <th>NumCommits</th>\n",
       "      <th>NumBlobs</th>\n",
       "      <th>NumFiles</th>\n",
       "      <th>NumForks</th>\n",
       "      <th>NumStars</th>\n",
       "      <th>NumCore/NumAuthors</th>\n",
       "      <th>CommitDateRange</th>\n",
       "      <th>CommitDateRange [Mon]</th>\n",
       "      <th>NumActiveMon [%]</th>\n",
       "      <th>CommitDateRange [days]</th>\n",
       "    </tr>\n",
       "  </thead>\n",
       "  <tbody>\n",
       "    <tr>\n",
       "      <th>count</th>\n",
       "      <td>37359.000000</td>\n",
       "      <td>36717.000000</td>\n",
       "      <td>36717.000000</td>\n",
       "      <td>37353.000000</td>\n",
       "      <td>3.712200e+04</td>\n",
       "      <td>3.735500e+04</td>\n",
       "      <td>3.735500e+04</td>\n",
       "      <td>37353.000000</td>\n",
       "      <td>20781.000000</td>\n",
       "      <td>36717.000000</td>\n",
       "      <td>37359</td>\n",
       "      <td>37359.000000</td>\n",
       "      <td>37359.000000</td>\n",
       "      <td>37359.000000</td>\n",
       "    </tr>\n",
       "    <tr>\n",
       "      <th>mean</th>\n",
       "      <td>36.971948</td>\n",
       "      <td>122.309203</td>\n",
       "      <td>19.795517</td>\n",
       "      <td>193.313629</td>\n",
       "      <td>1.058411e+04</td>\n",
       "      <td>2.343997e+04</td>\n",
       "      <td>1.394070e+04</td>\n",
       "      <td>195.406179</td>\n",
       "      <td>1027.231269</td>\n",
       "      <td>0.527161</td>\n",
       "      <td>1854 days 03:15:49.901549856</td>\n",
       "      <td>60.900211</td>\n",
       "      <td>58.078174</td>\n",
       "      <td>1853.641050</td>\n",
       "    </tr>\n",
       "    <tr>\n",
       "      <th>std</th>\n",
       "      <td>49.217411</td>\n",
       "      <td>1433.092674</td>\n",
       "      <td>539.196746</td>\n",
       "      <td>2990.991122</td>\n",
       "      <td>2.456707e+05</td>\n",
       "      <td>3.045360e+05</td>\n",
       "      <td>2.926235e+05</td>\n",
       "      <td>2455.997305</td>\n",
       "      <td>7499.875281</td>\n",
       "      <td>0.353986</td>\n",
       "      <td>2069 days 03:27:49.529624832</td>\n",
       "      <td>67.972573</td>\n",
       "      <td>33.429966</td>\n",
       "      <td>2069.134379</td>\n",
       "    </tr>\n",
       "    <tr>\n",
       "      <th>min</th>\n",
       "      <td>1.000000</td>\n",
       "      <td>1.000000</td>\n",
       "      <td>1.000000</td>\n",
       "      <td>1.000000</td>\n",
       "      <td>1.000000e+00</td>\n",
       "      <td>1.000000e+00</td>\n",
       "      <td>1.000000e+00</td>\n",
       "      <td>0.000000</td>\n",
       "      <td>1.000000</td>\n",
       "      <td>0.002786</td>\n",
       "      <td>0 days 00:00:00</td>\n",
       "      <td>0.000000</td>\n",
       "      <td>1.379310</td>\n",
       "      <td>0.000000</td>\n",
       "    </tr>\n",
       "    <tr>\n",
       "      <th>25%</th>\n",
       "      <td>4.000000</td>\n",
       "      <td>1.000000</td>\n",
       "      <td>1.000000</td>\n",
       "      <td>1.000000</td>\n",
       "      <td>2.400000e+01</td>\n",
       "      <td>1.380000e+02</td>\n",
       "      <td>4.300000e+01</td>\n",
       "      <td>0.000000</td>\n",
       "      <td>2.000000</td>\n",
       "      <td>0.214634</td>\n",
       "      <td>587 days 21:01:53</td>\n",
       "      <td>19.000000</td>\n",
       "      <td>27.027027</td>\n",
       "      <td>587.000000</td>\n",
       "    </tr>\n",
       "    <tr>\n",
       "      <th>50%</th>\n",
       "      <td>17.000000</td>\n",
       "      <td>5.000000</td>\n",
       "      <td>2.000000</td>\n",
       "      <td>2.000000</td>\n",
       "      <td>1.450000e+02</td>\n",
       "      <td>5.840000e+02</td>\n",
       "      <td>2.640000e+02</td>\n",
       "      <td>1.000000</td>\n",
       "      <td>11.000000</td>\n",
       "      <td>0.475120</td>\n",
       "      <td>1284 days 00:12:17</td>\n",
       "      <td>42.000000</td>\n",
       "      <td>60.000000</td>\n",
       "      <td>1284.000000</td>\n",
       "    </tr>\n",
       "    <tr>\n",
       "      <th>75%</th>\n",
       "      <td>50.000000</td>\n",
       "      <td>27.000000</td>\n",
       "      <td>5.000000</td>\n",
       "      <td>10.000000</td>\n",
       "      <td>9.910000e+02</td>\n",
       "      <td>3.658500e+03</td>\n",
       "      <td>1.514500e+03</td>\n",
       "      <td>10.000000</td>\n",
       "      <td>108.000000</td>\n",
       "      <td>1.000000</td>\n",
       "      <td>2466 days 09:26:16</td>\n",
       "      <td>81.000000</td>\n",
       "      <td>93.181818</td>\n",
       "      <td>2466.000000</td>\n",
       "    </tr>\n",
       "    <tr>\n",
       "      <th>max</th>\n",
       "      <td>1093.000000</td>\n",
       "      <td>147142.000000</td>\n",
       "      <td>97996.000000</td>\n",
       "      <td>397005.000000</td>\n",
       "      <td>3.646839e+07</td>\n",
       "      <td>3.604579e+07</td>\n",
       "      <td>4.307279e+07</td>\n",
       "      <td>237104.000000</td>\n",
       "      <td>467739.000000</td>\n",
       "      <td>1.000000</td>\n",
       "      <td>81273 days 12:13:34</td>\n",
       "      <td>2671.000000</td>\n",
       "      <td>200.000000</td>\n",
       "      <td>81273.000000</td>\n",
       "    </tr>\n",
       "  </tbody>\n",
       "</table>\n",
       "</div>"
      ],
      "text/plain": [
       "       NumActiveMon     NumAuthors       NumCore  CommunitySize    NumCommits  \\\n",
       "count  37359.000000   36717.000000  36717.000000   37353.000000  3.712200e+04   \n",
       "mean      36.971948     122.309203     19.795517     193.313629  1.058411e+04   \n",
       "std       49.217411    1433.092674    539.196746    2990.991122  2.456707e+05   \n",
       "min        1.000000       1.000000      1.000000       1.000000  1.000000e+00   \n",
       "25%        4.000000       1.000000      1.000000       1.000000  2.400000e+01   \n",
       "50%       17.000000       5.000000      2.000000       2.000000  1.450000e+02   \n",
       "75%       50.000000      27.000000      5.000000      10.000000  9.910000e+02   \n",
       "max     1093.000000  147142.000000  97996.000000  397005.000000  3.646839e+07   \n",
       "\n",
       "           NumBlobs      NumFiles       NumForks       NumStars  \\\n",
       "count  3.735500e+04  3.735500e+04   37353.000000   20781.000000   \n",
       "mean   2.343997e+04  1.394070e+04     195.406179    1027.231269   \n",
       "std    3.045360e+05  2.926235e+05    2455.997305    7499.875281   \n",
       "min    1.000000e+00  1.000000e+00       0.000000       1.000000   \n",
       "25%    1.380000e+02  4.300000e+01       0.000000       2.000000   \n",
       "50%    5.840000e+02  2.640000e+02       1.000000      11.000000   \n",
       "75%    3.658500e+03  1.514500e+03      10.000000     108.000000   \n",
       "max    3.604579e+07  4.307279e+07  237104.000000  467739.000000   \n",
       "\n",
       "       NumCore/NumAuthors               CommitDateRange  \\\n",
       "count        36717.000000                         37359   \n",
       "mean             0.527161  1854 days 03:15:49.901549856   \n",
       "std              0.353986  2069 days 03:27:49.529624832   \n",
       "min              0.002786               0 days 00:00:00   \n",
       "25%              0.214634             587 days 21:01:53   \n",
       "50%              0.475120            1284 days 00:12:17   \n",
       "75%              1.000000            2466 days 09:26:16   \n",
       "max              1.000000           81273 days 12:13:34   \n",
       "\n",
       "       CommitDateRange [Mon]  NumActiveMon [%]  CommitDateRange [days]  \n",
       "count           37359.000000      37359.000000            37359.000000  \n",
       "mean               60.900211         58.078174             1853.641050  \n",
       "std                67.972573         33.429966             2069.134379  \n",
       "min                 0.000000          1.379310                0.000000  \n",
       "25%                19.000000         27.027027              587.000000  \n",
       "50%                42.000000         60.000000             1284.000000  \n",
       "75%                81.000000         93.181818             2466.000000  \n",
       "max              2671.000000        200.000000            81273.000000  "
      ]
     },
     "execution_count": 139,
     "metadata": {},
     "output_type": "execute_result"
    }
   ],
   "source": [
    "df.describe()"
   ]
  },
  {
   "cell_type": "code",
   "execution_count": 140,
   "id": "2045265b",
   "metadata": {},
   "outputs": [
    {
     "data": {
      "text/plain": [
       "<AxesSubplot: xlabel='CommitDateRange [days]', ylabel='Count'>"
      ]
     },
     "execution_count": 140,
     "metadata": {},
     "output_type": "execute_result"
    },
    {
     "data": {
      "image/png": "[encoded data removed]",
      "text/plain": [
       "<Figure size 432x288 with 1 Axes>"
      ]
     },
     "metadata": {
      "needs_background": "light"
     },
     "output_type": "display_data"
    }
   ],
   "source": [
    "df_filtered=df[df['LatestCommitDate']<'2022-05-30']\n",
    "sns.histplot(data=df_filtered['CommitDateRange [days]'].dropna())"
   ]
  },
  {
   "cell_type": "code",
   "execution_count": 121,
   "id": "3826fbee",
   "metadata": {},
   "outputs": [],
   "source": [
    "df['CommitDateRange [Mon]']=\\\n",
    "12 * (df['LatestCommitDate'].dt.year  - df['EarliestCommitDate'].dt.year) +\\\n",
    "     (df['LatestCommitDate'].dt.month - df['EarliestCommitDate'].dt.month)\n",
    "\n",
    "#df['CommitDateRange [Mon]'].astype('int')"
   ]
  },
  {
   "cell_type": "markdown",
   "id": "c7e1dff4",
   "metadata": {},
   "source": [
    "### Project activity"
   ]
  },
  {
   "cell_type": "code",
   "execution_count": 124,
   "id": "8766815d",
   "metadata": {},
   "outputs": [],
   "source": [
    "df['NumActiveMon [%]']=100.0*df['NumActiveMon']/(df['CommitDateRange [Mon]']+1)"
   ]
  },
  {
   "cell_type": "code",
   "execution_count": 125,
   "id": "f1f9df4c",
   "metadata": {},
   "outputs": [
    {
     "data": {
      "text/html": [
       "<div>\n",
       "<style scoped>\n",
       "    .dataframe tbody tr th:only-of-type {\n",
       "        vertical-align: middle;\n",
       "    }\n",
       "\n",
       "    .dataframe tbody tr th {\n",
       "        vertical-align: top;\n",
       "    }\n",
       "\n",
       "    .dataframe thead th {\n",
       "        text-align: right;\n",
       "    }\n",
       "</style>\n",
       "<table border=\"1\" class=\"dataframe\">\n",
       "  <thead>\n",
       "    <tr style=\"text-align: right;\">\n",
       "      <th></th>\n",
       "      <th>EarliestCommitDate</th>\n",
       "      <th>LatestCommitDate</th>\n",
       "      <th>CommitDateRange</th>\n",
       "      <th>CommitDateRange [Mon]</th>\n",
       "      <th>NumActiveMon</th>\n",
       "      <th>NumActiveMon [%]</th>\n",
       "    </tr>\n",
       "    <tr>\n",
       "      <th>ProjectID</th>\n",
       "      <th></th>\n",
       "      <th></th>\n",
       "      <th></th>\n",
       "      <th></th>\n",
       "      <th></th>\n",
       "      <th></th>\n",
       "    </tr>\n",
       "  </thead>\n",
       "  <tbody>\n",
       "    <tr>\n",
       "      <th>Jackeagle_kernel_msm-3.18</th>\n",
       "      <td>1988-01-05 07:17:15+00:00</td>\n",
       "      <td>2085-06-18 15:57:19+00:00</td>\n",
       "      <td>35594 days 08:40:04</td>\n",
       "      <td>1169.0</td>\n",
       "      <td>364</td>\n",
       "      <td>31.111111</td>\n",
       "    </tr>\n",
       "    <tr>\n",
       "      <th>bloomberg_chromium.bb</th>\n",
       "      <td>1988-01-05 07:17:15+00:00</td>\n",
       "      <td>2097-03-18 18:54:57+00:00</td>\n",
       "      <td>39885 days 11:37:42</td>\n",
       "      <td>1310.0</td>\n",
       "      <td>305</td>\n",
       "      <td>23.264683</td>\n",
       "    </tr>\n",
       "    <tr>\n",
       "      <th>buildroot_buildroot</th>\n",
       "      <td>2000-05-14 04:16:35+00:00</td>\n",
       "      <td>2021-11-24 02:32:46+00:00</td>\n",
       "      <td>7863 days 22:16:11</td>\n",
       "      <td>258.0</td>\n",
       "      <td>259</td>\n",
       "      <td>100.0</td>\n",
       "    </tr>\n",
       "    <tr>\n",
       "      <th>jayanta525_openwrt-nanopi-r4s</th>\n",
       "      <td>1988-01-05 07:17:15+00:00</td>\n",
       "      <td>2021-11-26 22:10:53+00:00</td>\n",
       "      <td>12379 days 14:53:38</td>\n",
       "      <td>406.0</td>\n",
       "      <td>260</td>\n",
       "      <td>63.882064</td>\n",
       "    </tr>\n",
       "    <tr>\n",
       "      <th>openssl_openssl</th>\n",
       "      <td>1998-10-05 20:12:28+00:00</td>\n",
       "      <td>2021-11-24 03:32:47+00:00</td>\n",
       "      <td>8450 days 07:20:19</td>\n",
       "      <td>277.0</td>\n",
       "      <td>277</td>\n",
       "      <td>99.640288</td>\n",
       "    </tr>\n",
       "    <tr>\n",
       "      <th>...</th>\n",
       "      <td>...</td>\n",
       "      <td>...</td>\n",
       "      <td>...</td>\n",
       "      <td>...</td>\n",
       "      <td>...</td>\n",
       "      <td>...</td>\n",
       "    </tr>\n",
       "    <tr>\n",
       "      <th>stong_CVE-2020-15368</th>\n",
       "      <td>2021-06-29 04:37:48+00:00</td>\n",
       "      <td>2021-10-29 07:46:53+00:00</td>\n",
       "      <td>122 days 03:09:05</td>\n",
       "      <td>4.0</td>\n",
       "      <td>5</td>\n",
       "      <td>100.0</td>\n",
       "    </tr>\n",
       "    <tr>\n",
       "      <th>clio_ten_years_rails</th>\n",
       "      <td>2018-04-16 16:32:49+00:00</td>\n",
       "      <td>2021-10-22 17:44:59+00:00</td>\n",
       "      <td>1285 days 01:12:10</td>\n",
       "      <td>42.0</td>\n",
       "      <td>28</td>\n",
       "      <td>65.116279</td>\n",
       "    </tr>\n",
       "    <tr>\n",
       "      <th>badsaarow_commcode2sql</th>\n",
       "      <td>2018-02-12 09:58:42+00:00</td>\n",
       "      <td>2021-11-02 13:27:44+00:00</td>\n",
       "      <td>1359 days 03:29:02</td>\n",
       "      <td>45.0</td>\n",
       "      <td>14</td>\n",
       "      <td>30.434783</td>\n",
       "    </tr>\n",
       "    <tr>\n",
       "      <th>kernelmethod_face_remover</th>\n",
       "      <td>2020-06-02 04:03:18+00:00</td>\n",
       "      <td>2021-09-13 17:48:54+00:00</td>\n",
       "      <td>468 days 13:45:36</td>\n",
       "      <td>15.0</td>\n",
       "      <td>7</td>\n",
       "      <td>43.75</td>\n",
       "    </tr>\n",
       "    <tr>\n",
       "      <th>ScratchAddons_website</th>\n",
       "      <td>2020-09-16 23:44:04+00:00</td>\n",
       "      <td>2021-05-11 20:35:56+00:00</td>\n",
       "      <td>236 days 20:51:52</td>\n",
       "      <td>8.0</td>\n",
       "      <td>9</td>\n",
       "      <td>100.0</td>\n",
       "    </tr>\n",
       "  </tbody>\n",
       "</table>\n",
       "<p>37367 rows × 6 columns</p>\n",
       "</div>"
      ],
      "text/plain": [
       "                                     EarliestCommitDate  \\\n",
       "ProjectID                                                 \n",
       "Jackeagle_kernel_msm-3.18     1988-01-05 07:17:15+00:00   \n",
       "bloomberg_chromium.bb         1988-01-05 07:17:15+00:00   \n",
       "buildroot_buildroot           2000-05-14 04:16:35+00:00   \n",
       "jayanta525_openwrt-nanopi-r4s 1988-01-05 07:17:15+00:00   \n",
       "openssl_openssl               1998-10-05 20:12:28+00:00   \n",
       "...                                                 ...   \n",
       "stong_CVE-2020-15368          2021-06-29 04:37:48+00:00   \n",
       "clio_ten_years_rails          2018-04-16 16:32:49+00:00   \n",
       "badsaarow_commcode2sql        2018-02-12 09:58:42+00:00   \n",
       "kernelmethod_face_remover     2020-06-02 04:03:18+00:00   \n",
       "ScratchAddons_website         2020-09-16 23:44:04+00:00   \n",
       "\n",
       "                                       LatestCommitDate     CommitDateRange  \\\n",
       "ProjectID                                                                     \n",
       "Jackeagle_kernel_msm-3.18     2085-06-18 15:57:19+00:00 35594 days 08:40:04   \n",
       "bloomberg_chromium.bb         2097-03-18 18:54:57+00:00 39885 days 11:37:42   \n",
       "buildroot_buildroot           2021-11-24 02:32:46+00:00  7863 days 22:16:11   \n",
       "jayanta525_openwrt-nanopi-r4s 2021-11-26 22:10:53+00:00 12379 days 14:53:38   \n",
       "openssl_openssl               2021-11-24 03:32:47+00:00  8450 days 07:20:19   \n",
       "...                                                 ...                 ...   \n",
       "stong_CVE-2020-15368          2021-10-29 07:46:53+00:00   122 days 03:09:05   \n",
       "clio_ten_years_rails          2021-10-22 17:44:59+00:00  1285 days 01:12:10   \n",
       "badsaarow_commcode2sql        2021-11-02 13:27:44+00:00  1359 days 03:29:02   \n",
       "kernelmethod_face_remover     2021-09-13 17:48:54+00:00   468 days 13:45:36   \n",
       "ScratchAddons_website         2021-05-11 20:35:56+00:00   236 days 20:51:52   \n",
       "\n",
       "                               CommitDateRange [Mon]  NumActiveMon  \\\n",
       "ProjectID                                                            \n",
       "Jackeagle_kernel_msm-3.18                     1169.0           364   \n",
       "bloomberg_chromium.bb                         1310.0           305   \n",
       "buildroot_buildroot                            258.0           259   \n",
       "jayanta525_openwrt-nanopi-r4s                  406.0           260   \n",
       "openssl_openssl                                277.0           277   \n",
       "...                                              ...           ...   \n",
       "stong_CVE-2020-15368                             4.0             5   \n",
       "clio_ten_years_rails                            42.0            28   \n",
       "badsaarow_commcode2sql                          45.0            14   \n",
       "kernelmethod_face_remover                       15.0             7   \n",
       "ScratchAddons_website                            8.0             9   \n",
       "\n",
       "                               NumActiveMon [%]  \n",
       "ProjectID                                        \n",
       "Jackeagle_kernel_msm-3.18             31.111111  \n",
       "bloomberg_chromium.bb                 23.264683  \n",
       "buildroot_buildroot                       100.0  \n",
       "jayanta525_openwrt-nanopi-r4s         63.882064  \n",
       "openssl_openssl                       99.640288  \n",
       "...                                         ...  \n",
       "stong_CVE-2020-15368                      100.0  \n",
       "clio_ten_years_rails                  65.116279  \n",
       "badsaarow_commcode2sql                30.434783  \n",
       "kernelmethod_face_remover                 43.75  \n",
       "ScratchAddons_website                     100.0  \n",
       "\n",
       "[37367 rows x 6 columns]"
      ]
     },
     "execution_count": 125,
     "metadata": {},
     "output_type": "execute_result"
    }
   ],
   "source": [
    "df[['EarliestCommitDate','LatestCommitDate','CommitDateRange','CommitDateRange [Mon]','NumActiveMon','NumActiveMon [%]']]"
   ]
  },
  {
   "cell_type": "code",
   "execution_count": 132,
   "id": "228edaad",
   "metadata": {
    "scrolled": true
   },
   "outputs": [
    {
     "data": {
      "image/png": "[encoded data removed]",
      "text/plain": [
       "<Figure size 432x288 with 1 Axes>"
      ]
     },
     "metadata": {
      "needs_background": "light"
     },
     "output_type": "display_data"
    }
   ],
   "source": [
    "df_filtered=df[df['LatestCommitDate']<'2022-05-30']\n",
    "sns.histplot(data=df_filtered[['NumActiveMon [%]']].dropna())\n",
    "plt.xlim((0,105))\n",
    "plt.show()"
   ]
  },
  {
   "cell_type": "code",
   "execution_count": 144,
   "id": "1d865176",
   "metadata": {},
   "outputs": [
    {
     "data": {
      "text/plain": [
       "<AxesSubplot: ylabel='Count'>"
      ]
     },
     "execution_count": 144,
     "metadata": {},
     "output_type": "execute_result"
    },
    {
     "data": {
      "image/png": "[encoded data removed]",
      "text/plain": [
       "<Figure size 432x288 with 1 Axes>"
      ]
     },
     "metadata": {
      "needs_background": "light"
     },
     "output_type": "display_data"
    }
   ],
   "source": [
    "sns.histplot(data=df[['NumCommits']].dropna(), log_scale=True)"
   ]
  },
  {
   "cell_type": "code",
   "execution_count": 145,
   "id": "57bff566",
   "metadata": {
    "scrolled": true
   },
   "outputs": [
    {
     "data": {
      "text/html": [
       "<div>\n",
       "<style scoped>\n",
       "    .dataframe tbody tr th:only-of-type {\n",
       "        vertical-align: middle;\n",
       "    }\n",
       "\n",
       "    .dataframe tbody tr th {\n",
       "        vertical-align: top;\n",
       "    }\n",
       "\n",
       "    .dataframe thead th {\n",
       "        text-align: right;\n",
       "    }\n",
       "</style>\n",
       "<table border=\"1\" class=\"dataframe\">\n",
       "  <thead>\n",
       "    <tr style=\"text-align: right;\">\n",
       "      <th></th>\n",
       "      <th>NumCommits/NumActiveMon</th>\n",
       "    </tr>\n",
       "  </thead>\n",
       "  <tbody>\n",
       "    <tr>\n",
       "      <th>count</th>\n",
       "      <td>37122.000000</td>\n",
       "    </tr>\n",
       "    <tr>\n",
       "      <th>mean</th>\n",
       "      <td>94.327159</td>\n",
       "    </tr>\n",
       "    <tr>\n",
       "      <th>std</th>\n",
       "      <td>1992.040785</td>\n",
       "    </tr>\n",
       "    <tr>\n",
       "      <th>min</th>\n",
       "      <td>1.000000</td>\n",
       "    </tr>\n",
       "    <tr>\n",
       "      <th>25%</th>\n",
       "      <td>4.000000</td>\n",
       "    </tr>\n",
       "    <tr>\n",
       "      <th>50%</th>\n",
       "      <td>9.112698</td>\n",
       "    </tr>\n",
       "    <tr>\n",
       "      <th>75%</th>\n",
       "      <td>25.514935</td>\n",
       "    </tr>\n",
       "    <tr>\n",
       "      <th>max</th>\n",
       "      <td>247893.000000</td>\n",
       "    </tr>\n",
       "  </tbody>\n",
       "</table>\n",
       "</div>"
      ],
      "text/plain": [
       "       NumCommits/NumActiveMon\n",
       "count             37122.000000\n",
       "mean                 94.327159\n",
       "std                1992.040785\n",
       "min                   1.000000\n",
       "25%                   4.000000\n",
       "50%                   9.112698\n",
       "75%                  25.514935\n",
       "max              247893.000000"
      ]
     },
     "execution_count": 145,
     "metadata": {},
     "output_type": "execute_result"
    }
   ],
   "source": [
    "df['NumCommits/NumActiveMon']=df['NumCommits']/df['NumActiveMon']\n",
    "df[['NumCommits/NumActiveMon']].describe()"
   ]
  },
  {
   "cell_type": "code",
   "execution_count": 147,
   "id": "c0f385fc",
   "metadata": {},
   "outputs": [
    {
     "name": "stdout",
     "output_type": "stream",
     "text": [
      "month has ~= 30 days\n",
      "month has ~= 720 hours\n",
      "month has ~= 43200 minutes\n",
      "month has ~= 2592000 seconds\n"
     ]
    },
    {
     "data": {
      "text/plain": [
       "NumCommits/NumActiveMon    247893.0\n",
       "dtype: float64"
      ]
     },
     "execution_count": 147,
     "metadata": {},
     "output_type": "execute_result"
    }
   ],
   "source": [
    "print(f\"month has ~= {30} days\")\n",
    "print(f\"month has ~= {30*24} hours\")\n",
    "print(f\"month has ~= {30*24*60} minutes\")\n",
    "print(f\"month has ~= {30*24*60*60} seconds\")\n",
    "df[['NumCommits/NumActiveMon']].max()"
   ]
  },
  {
   "cell_type": "code",
   "execution_count": 146,
   "id": "e3ed01f0",
   "metadata": {},
   "outputs": [
    {
     "data": {
      "text/plain": [
       "NumCommits                 Jackeagle_kernel_msm-3.18\n",
       "NumCommits/NumActiveMon           spiderworthy_linux\n",
       "dtype: object"
      ]
     },
     "execution_count": 146,
     "metadata": {},
     "output_type": "execute_result"
    }
   ],
   "source": [
    "df[['NumCommits','NumCommits/NumActiveMon']].idxmax()"
   ]
  },
  {
   "cell_type": "markdown",
   "id": "cab9cdc6",
   "metadata": {},
   "source": [
    "### Number of developers"
   ]
  },
  {
   "cell_type": "markdown",
   "id": "13fac5a2",
   "metadata": {},
   "source": [
    "Core authors (**NumCore**) are devs who make 80+% of the commits"
   ]
  },
  {
   "cell_type": "code",
   "execution_count": 9,
   "id": "18971a16",
   "metadata": {},
   "outputs": [
    {
     "data": {
      "text/plain": [
       "count    36717.000000\n",
       "mean         0.527161\n",
       "std          0.353986\n",
       "min          0.002786\n",
       "25%          0.214634\n",
       "50%          0.475120\n",
       "75%          1.000000\n",
       "max          1.000000\n",
       "Name: NumCore/NumAuthors, dtype: float64"
      ]
     },
     "execution_count": 9,
     "metadata": {},
     "output_type": "execute_result"
    }
   ],
   "source": [
    "df['NumCore/NumAuthors']=df['NumCore']/df['NumAuthors']\n",
    "df['NumCore/NumAuthors'].describe()"
   ]
  },
  {
   "cell_type": "code",
   "execution_count": 35,
   "id": "c3c56e2c",
   "metadata": {},
   "outputs": [
    {
     "data": {
      "text/plain": [
       "<AxesSubplot: title={'center': 'NumCore/NumAuthors histogram'}, ylabel='Frequency'>"
      ]
     },
     "execution_count": 35,
     "metadata": {},
     "output_type": "execute_result"
    },
    {
     "data": {
      "image/png": "[encoded data removed]",
      "text/plain": [
       "<Figure size 432x288 with 1 Axes>"
      ]
     },
     "metadata": {
      "needs_background": "light"
     },
     "output_type": "display_data"
    }
   ],
   "source": [
    "df['NumCore/NumAuthors'].dropna().plot.hist(bins=15,\n",
    "                                            xlabel='NumCore/NumAuthors',ylabel='Projects',\n",
    "                                            title='NumCore/NumAuthors histogram',\n",
    "                                            grid=True,color='g')"
   ]
  },
  {
   "cell_type": "code",
   "execution_count": 36,
   "id": "54ad874c",
   "metadata": {},
   "outputs": [
    {
     "data": {
      "text/plain": [
       "<AxesSubplot: title={'center': 'NumCore/NumAuthors KDE'}, ylabel='Density'>"
      ]
     },
     "execution_count": 36,
     "metadata": {},
     "output_type": "execute_result"
    },
    {
     "data": {
      "image/png": "[encoded data removed]",
      "text/plain": [
       "<Figure size 432x288 with 1 Axes>"
      ]
     },
     "metadata": {
      "needs_background": "light"
     },
     "output_type": "display_data"
    }
   ],
   "source": [
    "df['NumCore/NumAuthors'].dropna().plot.kde(xlim=(-0.05,1.05),\n",
    "                                           xlabel='NumCore/NumAuthors',ylabel='Projects',\n",
    "                                           title='NumCore/NumAuthors KDE',\n",
    "                                           grid=True,color='r')"
   ]
  },
  {
   "cell_type": "code",
   "execution_count": 39,
   "id": "241e03a1",
   "metadata": {},
   "outputs": [
    {
     "data": {
      "text/plain": [
       "<AxesSubplot: ylabel='Count'>"
      ]
     },
     "execution_count": 39,
     "metadata": {},
     "output_type": "execute_result"
    },
    {
     "data": {
      "image/png": "[encoded data removed]",
      "text/plain": [
       "<Figure size 432x288 with 1 Axes>"
      ]
     },
     "metadata": {
      "needs_background": "light"
     },
     "output_type": "display_data"
    }
   ],
   "source": [
    "sns.histplot(data=df[['NumCore/NumAuthors']].dropna(), kde=True)"
   ]
  },
  {
   "cell_type": "code",
   "execution_count": 74,
   "id": "675cc706",
   "metadata": {},
   "outputs": [
    {
     "data": {
      "image/png": "[encoded data removed]",
      "text/plain": [
       "<Figure size 432x288 with 1 Axes>"
      ]
     },
     "metadata": {
      "needs_background": "light"
     },
     "output_type": "display_data"
    }
   ],
   "source": [
    "sns.histplot(data=df[df['NumAuthors']>=10][['NumCore/NumAuthors']].dropna(), kde=True)\n",
    "plt.title(\"NumAuthors >= 10\")\n",
    "plt.show()"
   ]
  },
  {
   "cell_type": "code",
   "execution_count": 75,
   "id": "ae804075",
   "metadata": {},
   "outputs": [
    {
     "data": {
      "image/png": "[encoded data removed]",
      "text/plain": [
       "<Figure size 432x288 with 1 Axes>"
      ]
     },
     "metadata": {
      "needs_background": "light"
     },
     "output_type": "display_data"
    }
   ],
   "source": [
    "sns.histplot(data=df[df['NumAuthors']>2][['NumCore/NumAuthors']].dropna(), kde=True)\n",
    "plt.title(\"NumAuthors > 2\")\n",
    "plt.show()"
   ]
  },
  {
   "cell_type": "code",
   "execution_count": 42,
   "id": "cad4e336",
   "metadata": {},
   "outputs": [
    {
     "data": {
      "text/plain": [
       "<seaborn.axisgrid.FacetGrid at 0x7f45d1f48e50>"
      ]
     },
     "execution_count": 42,
     "metadata": {},
     "output_type": "execute_result"
    },
    {
     "data": {
      "image/png": "[encoded data removed]",
      "text/plain": [
       "<Figure size 508.125x360 with 1 Axes>"
      ]
     },
     "metadata": {
      "needs_background": "light"
     },
     "output_type": "display_data"
    }
   ],
   "source": [
    "sns.displot(data=df[['NumCore/NumAuthors']].dropna(), kind=\"ecdf\")"
   ]
  },
  {
   "cell_type": "code",
   "execution_count": 71,
   "id": "76e1bb6c",
   "metadata": {},
   "outputs": [
    {
     "data": {
      "text/plain": [
       "<AxesSubplot: ylabel='Count'>"
      ]
     },
     "execution_count": 71,
     "metadata": {},
     "output_type": "execute_result"
    },
    {
     "data": {
      "image/png": "[encoded data removed]",
      "text/plain": [
       "<Figure size 432x288 with 1 Axes>"
      ]
     },
     "metadata": {
      "needs_background": "light"
     },
     "output_type": "display_data"
    }
   ],
   "source": [
    "sns.histplot(data=df[['NumCore']].dropna(),log_scale=True)"
   ]
  },
  {
   "cell_type": "code",
   "execution_count": 76,
   "id": "30894353",
   "metadata": {},
   "outputs": [
    {
     "data": {
      "text/plain": [
       "<AxesSubplot: ylabel='Count'>"
      ]
     },
     "execution_count": 76,
     "metadata": {},
     "output_type": "execute_result"
    },
    {
     "data": {
      "image/png": "[encoded data removed]",
      "text/plain": [
       "<Figure size 432x288 with 1 Axes>"
      ]
     },
     "metadata": {
      "needs_background": "light"
     },
     "output_type": "display_data"
    }
   ],
   "source": [
    "sns.histplot(data=df[['NumAuthors']].dropna(),log_scale=True)"
   ]
  },
  {
   "cell_type": "code",
   "execution_count": 78,
   "id": "72d823fe",
   "metadata": {},
   "outputs": [
    {
     "data": {
      "image/png": "[encoded data removed]",
      "text/plain": [
       "<Figure size 432x288 with 1 Axes>"
      ]
     },
     "metadata": {
      "needs_background": "light"
     },
     "output_type": "display_data"
    }
   ],
   "source": [
    "min_authors=4\n",
    "sns.histplot(data=df[df['NumAuthors']>=min_authors][['NumAuthors']].dropna(),log_scale=True)\n",
    "plt.title(f'NumAuthors >= {min_authors}')\n",
    "plt.show()"
   ]
  },
  {
   "cell_type": "code",
   "execution_count": 95,
   "id": "7924488d",
   "metadata": {},
   "outputs": [
    {
     "name": "stdout",
     "output_type": "stream",
     "text": [
      "(37367, 13)\n",
      "36717 = 98.26049723017636% total projects\n",
      "27321 = 74.40967399297328% (of with data) with NumAuthors > 1\n",
      "20093\n",
      "14474\n"
     ]
    }
   ],
   "source": [
    "print(df.shape)\n",
    "print(f\"{df['NumAuthors'].count()} = {100.0*df['NumAuthors'].count()/df.shape[0]}% total projects\")\n",
    "print(f\"{df[df['NumAuthors']>1]['NumAuthors'].count()} = \"\n",
    "      f\"{100.0*df[df['NumAuthors']>1]['NumAuthors'].count()/df['NumAuthors'].count()}% (of with data) with NumAuthors > 1\")\n",
    "print(df[df['NumAuthors']>=4]['NumAuthors'].count())\n",
    "print(df[df['NumAuthors']>=10]['NumAuthors'].count())"
   ]
  },
  {
   "cell_type": "code",
   "execution_count": 86,
   "id": "88eecdc2",
   "metadata": {},
   "outputs": [],
   "source": [
    "authors_cut_s = pd.cut(df['NumAuthors'],bins=[-1,1,2,4,8,16,32,100,1000,10000,np.inf])"
   ]
  },
  {
   "cell_type": "code",
   "execution_count": 89,
   "id": "07dc2c16",
   "metadata": {},
   "outputs": [
    {
     "data": {
      "text/plain": [
       "(-1.0, 1.0]          9396\n",
       "(1.0, 2.0]           4832\n",
       "(2.0, 4.0]           3900\n",
       "(4.0, 8.0]           3493\n",
       "(8.0, 16.0]          3582\n",
       "(16.0, 32.0]         3261\n",
       "(32.0, 100.0]        4025\n",
       "(100.0, 1000.0]      3494\n",
       "(1000.0, 10000.0]     679\n",
       "(10000.0, inf]         55\n",
       "Name: NumAuthors, dtype: int64"
      ]
     },
     "execution_count": 89,
     "metadata": {},
     "output_type": "execute_result"
    }
   ],
   "source": [
    "authors_hist=authors_cut_s.value_counts().sort_index()\n",
    "authors_hist"
   ]
  },
  {
   "cell_type": "code",
   "execution_count": 92,
   "id": "766482a3",
   "metadata": {
    "scrolled": true
   },
   "outputs": [
    {
     "data": {
      "image/png": "[encoded data removed]",
      "text/plain": [
       "<Figure size 432x288 with 1 Axes>"
      ]
     },
     "metadata": {
      "needs_background": "light"
     },
     "output_type": "display_data"
    }
   ],
   "source": [
    "authors_hist.plot.bar(ylabel='Projects', title='NumAuthors')\n",
    "plt.show()"
   ]
  },
  {
   "cell_type": "code",
   "execution_count": 97,
   "id": "db900a29",
   "metadata": {},
   "outputs": [
    {
     "data": {
      "image/png": "[encoded data removed]",
      "text/plain": [
       "<Figure size 432x288 with 1 Axes>"
      ]
     },
     "metadata": {
      "needs_background": "light"
     },
     "output_type": "display_data"
    }
   ],
   "source": [
    "core_cut_s = pd.cut(df[df['NumAuthors']>=min_authors]['NumCore'],bins=[-1,1,2,4,8,16,32,100,1000,10000,np.inf])\n",
    "core_hist=core_cut_s.value_counts().sort_index()\n",
    "core_hist.plot.bar(ylabel='Projects', title=f'NumCore (for NumAuthors >= {min_authors})')\n",
    "plt.show()"
   ]
  },
  {
   "cell_type": "code",
   "execution_count": null,
   "id": "2a26f623",
   "metadata": {},
   "outputs": [],
   "source": [
    "limited_core_cut_s = pd.cut(df['NumCore'],bins=[-1,1,2,4,8,16,32,100,1000,10000,np.inf])\n",
    "limited_core_hist=limited_core_cut_s.value_counts().sort_index()\n",
    "limited_core_hist.plot.bar(ylabel='Projects', title='NumCore')\n",
    "plt.show()"
   ]
  },
  {
   "cell_type": "markdown",
   "id": "92cb6328",
   "metadata": {},
   "source": [
    "### Forks, shared commits, stars"
   ]
  },
  {
   "cell_type": "markdown",
   "id": "51849f38",
   "metadata": {},
   "source": [
    "The **CommunitySize** is the number of other projects that share commits with the deforked project"
   ]
  },
  {
   "cell_type": "code",
   "execution_count": 45,
   "id": "6bfb84af",
   "metadata": {},
   "outputs": [
    {
     "data": {
      "text/html": [
       "<div>\n",
       "<style scoped>\n",
       "    .dataframe tbody tr th:only-of-type {\n",
       "        vertical-align: middle;\n",
       "    }\n",
       "\n",
       "    .dataframe tbody tr th {\n",
       "        vertical-align: top;\n",
       "    }\n",
       "\n",
       "    .dataframe thead th {\n",
       "        text-align: right;\n",
       "    }\n",
       "</style>\n",
       "<table border=\"1\" class=\"dataframe\">\n",
       "  <thead>\n",
       "    <tr style=\"text-align: right;\">\n",
       "      <th></th>\n",
       "      <th>NumForks</th>\n",
       "      <th>CommunitySize</th>\n",
       "    </tr>\n",
       "  </thead>\n",
       "  <tbody>\n",
       "    <tr>\n",
       "      <th>count</th>\n",
       "      <td>37353.000000</td>\n",
       "      <td>37353.000000</td>\n",
       "    </tr>\n",
       "    <tr>\n",
       "      <th>mean</th>\n",
       "      <td>195.406179</td>\n",
       "      <td>193.313629</td>\n",
       "    </tr>\n",
       "    <tr>\n",
       "      <th>std</th>\n",
       "      <td>2455.997305</td>\n",
       "      <td>2990.991122</td>\n",
       "    </tr>\n",
       "    <tr>\n",
       "      <th>min</th>\n",
       "      <td>0.000000</td>\n",
       "      <td>1.000000</td>\n",
       "    </tr>\n",
       "    <tr>\n",
       "      <th>25%</th>\n",
       "      <td>0.000000</td>\n",
       "      <td>1.000000</td>\n",
       "    </tr>\n",
       "    <tr>\n",
       "      <th>50%</th>\n",
       "      <td>1.000000</td>\n",
       "      <td>2.000000</td>\n",
       "    </tr>\n",
       "    <tr>\n",
       "      <th>75%</th>\n",
       "      <td>10.000000</td>\n",
       "      <td>10.000000</td>\n",
       "    </tr>\n",
       "    <tr>\n",
       "      <th>max</th>\n",
       "      <td>237104.000000</td>\n",
       "      <td>397005.000000</td>\n",
       "    </tr>\n",
       "  </tbody>\n",
       "</table>\n",
       "</div>"
      ],
      "text/plain": [
       "            NumForks  CommunitySize\n",
       "count   37353.000000   37353.000000\n",
       "mean      195.406179     193.313629\n",
       "std      2455.997305    2990.991122\n",
       "min         0.000000       1.000000\n",
       "25%         0.000000       1.000000\n",
       "50%         1.000000       2.000000\n",
       "75%        10.000000      10.000000\n",
       "max    237104.000000  397005.000000"
      ]
     },
     "execution_count": 45,
     "metadata": {},
     "output_type": "execute_result"
    }
   ],
   "source": [
    "df[['NumForks','CommunitySize']].describe()"
   ]
  },
  {
   "cell_type": "code",
   "execution_count": 54,
   "id": "66e1d711",
   "metadata": {
    "scrolled": false
   },
   "outputs": [
    {
     "data": {
      "image/png": "[encoded data removed]",
      "text/plain": [
       "<Figure size 360x360 with 1 Axes>"
      ]
     },
     "metadata": {
      "needs_background": "light"
     },
     "output_type": "display_data"
    }
   ],
   "source": [
    "sns.relplot(df[['NumForks','CommunitySize']].dropna(),x='NumForks',y='CommunitySize')\n",
    "plt.show()"
   ]
  },
  {
   "cell_type": "code",
   "execution_count": 55,
   "id": "d6eb5f5b",
   "metadata": {},
   "outputs": [
    {
     "data": {
      "image/png": "[encoded data removed]",
      "text/plain": [
       "<Figure size 360x360 with 1 Axes>"
      ]
     },
     "metadata": {
      "needs_background": "light"
     },
     "output_type": "display_data"
    }
   ],
   "source": [
    "#fig, ax = plt.subplots()\n",
    "sns.relplot(df[['NumForks','CommunitySize']].dropna(),x='NumForks',y='CommunitySize')\n",
    "\n",
    "# set axes range\n",
    "plt.xlim(0, 100000)\n",
    "plt.ylim(0, 140000)\n",
    "\n",
    "# plot figure\n",
    "plt.show()"
   ]
  },
  {
   "cell_type": "code",
   "execution_count": 59,
   "id": "393e6c67",
   "metadata": {},
   "outputs": [],
   "source": [
    "#sns.lmplot(data=df.dropna(),x='NumForks',y='CommunitySize')\n",
    "#plt.show()"
   ]
  },
  {
   "cell_type": "code",
   "execution_count": 60,
   "id": "9e8a783b",
   "metadata": {
    "scrolled": false
   },
   "outputs": [
    {
     "name": "stderr",
     "output_type": "stream",
     "text": [
      "/usr/local/lib/python3.10/dist-packages/seaborn/distributions.py:499: FutureWarning: In a future version, the Index constructor will not infer numeric dtypes when passed object-dtype sequences (matching Series behavior)\n",
      "  pd.Index(edges, name=\"edges\"),\n",
      "/usr/local/lib/python3.10/dist-packages/seaborn/distributions.py:500: FutureWarning: In a future version, the Index constructor will not infer numeric dtypes when passed object-dtype sequences (matching Series behavior)\n",
      "  pd.Index(widths, name=\"widths\"),\n",
      "/usr/local/lib/python3.10/dist-packages/seaborn/distributions.py:499: FutureWarning: In a future version, the Index constructor will not infer numeric dtypes when passed object-dtype sequences (matching Series behavior)\n",
      "  pd.Index(edges, name=\"edges\"),\n",
      "/usr/local/lib/python3.10/dist-packages/seaborn/distributions.py:500: FutureWarning: In a future version, the Index constructor will not infer numeric dtypes when passed object-dtype sequences (matching Series behavior)\n",
      "  pd.Index(widths, name=\"widths\"),\n",
      "/usr/local/lib/python3.10/dist-packages/seaborn/distributions.py:499: FutureWarning: In a future version, the Index constructor will not infer numeric dtypes when passed object-dtype sequences (matching Series behavior)\n",
      "  pd.Index(edges, name=\"edges\"),\n",
      "/usr/local/lib/python3.10/dist-packages/seaborn/distributions.py:500: FutureWarning: In a future version, the Index constructor will not infer numeric dtypes when passed object-dtype sequences (matching Series behavior)\n",
      "  pd.Index(widths, name=\"widths\"),\n"
     ]
    },
    {
     "data": {
      "text/plain": [
       "<seaborn.axisgrid.PairGrid at 0x7f45d0c6e290>"
      ]
     },
     "execution_count": 60,
     "metadata": {},
     "output_type": "execute_result"
    },
    {
     "data": {
      "image/png": "[encoded data removed]",
      "text/plain": [
       "<Figure size 540x540 with 12 Axes>"
      ]
     },
     "metadata": {
      "needs_background": "light"
     },
     "output_type": "display_data"
    }
   ],
   "source": [
    "#sns.pairplot(data=df[['NumForks','CommunitySize','NumStars']].dropna())"
   ]
  },
  {
   "cell_type": "markdown",
   "id": "5af705de",
   "metadata": {},
   "source": [
    "### Literature"
   ]
  },
  {
   "cell_type": "markdown",
   "id": "9a61cb9e",
   "metadata": {},
   "source": [
    "- _\"GitHub Projects. Quality Analysis of Open-Source Software\"_ (2014)"
   ]
  },
  {
   "cell_type": "markdown",
   "id": "bd14b7d8",
   "metadata": {},
   "source": [
    "project quality:\n",
    "- popularity: number of stars (e.g. log contributors\\_count  vs  log log stargazers\\_count)\n",
    "   - skipped...\n",
    "- issue survival rate\n",
    "   - _Kaplan-Meier_ estimates of survival time for issues of a given project (to avoid \"censoring\" effect)\n",
    "   - summarize the survival curve for each project with just two numbers: the percentage of issues closed after 3 and 365 days<br>from PCA on computed survival probabilities for issues after 1, 2, 3, 7, 30, 100, and 365 days)\n",
    "   - _binomial regression_ (a variant of logistic regression)\n",
    "   - **Table 2.** Regression coefficients for short and long term bug survival\n",
    "      - many of significant features are not available in World of Code dataset (only ~= 'repo.created\\_at')\n",
    "\n",
    "dataset: 2000 of GitHub projects with the highest increase in popularity during a month.\n",
    "\n",
    "Logarithmic transformation $x' = log_{10}(x + 10)$ has been applied to some of attributes to **decrease the skew due to power-law behavior**\n",
    "\n"
   ]
  },
  {
   "cell_type": "markdown",
   "id": "4bb98789",
   "metadata": {},
   "source": [
    "-----\n",
    "- _\"Understanding the Factors that Impact the Popularity of GitHub Repositories\"_ (2016)"
   ]
  },
  {
   "cell_type": "markdown",
   "id": "aa3d8869",
   "metadata": {},
   "source": [
    "skipped for now"
   ]
  },
  {
   "cell_type": "markdown",
   "id": "71a32b2f",
   "metadata": {},
   "source": [
    "----\n",
    "- _\"Why Modern Open Source Projects Fail\"_ (2017)"
   ]
  },
  {
   "cell_type": "markdown",
   "id": "e7e03a04",
   "metadata": {},
   "source": [
    "dataset:\n",
    "\n",
    "- survey with the maintainers of 104 popular GitHub systems that have been deprecated,\n",
    "   - 154 + 36 responses - some projects considered finished, some moved development outside GitHub or outside main branch\n",
    "- out of sent questionaire to developers with a public e-mail address of 414 open source projects, with evidences of no longer being under maintenance.\n",
    "- out of 542 popular GitHub projects without any commits in the last year + 76 projects with deprecation in README\n",
    "- out of top-5,000 most popular projects on GitHub (on September, 2016), using number of stars as a proxy\n",
    "\n",
    "features compatibile with World of Code dataset (maybe)\n",
    "- presence of README / README.md\n",
    "- presence of license file (under different names)\n",
    "- presence of file with contributor guidelines (under different names)\n",
    "- presence of issue template / pull request template\n",
    "- presence of code of conduct\n",
    "- presence of Travis CI (or nowadays of / GitHub Actions / GitLab / Bitbucket CI/CD) configuration file\n",
    "\n",
    "correlation, Mann-Whitney test at p-value = 0.05, and Cliff’s delta: \"small\" for 0.147 < d < 0.33, \"medium\" for 0.33 <= d < 0.474, and \"large\" for d >= 0.474."
   ]
  },
  {
   "cell_type": "markdown",
   "id": "a0d35fd5",
   "metadata": {},
   "source": [
    "----\n",
    "- _\"Identifying Unmaintained Projects in GitHub\"_ (2018)"
   ]
  },
  {
   "cell_type": "markdown",
   "id": "2f725942",
   "metadata": {},
   "source": [
    "- train machine learning models to identify unmaintained or sparsely maintained projects, based on a set of features about project activity (commits, forks, issues, etc).\n",
    "- precision of 80%, based on the feedback of real open source developers (129 GitHub projects); and a recall of 96%.\n",
    "\n",
    "dataset:\n",
    "- start with the top-10,000 most starred projects on GitHub (in November, 2017).\n",
    "- remove 2,810 repositories that have less than two years from the first to the last commit\n",
    "- remove 331 projects with null size, measured in lines of code\n",
    "- remove 74 non-software projects, which are identified by searching for the following topics: _books_ and _awesome-lists_.\n",
    "- end up with a list of 6,785 projects.\n",
    "\n",
    "metrics: precision, recall, F-measure, accuracy, AUC (Area Under Curve), and Kappa,\n",
    "\n",
    "**Table 1**: Features used to identify unmaintained projects (13 features).\n",
    "- not all features are avaialable in World of Code dataset (most of them are not)\n",
    "\n",
    "**Table 6**: Top-5 most relevant features, by Mean Decrease Accuracy (MDA)."
   ]
  },
  {
   "cell_type": "markdown",
   "id": "a7fc9ccd",
   "metadata": {},
   "source": [
    "----\n",
    "- _\"Characterization and Prediction of Popular Projects on GitHub\"_ (2019)"
   ]
  },
  {
   "cell_type": "markdown",
   "id": "08fe69da",
   "metadata": {},
   "source": [
    "..."
   ]
  }
 ],
 "metadata": {
  "kernelspec": {
   "display_name": "Python 3 (ipykernel)",
   "language": "python",
   "name": "python3"
  },
  "language_info": {
   "codemirror_mode": {
    "name": "ipython",
    "version": 3
   },
   "file_extension": ".py",
   "mimetype": "text/x-python",
   "name": "python",
   "nbconvert_exporter": "python",
   "pygments_lexer": "ipython3",
   "version": "3.10.5"
  }
 },
 "nbformat": 4,
 "nbformat_minor": 5
}

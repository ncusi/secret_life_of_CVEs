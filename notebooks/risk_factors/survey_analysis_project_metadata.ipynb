{
 "cells": [
  {
   "cell_type": "code",
   "execution_count": 40,
   "id": "158528a2",
   "metadata": {},
   "outputs": [],
   "source": [
    "from IPython.core.interactiveshell import InteractiveShell\n",
    "InteractiveShell.ast_node_interactivity = \"all\"\n",
    "\n",
    "import pandas as pd\n",
    "import numpy as np\n",
    "from lifelines import CoxPHFitter\n",
    "from lifelines.utils import concordance_index\n",
    "from sksurv.metrics import concordance_index_censored\n",
    "import numpy as np\n",
    "import scipy.stats\n",
    "from functools import partial\n",
    "import numpy as np\n",
    "import scipy.stats\n",
    "import matplotlib.pyplot as plt\n",
    "import seaborn as sns\n",
    "\n",
    "%matplotlib inline\n",
    "import matplotlib.pyplot as plt\n",
    "from sksurv.nonparametric import kaplan_meier_estimator"
   ]
  },
  {
   "cell_type": "code",
   "execution_count": 91,
   "id": "c92e855e",
   "metadata": {},
   "outputs": [],
   "source": [
    "import sys\n",
    "from pathlib import Path\n",
    "from joblib import Parallel, delayed\n",
    "import json"
   ]
  },
  {
   "cell_type": "code",
   "execution_count": 2,
   "id": "b8a38079",
   "metadata": {},
   "outputs": [],
   "source": [
    "def mean_confidence_interval(data, confidence=0.95):\n",
    "    \"\"\"Calculate mean, and lower and upper bound of confidence interval\"\"\"\n",
    "    a = 1.0 * np.array(data)\n",
    "    n = len(a)\n",
    "    m, se = np.mean(a), scipy.stats.sem(a)\n",
    "    h = se * scipy.stats.t.ppf((1 + confidence) / 2., n-1)\n",
    "    return m, m-h, m+h"
   ]
  },
  {
   "cell_type": "code",
   "execution_count": 3,
   "id": "a423c402",
   "metadata": {},
   "outputs": [],
   "source": [
    "def Dxy(event_observed, cve_lifetime, predicted_scores):\n",
    "    \"\"\"Calculate Dxy\n",
    "\n",
    "    Rescale values from 0<=x<=1 range, where 0 is perfect anti-concordance,\n",
    "    and 0.5 is the expected result from random predictions,\n",
    "    to the -1<=x<=1 range\n",
    "    \"\"\"\n",
    "    #return 2 * concordance_index_censored(event_observed, cve_lifetime, predicted_scores)[0] - 1\n",
    "    return 2 * concordance_index(cve_lifetime, predicted_scores, event_observed) - 1"
   ]
  },
  {
   "cell_type": "code",
   "execution_count": 4,
   "id": "32557802",
   "metadata": {},
   "outputs": [],
   "source": [
    "def bootstrap_dxy_inner(df):\n",
    "    \"\"\"Bootstrapped Dxy calculation, randomly sampled with replacement\n",
    "\n",
    "    Parameters\n",
    "    ----------\n",
    "    df : pandas.DataFrame\n",
    "        Dataframe to sample to compute Dxy from concordance index.\n",
    "        Assumes that first 3 columns in this dataframe are:\n",
    "\n",
    "        1. boolean column denoting which events were observed (un-censored)\n",
    "        2. column with event times, in this case CVE lifetime (time to fix)\n",
    "        3. column with predicted score, assumed to be category number,\n",
    "           ordered in such way that larger values predict shorter lifetime\n",
    "\n",
    "        Other columns are not used.\n",
    "\n",
    "    Returns\n",
    "    -------\n",
    "    float\n",
    "        Coefficient of concordance correlation, a number between –1 and 1 that\n",
    "        measures the strength and direction of the relationship between\n",
    "        predicted score (risk factor) and event time (CVE survival lifetime).\n",
    "    \"\"\"\n",
    "    e, y, x = df.columns\n",
    "    sample = df.sample(n=df.shape[0], replace=True)\n",
    "\n",
    "    # calculate Dxy from sample\n",
    "    return Dxy(sample[e], sample[y], sample[x])\n",
    "\n",
    "\n",
    "def bootstrap_dxy(df, n=5):\n",
    "    \"\"\"Boostrap and calculate Dxy, resampling `n` times\"\"\"\n",
    "    # resample n times\n",
    "    result = Parallel(n_jobs=-1)(delayed(bootstrap_dxy_inner)(df) for _ in range(n))\n",
    "\n",
    "    return result"
   ]
  },
  {
   "cell_type": "code",
   "execution_count": 42,
   "id": "3569c4e7",
   "metadata": {},
   "outputs": [],
   "source": [
    "def apply_stats_for_each_value(params, df, fmap, condition_names=None, df_mask=None):\n",
    "    \"\"\"Apply stats to each value in column\"\"\"\n",
    "\n",
    "    all_count = df.shape[0]\n",
    "\n",
    "    if df_mask is not None:\n",
    "        df = df[df_mask]\n",
    "\n",
    "    dff = pd.DataFrame({'E': df['E'], 'Y': df['Y'], 'agg': df.apply(fmap, axis=1)}).dropna()\n",
    "    selected_count = dff.shape[0]\n",
    "    print(f\"all = {all_count}, selected = {selected_count}, uncensored = {dff['E'].sum()}\",\n",
    "               file=sys.stderr)\n",
    "\n",
    "    # DEBUG\n",
    "    #print(dff.head())\n",
    "\n",
    "    stats = dff['Y'].aggregate(['count', 'median'])\n",
    "\n",
    "    print(f\"Computing {params['bootstrap_samples']} × bootstrap Dxy \" +\n",
    "               f\"for {dff.shape[0]} elements...\", file=sys.stderr)\n",
    "    dxy_bootstrapped = bootstrap_dxy(dff[['E', 'Y', 'agg']], params['bootstrap_samples'])\n",
    "    # DEBUG\n",
    "    #print(dxy_bootstrapped)\n",
    "    # confidence interval\n",
    "    print(f\"Computing confidence interval from {len(dxy_bootstrapped)} samples...\", file=sys.stderr)\n",
    "    dxy, ci_low, ci_high = mean_confidence_interval(dxy_bootstrapped, confidence=params['confidence'])\n",
    "\n",
    "    ret = {\n",
    "        'Cohort': all_count,\n",
    "        'Number of patients': stats['count'],\n",
    "        '% of cohort': 100.0*selected_count / all_count,\n",
    "        'Survival days, median': stats['median'],\n",
    "        'Survival years, median': stats['median'] / 365,\n",
    "        'Dxy (full)': Dxy(dff['E'], dff['Y'], dff['agg']),\n",
    "        'bootstrap': {\n",
    "            'Dxy': dxy,\n",
    "            'Confidence interval low': ci_low,\n",
    "            'Confidence interval high': ci_high,\n",
    "            'confidence threshold %': 100.0*params['confidence'],\n",
    "            'bootstrap samples': params['bootstrap_samples'],\n",
    "        },\n",
    "    }\n",
    "\n",
    "    print(\"Computing descriptive statistics like mean, median, etc....\", file=sys.stderr)\n",
    "    dff_groupby_y = dff.groupby(by=['agg'])['Y']\n",
    "    groups = dff_groupby_y\\\n",
    "        .agg(['count', 'median', 'min',\n",
    "              lambda x: np.percentile(x, q=25), lambda x: np.percentile(x, q=75),\n",
    "              'max', 'mean', 'std', 'skew'])\\\n",
    "        .rename(columns={'<lambda_0>': '25%', '<lambda_1>': '75%'})\n",
    "\n",
    "    # DEBUG\n",
    "    #print(dff_groupby_y.describe())\n",
    "\n",
    "    groups.index.names = [ params['risk_column_name'] ]\n",
    "    if condition_names:\n",
    "        groups.index = groups.index.map(condition_names)\n",
    "\n",
    "    return ret, groups, dff"
   ]
  },
  {
   "cell_type": "code",
   "execution_count": 6,
   "id": "7ceacfbe",
   "metadata": {},
   "outputs": [],
   "source": [
    "def plot_survival_function(params, dff, condition_names=None):\n",
    "    \"\"\"Create plot of survival function and save it as PNG image\n",
    "\n",
    "    Parameters\n",
    "    ----------\n",
    "    params : dict\n",
    "        Uses params['cve_survival_analysis']['risk_column_name'] and\n",
    "        params['description'] to create plot titles\n",
    "    plot_path : str | pathlib.Path\n",
    "        Where to save the plot\n",
    "    dff : pandas.DataFrame\n",
    "        The dataframe with data to compute survival function from\n",
    "    condition_names : dict | None\n",
    "        Mapping from risk factor score to risk factor name\n",
    "    \"\"\"\n",
    "    for value in dff[\"agg\"].unique():\n",
    "        mask = (dff[\"agg\"] == value)  # it's a boolean-valued pd.Series\n",
    "        time_cell, survival_prob_cell = kaplan_meier_estimator(dff[\"E\"][mask], dff[\"Y\"][mask])\n",
    "        plt.step(time_cell, survival_prob_cell, where=\"post\",\n",
    "                 label=f\"{condition_names[value]} (n = {mask.sum():d})\"\n",
    "                       if condition_names else\n",
    "                       f\"{value:d} (n = {mask.sum():d})\"\n",
    "                 )\n",
    "\n",
    "    if 'risk_column_name' in params:\n",
    "        plt.suptitle(f\"Risk factor: '{params['risk_column_name']}'\")\n",
    "    if 'description' in params:\n",
    "        plt.title(params['description'])\n",
    "    plt.ylabel(\"est. probability of survival $\\\\hat{S}(t)$\")\n",
    "    plt.xlabel(\"time $t$\")\n",
    "    plt.legend(loc=\"best\")\n",
    "    plt.show()\n",
    "    # plt.savefig(plot_path)\n",
    "    plt.clf()"
   ]
  },
  {
   "cell_type": "code",
   "execution_count": 7,
   "id": "de1507bf",
   "metadata": {},
   "outputs": [],
   "source": [
    "def create_values_ranking_list(column_s, column_dtype):\n",
    "    # if column_dtype is ordered category, we can use the order;\n",
    "    # or column_dtype is unordered category with two values, any order is good;\n",
    "    # or column_dtype is some kind of integer, we can use values\n",
    "\n",
    "    # or column_dtype == 'category'\n",
    "    if isinstance(column_dtype, pd.CategoricalDtype):\n",
    "        if column_dtype.ordered:\n",
    "            # we can use category ordering as ranking\n",
    "            return column_dtype.categories.to_list()\n",
    "        if column_dtype.categories.shape[0] == 2:\n",
    "            # any order is good, we can get correlation or anti-correlation\n",
    "            return column_dtype.categories.to_list()\n",
    "\n",
    "    if pd.api.types.is_string_dtype(column_dtype) \\\n",
    "            and column_s.nunique(dropna=True) == 2:\n",
    "        return column_s.unique().tolist()\n",
    "\n",
    "    # we can't create ranking list of values\n",
    "    return None"
   ]
  },
  {
   "cell_type": "code",
   "execution_count": 8,
   "id": "3fe35faa",
   "metadata": {},
   "outputs": [],
   "source": [
    "def values_ranking_hashes(values_ranking_list):\n",
    "    values_ranking_hash = { value: idx\n",
    "                            for (idx, value) in enumerate(values_ranking_list) }\n",
    "    rankings_condition_names = { idx: value\n",
    "                                 for (idx, value) in enumerate(values_ranking_list) }\n",
    "\n",
    "    return values_ranking_hash, rankings_condition_names"
   ]
  },
  {
   "cell_type": "code",
   "execution_count": 9,
   "id": "d173f9eb",
   "metadata": {},
   "outputs": [],
   "source": [
    "def f_map_int(row, column_name, min_value=None, max_value=None):\n",
    "    value = int(row[column_name])\n",
    "    if min_value is not None and value < min_value:\n",
    "        return None\n",
    "    if max_value is not None and value > max_value:\n",
    "        return None\n",
    "\n",
    "    return value\n",
    "\n",
    "\n",
    "def f_map_bool(row, column_name):\n",
    "    value = bool(row[column_name])\n",
    "    return value\n",
    "\n",
    "\n",
    "def f_map_generic(row, column_name, values_ranking_hash):\n",
    "    value = row[column_name]\n",
    "    if value in values_ranking_hash:\n",
    "        return values_ranking_hash[value]\n",
    "\n",
    "    return None"
   ]
  },
  {
   "cell_type": "code",
   "execution_count": 10,
   "id": "acfd640a",
   "metadata": {},
   "outputs": [],
   "source": [
    "def uniquify(param):\n",
    "    seen = set()\n",
    "    uniq = []\n",
    "    for elem in param:\n",
    "        if elem not in seen:\n",
    "            uniq.append(elem)\n",
    "            seen.add(elem)\n",
    "\n",
    "    return uniq"
   ]
  },
  {
   "cell_type": "code",
   "execution_count": 17,
   "id": "e07b12c0",
   "metadata": {},
   "outputs": [],
   "source": [
    "def read_df(input_df):\n",
    "    print(f\"Reading input dataframe from '{input_df}'...\")\n",
    "    df = pd.read_parquet(input_df)\n",
    "    print(f\"{df.shape[0]} elems\")\n",
    "    df = df.drop_duplicates()\n",
    "    print(f\"{df.shape[0]} width duplicates dropped\")\n",
    "    return df"
   ]
  },
  {
   "cell_type": "markdown",
   "id": "797450f1",
   "metadata": {},
   "source": [
    "## Read data"
   ]
  },
  {
   "cell_type": "code",
   "execution_count": 13,
   "id": "484313a1",
   "metadata": {},
   "outputs": [],
   "source": [
    "DATA_PREFIX=\"~jnareb/echoes_of_vulnerabilities_code/data/\""
   ]
  },
  {
   "cell_type": "code",
   "execution_count": 46,
   "id": "a37ea5ab",
   "metadata": {},
   "outputs": [
    {
     "name": "stdout",
     "output_type": "stream",
     "text": [
      "Reading input dataframe from '~jnareb/echoes_of_vulnerabilities_code/data/cve_survival_input_df'...\n",
      "287884 elems\n",
      "287884 width duplicates dropped\n"
     ]
    }
   ],
   "source": [
    "df = read_df(DATA_PREFIX + \"cve_survival_input_df\")"
   ]
  },
  {
   "cell_type": "code",
   "execution_count": 19,
   "id": "dbd7d9f9",
   "metadata": {},
   "outputs": [
    {
     "data": {
      "text/html": [
       "<div>\n",
       "<style scoped>\n",
       "    .dataframe tbody tr th:only-of-type {\n",
       "        vertical-align: middle;\n",
       "    }\n",
       "\n",
       "    .dataframe tbody tr th {\n",
       "        vertical-align: top;\n",
       "    }\n",
       "\n",
       "    .dataframe thead th {\n",
       "        text-align: right;\n",
       "    }\n",
       "</style>\n",
       "<table border=\"1\" class=\"dataframe\">\n",
       "  <thead>\n",
       "    <tr style=\"text-align: right;\">\n",
       "      <th></th>\n",
       "      <th>commit_cves</th>\n",
       "      <th>project_names</th>\n",
       "      <th>commits</th>\n",
       "      <th>used_dep_manager</th>\n",
       "      <th>cve_lifespan_commiter_time</th>\n",
       "      <th>cve_lifespan_author_time</th>\n",
       "      <th>embargo_min</th>\n",
       "      <th>embargo_max</th>\n",
       "      <th>lang_Shell</th>\n",
       "      <th>other_languages</th>\n",
       "      <th>...</th>\n",
       "      <th>LatestCommitDate</th>\n",
       "      <th>NumActiveMon</th>\n",
       "      <th>NumAuthors</th>\n",
       "      <th>NumCore</th>\n",
       "      <th>CommunitySize</th>\n",
       "      <th>NumCommits</th>\n",
       "      <th>NumBlobs</th>\n",
       "      <th>NumFiles</th>\n",
       "      <th>NumForks</th>\n",
       "      <th>NumStars</th>\n",
       "    </tr>\n",
       "  </thead>\n",
       "  <tbody>\n",
       "    <tr>\n",
       "      <th>0</th>\n",
       "      <td>CVE-2002-0429</td>\n",
       "      <td>bitbucket.org_cagney_netbsd</td>\n",
       "      <td>1</td>\n",
       "      <td>0</td>\n",
       "      <td>4791 days 06:33:58</td>\n",
       "      <td>4791 days 06:33:58</td>\n",
       "      <td>False</td>\n",
       "      <td>False</td>\n",
       "      <td>1512.0</td>\n",
       "      <td>58463.0</td>\n",
       "      <td>...</td>\n",
       "      <td>2015-09-25 13:47:53+00:00</td>\n",
       "      <td>2</td>\n",
       "      <td>2</td>\n",
       "      <td>1</td>\n",
       "      <td>2</td>\n",
       "      <td>22</td>\n",
       "      <td>137167</td>\n",
       "      <td>144273</td>\n",
       "      <td>0</td>\n",
       "      <td>&lt;NA&gt;</td>\n",
       "    </tr>\n",
       "    <tr>\n",
       "      <th>1</th>\n",
       "      <td>CVE-2002-0429</td>\n",
       "      <td>bitbucket.org_cagney_netbsd</td>\n",
       "      <td>1</td>\n",
       "      <td>0</td>\n",
       "      <td>4791 days 06:33:58</td>\n",
       "      <td>4791 days 06:33:58</td>\n",
       "      <td>False</td>\n",
       "      <td>False</td>\n",
       "      <td>1512.0</td>\n",
       "      <td>58463.0</td>\n",
       "      <td>...</td>\n",
       "      <td>2015-09-25 13:47:53+00:00</td>\n",
       "      <td>2</td>\n",
       "      <td>2</td>\n",
       "      <td>1</td>\n",
       "      <td>2</td>\n",
       "      <td>22</td>\n",
       "      <td>137167</td>\n",
       "      <td>144273</td>\n",
       "      <td>0</td>\n",
       "      <td>&lt;NA&gt;</td>\n",
       "    </tr>\n",
       "    <tr>\n",
       "      <th>2</th>\n",
       "      <td>CVE-2002-0429</td>\n",
       "      <td>IIJ-NetBSD_netbsd-src</td>\n",
       "      <td>1</td>\n",
       "      <td>0</td>\n",
       "      <td>577 days 02:42:04</td>\n",
       "      <td>577 days 02:42:04</td>\n",
       "      <td>False</td>\n",
       "      <td>False</td>\n",
       "      <td>0.0</td>\n",
       "      <td>0.0</td>\n",
       "      <td>...</td>\n",
       "      <td>2021-03-12 04:57:42+00:00</td>\n",
       "      <td>338</td>\n",
       "      <td>470</td>\n",
       "      <td>72</td>\n",
       "      <td>83</td>\n",
       "      <td>310763</td>\n",
       "      <td>1496164</td>\n",
       "      <td>466280</td>\n",
       "      <td>81</td>\n",
       "      <td>164</td>\n",
       "    </tr>\n",
       "    <tr>\n",
       "      <th>3</th>\n",
       "      <td>CVE-2002-0429</td>\n",
       "      <td>NetBSD_src</td>\n",
       "      <td>22</td>\n",
       "      <td>0</td>\n",
       "      <td>577 days 02:42:04</td>\n",
       "      <td>577 days 02:42:04</td>\n",
       "      <td>False</td>\n",
       "      <td>False</td>\n",
       "      <td>0.0</td>\n",
       "      <td>0.0</td>\n",
       "      <td>...</td>\n",
       "      <td>2021-09-09 15:00:01+00:00</td>\n",
       "      <td>344</td>\n",
       "      <td>708</td>\n",
       "      <td>95</td>\n",
       "      <td>224</td>\n",
       "      <td>6250114</td>\n",
       "      <td>2303243</td>\n",
       "      <td>597353</td>\n",
       "      <td>230</td>\n",
       "      <td>514</td>\n",
       "    </tr>\n",
       "    <tr>\n",
       "      <th>4</th>\n",
       "      <td>CVE-2002-0429</td>\n",
       "      <td>bitbucket.org_cagney_netbsd</td>\n",
       "      <td>1</td>\n",
       "      <td>0</td>\n",
       "      <td>4791 days 06:33:58</td>\n",
       "      <td>4791 days 06:33:58</td>\n",
       "      <td>False</td>\n",
       "      <td>False</td>\n",
       "      <td>1512.0</td>\n",
       "      <td>58463.0</td>\n",
       "      <td>...</td>\n",
       "      <td>2015-09-25 13:47:53+00:00</td>\n",
       "      <td>2</td>\n",
       "      <td>2</td>\n",
       "      <td>1</td>\n",
       "      <td>2</td>\n",
       "      <td>22</td>\n",
       "      <td>137167</td>\n",
       "      <td>144273</td>\n",
       "      <td>0</td>\n",
       "      <td>&lt;NA&gt;</td>\n",
       "    </tr>\n",
       "  </tbody>\n",
       "</table>\n",
       "<p>5 rows × 46 columns</p>\n",
       "</div>"
      ],
      "text/plain": [
       "     commit_cves                project_names  commits  used_dep_manager  \\\n",
       "0  CVE-2002-0429  bitbucket.org_cagney_netbsd        1                 0   \n",
       "1  CVE-2002-0429  bitbucket.org_cagney_netbsd        1                 0   \n",
       "2  CVE-2002-0429        IIJ-NetBSD_netbsd-src        1                 0   \n",
       "3  CVE-2002-0429                   NetBSD_src       22                 0   \n",
       "4  CVE-2002-0429  bitbucket.org_cagney_netbsd        1                 0   \n",
       "\n",
       "  cve_lifespan_commiter_time cve_lifespan_author_time  embargo_min  \\\n",
       "0         4791 days 06:33:58       4791 days 06:33:58        False   \n",
       "1         4791 days 06:33:58       4791 days 06:33:58        False   \n",
       "2          577 days 02:42:04        577 days 02:42:04        False   \n",
       "3          577 days 02:42:04        577 days 02:42:04        False   \n",
       "4         4791 days 06:33:58       4791 days 06:33:58        False   \n",
       "\n",
       "   embargo_max  lang_Shell  other_languages  ...          LatestCommitDate  \\\n",
       "0        False      1512.0          58463.0  ... 2015-09-25 13:47:53+00:00   \n",
       "1        False      1512.0          58463.0  ... 2015-09-25 13:47:53+00:00   \n",
       "2        False         0.0              0.0  ... 2021-03-12 04:57:42+00:00   \n",
       "3        False         0.0              0.0  ... 2021-09-09 15:00:01+00:00   \n",
       "4        False      1512.0          58463.0  ... 2015-09-25 13:47:53+00:00   \n",
       "\n",
       "   NumActiveMon  NumAuthors NumCore  CommunitySize NumCommits  NumBlobs  \\\n",
       "0             2           2       1              2         22    137167   \n",
       "1             2           2       1              2         22    137167   \n",
       "2           338         470      72             83     310763   1496164   \n",
       "3           344         708      95            224    6250114   2303243   \n",
       "4             2           2       1              2         22    137167   \n",
       "\n",
       "  NumFiles  NumForks NumStars  \n",
       "0   144273         0     <NA>  \n",
       "1   144273         0     <NA>  \n",
       "2   466280        81      164  \n",
       "3   597353       230      514  \n",
       "4   144273         0     <NA>  \n",
       "\n",
       "[5 rows x 46 columns]"
      ]
     },
     "execution_count": 19,
     "metadata": {},
     "output_type": "execute_result"
    }
   ],
   "source": [
    "df.head()"
   ]
  },
  {
   "cell_type": "code",
   "execution_count": 20,
   "id": "90f28749",
   "metadata": {},
   "outputs": [
    {
     "name": "stdout",
     "output_type": "stream",
     "text": [
      "<class 'pandas.core.frame.DataFrame'>\n",
      "Int64Index: 287884 entries, 0 to 287883\n",
      "Data columns (total 46 columns):\n",
      " #   Column                           Non-Null Count   Dtype              \n",
      "---  ------                           --------------   -----              \n",
      " 0   commit_cves                      287884 non-null  object             \n",
      " 1   project_names                    287884 non-null  object             \n",
      " 2   commits                          287884 non-null  int64              \n",
      " 3   used_dep_manager                 287884 non-null  int64              \n",
      " 4   cve_lifespan_commiter_time       287884 non-null  timedelta64[ns]    \n",
      " 5   cve_lifespan_author_time         287884 non-null  timedelta64[ns]    \n",
      " 6   embargo_min                      287884 non-null  bool               \n",
      " 7   embargo_max                      287884 non-null  bool               \n",
      " 8   lang_Shell                       287884 non-null  float64            \n",
      " 9   other_languages                  287884 non-null  float64            \n",
      " 10  variable                         287884 non-null  object             \n",
      " 11  value                            287884 non-null  float64            \n",
      " 12  programming_paradigm             287884 non-null  int64              \n",
      " 13  Programming paradigm             287884 non-null  category           \n",
      " 14  compilation_class                287884 non-null  int64              \n",
      " 15  Compilation class                287884 non-null  category           \n",
      " 16  type_class                       287884 non-null  int64              \n",
      " 17  Type class                       287884 non-null  category           \n",
      " 18  memory_model                     287884 non-null  int64              \n",
      " 19  Memory model                     287884 non-null  category           \n",
      " 20  extended_programming_paradigm    287884 non-null  int64              \n",
      " 21  Programming paradigm (extended)  287884 non-null  category           \n",
      " 22  cve                              287884 non-null  object             \n",
      " 23  cvss                             286848 non-null  Float64            \n",
      " 24  cwe                              286848 non-null  string             \n",
      " 25  cvss-vector                      286848 non-null  string             \n",
      " 26  access.authentication            286848 non-null  category           \n",
      " 27  access.complexity                286848 non-null  category           \n",
      " 28  access.vector                    286848 non-null  category           \n",
      " 29  impact.availability              286848 non-null  category           \n",
      " 30  impact.confidentiality           286848 non-null  category           \n",
      " 31  impact.integrity                 286848 non-null  category           \n",
      " 32  CVSS v2.0 Ratings                286848 non-null  category           \n",
      " 33  CVSS v3.1 Ratings                286848 non-null  category           \n",
      " 34  RootFork                         213378 non-null  object             \n",
      " 35  EarliestCommitDate               287884 non-null  datetime64[ns, UTC]\n",
      " 36  LatestCommitDate                 287884 non-null  datetime64[ns, UTC]\n",
      " 37  NumActiveMon                     287884 non-null  Int64              \n",
      " 38  NumAuthors                       287040 non-null  Int64              \n",
      " 39  NumCore                          287040 non-null  Int64              \n",
      " 40  CommunitySize                    287876 non-null  Int64              \n",
      " 41  NumCommits                       287595 non-null  Int64              \n",
      " 42  NumBlobs                         287884 non-null  Int64              \n",
      " 43  NumFiles                         287884 non-null  Int64              \n",
      " 44  NumForks                         287876 non-null  Int64              \n",
      " 45  NumStars                         228169 non-null  Int64              \n",
      "dtypes: Float64(1), Int64(9), bool(2), category(13), datetime64[ns, UTC](2), float64(3), int64(7), object(5), string(2), timedelta64[ns](2)\n",
      "memory usage: 77.1+ MB\n"
     ]
    }
   ],
   "source": [
    "df.info()"
   ]
  },
  {
   "cell_type": "code",
   "execution_count": 21,
   "id": "7281c146",
   "metadata": {
    "scrolled": true
   },
   "outputs": [
    {
     "data": {
      "text/html": [
       "<div>\n",
       "<style scoped>\n",
       "    .dataframe tbody tr th:only-of-type {\n",
       "        vertical-align: middle;\n",
       "    }\n",
       "\n",
       "    .dataframe tbody tr th {\n",
       "        vertical-align: top;\n",
       "    }\n",
       "\n",
       "    .dataframe thead th {\n",
       "        text-align: right;\n",
       "    }\n",
       "</style>\n",
       "<table border=\"1\" class=\"dataframe\">\n",
       "  <thead>\n",
       "    <tr style=\"text-align: right;\">\n",
       "      <th></th>\n",
       "      <th>commits</th>\n",
       "      <th>used_dep_manager</th>\n",
       "      <th>cve_lifespan_commiter_time</th>\n",
       "      <th>cve_lifespan_author_time</th>\n",
       "      <th>lang_Shell</th>\n",
       "      <th>other_languages</th>\n",
       "      <th>value</th>\n",
       "      <th>programming_paradigm</th>\n",
       "      <th>compilation_class</th>\n",
       "      <th>type_class</th>\n",
       "      <th>...</th>\n",
       "      <th>cvss</th>\n",
       "      <th>NumActiveMon</th>\n",
       "      <th>NumAuthors</th>\n",
       "      <th>NumCore</th>\n",
       "      <th>CommunitySize</th>\n",
       "      <th>NumCommits</th>\n",
       "      <th>NumBlobs</th>\n",
       "      <th>NumFiles</th>\n",
       "      <th>NumForks</th>\n",
       "      <th>NumStars</th>\n",
       "    </tr>\n",
       "  </thead>\n",
       "  <tbody>\n",
       "    <tr>\n",
       "      <th>count</th>\n",
       "      <td>287884.000000</td>\n",
       "      <td>287884.000000</td>\n",
       "      <td>287884</td>\n",
       "      <td>287884</td>\n",
       "      <td>287884.000000</td>\n",
       "      <td>287884.000000</td>\n",
       "      <td>287884.000000</td>\n",
       "      <td>287884.000000</td>\n",
       "      <td>287884.000000</td>\n",
       "      <td>287884.000000</td>\n",
       "      <td>...</td>\n",
       "      <td>286848.000000</td>\n",
       "      <td>287884.000000</td>\n",
       "      <td>287040.000000</td>\n",
       "      <td>287040.000000</td>\n",
       "      <td>287876.000000</td>\n",
       "      <td>2.875950e+05</td>\n",
       "      <td>2.878840e+05</td>\n",
       "      <td>2.878840e+05</td>\n",
       "      <td>287876.000000</td>\n",
       "      <td>228169.000000</td>\n",
       "    </tr>\n",
       "    <tr>\n",
       "      <th>mean</th>\n",
       "      <td>8.150703</td>\n",
       "      <td>0.136843</td>\n",
       "      <td>807 days 06:29:13.535271144</td>\n",
       "      <td>780 days 05:07:34.098845368</td>\n",
       "      <td>191.510570</td>\n",
       "      <td>2992.361809</td>\n",
       "      <td>416.710661</td>\n",
       "      <td>1.306894</td>\n",
       "      <td>1.522797</td>\n",
       "      <td>1.517431</td>\n",
       "      <td>...</td>\n",
       "      <td>5.825607</td>\n",
       "      <td>125.926748</td>\n",
       "      <td>5660.891374</td>\n",
       "      <td>247.696941</td>\n",
       "      <td>6339.450840</td>\n",
       "      <td>1.834722e+06</td>\n",
       "      <td>1.234389e+06</td>\n",
       "      <td>5.705731e+05</td>\n",
       "      <td>11131.559810</td>\n",
       "      <td>15738.112057</td>\n",
       "    </tr>\n",
       "    <tr>\n",
       "      <th>std</th>\n",
       "      <td>49.492564</td>\n",
       "      <td>1.007577</td>\n",
       "      <td>1079 days 14:16:50.894215344</td>\n",
       "      <td>1026 days 19:16:41.786469504</td>\n",
       "      <td>345.637555</td>\n",
       "      <td>8232.715201</td>\n",
       "      <td>3761.104188</td>\n",
       "      <td>0.710714</td>\n",
       "      <td>0.499481</td>\n",
       "      <td>0.499697</td>\n",
       "      <td>...</td>\n",
       "      <td>1.920419</td>\n",
       "      <td>119.699092</td>\n",
       "      <td>21216.673708</td>\n",
       "      <td>751.429312</td>\n",
       "      <td>22615.227119</td>\n",
       "      <td>7.170781e+06</td>\n",
       "      <td>4.021697e+06</td>\n",
       "      <td>1.714456e+06</td>\n",
       "      <td>45994.074477</td>\n",
       "      <td>46962.572570</td>\n",
       "    </tr>\n",
       "    <tr>\n",
       "      <th>min</th>\n",
       "      <td>1.000000</td>\n",
       "      <td>0.000000</td>\n",
       "      <td>0 days 00:00:00</td>\n",
       "      <td>0 days 00:00:00</td>\n",
       "      <td>0.000000</td>\n",
       "      <td>0.000000</td>\n",
       "      <td>1.000000</td>\n",
       "      <td>1.000000</td>\n",
       "      <td>1.000000</td>\n",
       "      <td>1.000000</td>\n",
       "      <td>...</td>\n",
       "      <td>0.000000</td>\n",
       "      <td>1.000000</td>\n",
       "      <td>1.000000</td>\n",
       "      <td>1.000000</td>\n",
       "      <td>1.000000</td>\n",
       "      <td>1.000000e+00</td>\n",
       "      <td>1.000000e+00</td>\n",
       "      <td>1.000000e+00</td>\n",
       "      <td>0.000000</td>\n",
       "      <td>1.000000</td>\n",
       "    </tr>\n",
       "    <tr>\n",
       "      <th>25%</th>\n",
       "      <td>1.000000</td>\n",
       "      <td>0.000000</td>\n",
       "      <td>49 days 20:13:50.750000</td>\n",
       "      <td>38 days 18:02:49</td>\n",
       "      <td>0.000000</td>\n",
       "      <td>0.000000</td>\n",
       "      <td>1.000000</td>\n",
       "      <td>1.000000</td>\n",
       "      <td>1.000000</td>\n",
       "      <td>1.000000</td>\n",
       "      <td>...</td>\n",
       "      <td>4.300000</td>\n",
       "      <td>13.000000</td>\n",
       "      <td>4.000000</td>\n",
       "      <td>2.000000</td>\n",
       "      <td>2.000000</td>\n",
       "      <td>2.400000e+01</td>\n",
       "      <td>5.354300e+04</td>\n",
       "      <td>2.896700e+04</td>\n",
       "      <td>0.000000</td>\n",
       "      <td>2.000000</td>\n",
       "    </tr>\n",
       "    <tr>\n",
       "      <th>50%</th>\n",
       "      <td>1.000000</td>\n",
       "      <td>0.000000</td>\n",
       "      <td>370 days 02:34:47</td>\n",
       "      <td>343 days 03:22:09</td>\n",
       "      <td>1.000000</td>\n",
       "      <td>21.000000</td>\n",
       "      <td>5.000000</td>\n",
       "      <td>1.000000</td>\n",
       "      <td>2.000000</td>\n",
       "      <td>2.000000</td>\n",
       "      <td>...</td>\n",
       "      <td>5.000000</td>\n",
       "      <td>80.000000</td>\n",
       "      <td>75.000000</td>\n",
       "      <td>10.000000</td>\n",
       "      <td>6.000000</td>\n",
       "      <td>4.762000e+03</td>\n",
       "      <td>1.623890e+05</td>\n",
       "      <td>1.055120e+05</td>\n",
       "      <td>5.000000</td>\n",
       "      <td>35.000000</td>\n",
       "    </tr>\n",
       "    <tr>\n",
       "      <th>75%</th>\n",
       "      <td>5.000000</td>\n",
       "      <td>0.000000</td>\n",
       "      <td>1154 days 03:28:44</td>\n",
       "      <td>1156 days 20:27:30</td>\n",
       "      <td>166.000000</td>\n",
       "      <td>4862.000000</td>\n",
       "      <td>30.000000</td>\n",
       "      <td>1.000000</td>\n",
       "      <td>2.000000</td>\n",
       "      <td>2.000000</td>\n",
       "      <td>...</td>\n",
       "      <td>7.200000</td>\n",
       "      <td>235.000000</td>\n",
       "      <td>2207.000000</td>\n",
       "      <td>213.000000</td>\n",
       "      <td>1184.000000</td>\n",
       "      <td>3.610380e+05</td>\n",
       "      <td>6.949690e+05</td>\n",
       "      <td>3.155660e+05</td>\n",
       "      <td>1340.000000</td>\n",
       "      <td>11954.000000</td>\n",
       "    </tr>\n",
       "    <tr>\n",
       "      <th>max</th>\n",
       "      <td>2354.000000</td>\n",
       "      <td>51.000000</td>\n",
       "      <td>8019 days 14:41:17</td>\n",
       "      <td>8019 days 14:41:17</td>\n",
       "      <td>11867.000000</td>\n",
       "      <td>153573.000000</td>\n",
       "      <td>616542.000000</td>\n",
       "      <td>3.000000</td>\n",
       "      <td>2.000000</td>\n",
       "      <td>2.000000</td>\n",
       "      <td>...</td>\n",
       "      <td>10.000000</td>\n",
       "      <td>698.000000</td>\n",
       "      <td>109725.000000</td>\n",
       "      <td>16920.000000</td>\n",
       "      <td>154323.000000</td>\n",
       "      <td>3.646839e+07</td>\n",
       "      <td>3.604579e+07</td>\n",
       "      <td>4.307279e+07</td>\n",
       "      <td>237104.000000</td>\n",
       "      <td>285958.000000</td>\n",
       "    </tr>\n",
       "  </tbody>\n",
       "</table>\n",
       "<p>8 rows × 22 columns</p>\n",
       "</div>"
      ],
      "text/plain": [
       "             commits  used_dep_manager    cve_lifespan_commiter_time  \\\n",
       "count  287884.000000     287884.000000                        287884   \n",
       "mean        8.150703          0.136843   807 days 06:29:13.535271144   \n",
       "std        49.492564          1.007577  1079 days 14:16:50.894215344   \n",
       "min         1.000000          0.000000               0 days 00:00:00   \n",
       "25%         1.000000          0.000000       49 days 20:13:50.750000   \n",
       "50%         1.000000          0.000000             370 days 02:34:47   \n",
       "75%         5.000000          0.000000            1154 days 03:28:44   \n",
       "max      2354.000000         51.000000            8019 days 14:41:17   \n",
       "\n",
       "           cve_lifespan_author_time     lang_Shell  other_languages  \\\n",
       "count                        287884  287884.000000    287884.000000   \n",
       "mean    780 days 05:07:34.098845368     191.510570      2992.361809   \n",
       "std    1026 days 19:16:41.786469504     345.637555      8232.715201   \n",
       "min                 0 days 00:00:00       0.000000         0.000000   \n",
       "25%                38 days 18:02:49       0.000000         0.000000   \n",
       "50%               343 days 03:22:09       1.000000        21.000000   \n",
       "75%              1156 days 20:27:30     166.000000      4862.000000   \n",
       "max              8019 days 14:41:17   11867.000000    153573.000000   \n",
       "\n",
       "               value  programming_paradigm  compilation_class     type_class  \\\n",
       "count  287884.000000         287884.000000      287884.000000  287884.000000   \n",
       "mean      416.710661              1.306894           1.522797       1.517431   \n",
       "std      3761.104188              0.710714           0.499481       0.499697   \n",
       "min         1.000000              1.000000           1.000000       1.000000   \n",
       "25%         1.000000              1.000000           1.000000       1.000000   \n",
       "50%         5.000000              1.000000           2.000000       2.000000   \n",
       "75%        30.000000              1.000000           2.000000       2.000000   \n",
       "max    616542.000000              3.000000           2.000000       2.000000   \n",
       "\n",
       "       ...           cvss   NumActiveMon     NumAuthors        NumCore  \\\n",
       "count  ...  286848.000000  287884.000000  287040.000000  287040.000000   \n",
       "mean   ...       5.825607     125.926748    5660.891374     247.696941   \n",
       "std    ...       1.920419     119.699092   21216.673708     751.429312   \n",
       "min    ...       0.000000       1.000000       1.000000       1.000000   \n",
       "25%    ...       4.300000      13.000000       4.000000       2.000000   \n",
       "50%    ...       5.000000      80.000000      75.000000      10.000000   \n",
       "75%    ...       7.200000     235.000000    2207.000000     213.000000   \n",
       "max    ...      10.000000     698.000000  109725.000000   16920.000000   \n",
       "\n",
       "       CommunitySize    NumCommits      NumBlobs      NumFiles       NumForks  \\\n",
       "count  287876.000000  2.875950e+05  2.878840e+05  2.878840e+05  287876.000000   \n",
       "mean     6339.450840  1.834722e+06  1.234389e+06  5.705731e+05   11131.559810   \n",
       "std     22615.227119  7.170781e+06  4.021697e+06  1.714456e+06   45994.074477   \n",
       "min         1.000000  1.000000e+00  1.000000e+00  1.000000e+00       0.000000   \n",
       "25%         2.000000  2.400000e+01  5.354300e+04  2.896700e+04       0.000000   \n",
       "50%         6.000000  4.762000e+03  1.623890e+05  1.055120e+05       5.000000   \n",
       "75%      1184.000000  3.610380e+05  6.949690e+05  3.155660e+05    1340.000000   \n",
       "max    154323.000000  3.646839e+07  3.604579e+07  4.307279e+07  237104.000000   \n",
       "\n",
       "            NumStars  \n",
       "count  228169.000000  \n",
       "mean    15738.112057  \n",
       "std     46962.572570  \n",
       "min         1.000000  \n",
       "25%         2.000000  \n",
       "50%        35.000000  \n",
       "75%     11954.000000  \n",
       "max    285958.000000  \n",
       "\n",
       "[8 rows x 22 columns]"
      ]
     },
     "execution_count": 21,
     "metadata": {},
     "output_type": "execute_result"
    }
   ],
   "source": [
    "df.describe()"
   ]
  },
  {
   "cell_type": "markdown",
   "id": "bb364f6e",
   "metadata": {},
   "source": [
    "## Analyze"
   ]
  },
  {
   "cell_type": "code",
   "execution_count": 47,
   "id": "812fce19",
   "metadata": {},
   "outputs": [],
   "source": [
    "df['E'] = True\n",
    "df['Y']=df['cve_lifespan_commiter_time'].dt.days"
   ]
  },
  {
   "cell_type": "code",
   "execution_count": 24,
   "id": "481647ba",
   "metadata": {},
   "outputs": [
    {
     "data": {
      "text/html": [
       "<div>\n",
       "<style scoped>\n",
       "    .dataframe tbody tr th:only-of-type {\n",
       "        vertical-align: middle;\n",
       "    }\n",
       "\n",
       "    .dataframe tbody tr th {\n",
       "        vertical-align: top;\n",
       "    }\n",
       "\n",
       "    .dataframe thead th {\n",
       "        text-align: right;\n",
       "    }\n",
       "</style>\n",
       "<table border=\"1\" class=\"dataframe\">\n",
       "  <thead>\n",
       "    <tr style=\"text-align: right;\">\n",
       "      <th></th>\n",
       "      <th>Y</th>\n",
       "    </tr>\n",
       "  </thead>\n",
       "  <tbody>\n",
       "    <tr>\n",
       "      <th>count</th>\n",
       "      <td>287884.000000</td>\n",
       "    </tr>\n",
       "    <tr>\n",
       "      <th>mean</th>\n",
       "      <td>806.781520</td>\n",
       "    </tr>\n",
       "    <tr>\n",
       "      <th>std</th>\n",
       "      <td>1079.573838</td>\n",
       "    </tr>\n",
       "    <tr>\n",
       "      <th>min</th>\n",
       "      <td>0.000000</td>\n",
       "    </tr>\n",
       "    <tr>\n",
       "      <th>25%</th>\n",
       "      <td>49.000000</td>\n",
       "    </tr>\n",
       "    <tr>\n",
       "      <th>50%</th>\n",
       "      <td>370.000000</td>\n",
       "    </tr>\n",
       "    <tr>\n",
       "      <th>75%</th>\n",
       "      <td>1154.000000</td>\n",
       "    </tr>\n",
       "    <tr>\n",
       "      <th>max</th>\n",
       "      <td>8019.000000</td>\n",
       "    </tr>\n",
       "  </tbody>\n",
       "</table>\n",
       "</div>"
      ],
      "text/plain": [
       "                   Y\n",
       "count  287884.000000\n",
       "mean      806.781520\n",
       "std      1079.573838\n",
       "min         0.000000\n",
       "25%        49.000000\n",
       "50%       370.000000\n",
       "75%      1154.000000\n",
       "max      8019.000000"
      ]
     },
     "execution_count": 24,
     "metadata": {},
     "output_type": "execute_result"
    }
   ],
   "source": [
    "df[['Y','E']].describe()"
   ]
  },
  {
   "cell_type": "markdown",
   "id": "f5ecc733",
   "metadata": {},
   "source": [
    "### NumCore"
   ]
  },
  {
   "cell_type": "code",
   "execution_count": 25,
   "id": "42567494",
   "metadata": {},
   "outputs": [
    {
     "data": {
      "text/plain": [
       "<AxesSubplot: ylabel='Count'>"
      ]
     },
     "execution_count": 25,
     "metadata": {},
     "output_type": "execute_result"
    },
    {
     "data": {
      "image/png": "[encoded data removed]",
      "text/plain": [
       "<Figure size 432x288 with 1 Axes>"
      ]
     },
     "metadata": {
      "needs_background": "light"
     },
     "output_type": "display_data"
    }
   ],
   "source": [
    "sns.histplot(data=df[['NumCore']].dropna(),log_scale=True)"
   ]
  },
  {
   "cell_type": "code",
   "execution_count": 66,
   "id": "0003f1cc",
   "metadata": {},
   "outputs": [
    {
     "data": {
      "text/plain": [
       "NumCore_cut\n",
       "[1.0, 2.0)          32931\n",
       "[2.0, 10.0)        109661\n",
       "[10.0, 100.0)       61343\n",
       "[100.0, 1000.0)     69258\n",
       "[1000.0, inf)       13847\n",
       "dtype: int64"
      ]
     },
     "metadata": {},
     "output_type": "display_data"
    },
    {
     "data": {
      "text/plain": [
       "CategoricalDtype(categories=[[1.0, 2.0), [2.0, 10.0), [10.0, 100.0), [100.0, 1000.0), [1000.0, inf)], ordered=True)"
      ]
     },
     "metadata": {},
     "output_type": "display_data"
    },
    {
     "data": {
      "text/plain": [
       "<AxesSubplot: xlabel='NumCore_cut', ylabel='CVE+project'>"
      ]
     },
     "execution_count": 66,
     "metadata": {},
     "output_type": "execute_result"
    },
    {
     "data": {
      "image/png": "[encoded data removed]",
      "text/plain": [
       "<Figure size 432x288 with 1 Axes>"
      ]
     },
     "metadata": {
      "needs_background": "light"
     },
     "output_type": "display_data"
    }
   ],
   "source": [
    "numcore_cut = pd.cut(df['NumCore'].dropna(),\n",
    "                     bins=[1,2,10,100,1000,np.inf],right=False,include_lowest=True)\n",
    "df['NumCore_cut'] = numcore_cut\n",
    "display(df.value_counts('NumCore_cut').sort_index())\n",
    "display(numcore_cut.dtype)\n",
    "\n",
    "df.value_counts('NumCore_cut').sort_index().plot.bar(ylabel='CVE+project')"
   ]
  },
  {
   "cell_type": "code",
   "execution_count": 67,
   "id": "004e39fd",
   "metadata": {},
   "outputs": [
    {
     "data": {
      "text/plain": [
       "[Interval(1.0, 2.0, closed='left'),\n",
       " Interval(2.0, 10.0, closed='left'),\n",
       " Interval(10.0, 100.0, closed='left'),\n",
       " Interval(100.0, 1000.0, closed='left'),\n",
       " Interval(1000.0, inf, closed='left')]"
      ]
     },
     "execution_count": 67,
     "metadata": {},
     "output_type": "execute_result"
    }
   ],
   "source": [
    "ranking_list = create_values_ranking_list(df['NumCore_cut'], df['NumCore_cut'].dtype)\n",
    "ranking_list"
   ]
  },
  {
   "cell_type": "code",
   "execution_count": 68,
   "id": "cd4c5eb2",
   "metadata": {},
   "outputs": [],
   "source": [
    "(values_hash, values_names) = values_ranking_hashes(ranking_list)"
   ]
  },
  {
   "cell_type": "code",
   "execution_count": 69,
   "id": "8014baaa",
   "metadata": {},
   "outputs": [
    {
     "name": "stderr",
     "output_type": "stream",
     "text": [
      "all = 287884, selected = 287040, uncensored = 287040\n",
      "Computing 50 × bootstrap Dxy for 287040 elements...\n",
      "Computing confidence interval from 50 samples...\n",
      "Computing descriptive statistics like mean, median, etc....\n"
     ]
    },
    {
     "data": {
      "text/plain": [
       "{'Cohort': 287884,\n",
       " 'Number of patients': 287040.0,\n",
       " '% of cohort': 99.70682636061747,\n",
       " 'Survival days, median': 369.0,\n",
       " 'Survival years, median': 1.010958904109589,\n",
       " 'Dxy (full)': 0.038290600483601445,\n",
       " 'bootstrap': {'Dxy': 0.038138292028549604,\n",
       "  'Confidence interval low': 0.037760482952701374,\n",
       "  'Confidence interval high': 0.038516101104397835,\n",
       "  'confidence threshold %': 95.0,\n",
       "  'bootstrap samples': 50}}"
      ]
     },
     "metadata": {},
     "output_type": "display_data"
    },
    {
     "data": {
      "text/html": [
       "<div>\n",
       "<style scoped>\n",
       "    .dataframe tbody tr th:only-of-type {\n",
       "        vertical-align: middle;\n",
       "    }\n",
       "\n",
       "    .dataframe tbody tr th {\n",
       "        vertical-align: top;\n",
       "    }\n",
       "\n",
       "    .dataframe thead th {\n",
       "        text-align: right;\n",
       "    }\n",
       "</style>\n",
       "<table border=\"1\" class=\"dataframe\">\n",
       "  <thead>\n",
       "    <tr style=\"text-align: right;\">\n",
       "      <th></th>\n",
       "      <th>count</th>\n",
       "      <th>median</th>\n",
       "      <th>min</th>\n",
       "      <th>25%</th>\n",
       "      <th>75%</th>\n",
       "      <th>max</th>\n",
       "      <th>mean</th>\n",
       "      <th>std</th>\n",
       "      <th>skew</th>\n",
       "    </tr>\n",
       "    <tr>\n",
       "      <th>NumCore_cut</th>\n",
       "      <th></th>\n",
       "      <th></th>\n",
       "      <th></th>\n",
       "      <th></th>\n",
       "      <th></th>\n",
       "      <th></th>\n",
       "      <th></th>\n",
       "      <th></th>\n",
       "      <th></th>\n",
       "    </tr>\n",
       "  </thead>\n",
       "  <tbody>\n",
       "    <tr>\n",
       "      <th>[1.0, 2.0)</th>\n",
       "      <td>32931</td>\n",
       "      <td>337.0</td>\n",
       "      <td>0</td>\n",
       "      <td>36.0</td>\n",
       "      <td>832.5</td>\n",
       "      <td>7458</td>\n",
       "      <td>677.925055</td>\n",
       "      <td>1008.908188</td>\n",
       "      <td>2.354657</td>\n",
       "    </tr>\n",
       "    <tr>\n",
       "      <th>[2.0, 10.0)</th>\n",
       "      <td>109661</td>\n",
       "      <td>506.0</td>\n",
       "      <td>0</td>\n",
       "      <td>49.0</td>\n",
       "      <td>1522.0</td>\n",
       "      <td>7205</td>\n",
       "      <td>903.942076</td>\n",
       "      <td>1023.236172</td>\n",
       "      <td>1.148227</td>\n",
       "    </tr>\n",
       "    <tr>\n",
       "      <th>[10.0, 100.0)</th>\n",
       "      <td>61343</td>\n",
       "      <td>91.0</td>\n",
       "      <td>0</td>\n",
       "      <td>15.0</td>\n",
       "      <td>404.0</td>\n",
       "      <td>8019</td>\n",
       "      <td>406.462074</td>\n",
       "      <td>805.100632</td>\n",
       "      <td>3.689308</td>\n",
       "    </tr>\n",
       "    <tr>\n",
       "      <th>[100.0, 1000.0)</th>\n",
       "      <td>69258</td>\n",
       "      <td>665.0</td>\n",
       "      <td>0</td>\n",
       "      <td>196.0</td>\n",
       "      <td>1329.0</td>\n",
       "      <td>7415</td>\n",
       "      <td>1038.326186</td>\n",
       "      <td>1214.242877</td>\n",
       "      <td>2.066857</td>\n",
       "    </tr>\n",
       "    <tr>\n",
       "      <th>[1000.0, inf)</th>\n",
       "      <td>13847</td>\n",
       "      <td>444.0</td>\n",
       "      <td>0</td>\n",
       "      <td>113.0</td>\n",
       "      <td>1132.0</td>\n",
       "      <td>7538</td>\n",
       "      <td>939.924749</td>\n",
       "      <td>1428.775413</td>\n",
       "      <td>2.735424</td>\n",
       "    </tr>\n",
       "  </tbody>\n",
       "</table>\n",
       "</div>"
      ],
      "text/plain": [
       "                  count  median  min    25%     75%   max         mean  \\\n",
       "NumCore_cut                                                              \n",
       "[1.0, 2.0)        32931   337.0    0   36.0   832.5  7458   677.925055   \n",
       "[2.0, 10.0)      109661   506.0    0   49.0  1522.0  7205   903.942076   \n",
       "[10.0, 100.0)     61343    91.0    0   15.0   404.0  8019   406.462074   \n",
       "[100.0, 1000.0)   69258   665.0    0  196.0  1329.0  7415  1038.326186   \n",
       "[1000.0, inf)     13847   444.0    0  113.0  1132.0  7538   939.924749   \n",
       "\n",
       "                         std      skew  \n",
       "NumCore_cut                             \n",
       "[1.0, 2.0)       1008.908188  2.354657  \n",
       "[2.0, 10.0)      1023.236172  1.148227  \n",
       "[10.0, 100.0)     805.100632  3.689308  \n",
       "[100.0, 1000.0)  1214.242877  2.066857  \n",
       "[1000.0, inf)    1428.775413  2.735424  "
      ]
     },
     "metadata": {},
     "output_type": "display_data"
    }
   ],
   "source": [
    "f_map = lambda row: f_map_generic(row, 'NumCore_cut', values_hash)\n",
    "params = {\n",
    "    'bootstrap_samples': 50,\n",
    "    'confidence': 0.95,\n",
    "    'risk_column_name': 'NumCore_cut',\n",
    "}\n",
    "(ret, groups, ddf) = apply_stats_for_each_value(params, df, f_map, condition_names=values_names, df_mask=None)\n",
    "\n",
    "display(ret)\n",
    "display(groups)\n",
    "#display(ddf)"
   ]
  },
  {
   "cell_type": "code",
   "execution_count": 70,
   "id": "a4f280e0",
   "metadata": {},
   "outputs": [
    {
     "data": {
      "image/png": "[encoded data removed]",
      "text/plain": [
       "<Figure size 432x288 with 1 Axes>"
      ]
     },
     "metadata": {
      "needs_background": "light"
     },
     "output_type": "display_data"
    },
    {
     "data": {
      "text/plain": [
       "<Figure size 432x288 with 0 Axes>"
      ]
     },
     "metadata": {},
     "output_type": "display_data"
    }
   ],
   "source": [
    "plot_survival_function(params, ddf, condition_names=values_names)"
   ]
  },
  {
   "cell_type": "markdown",
   "id": "69feea61",
   "metadata": {},
   "source": [
    "----"
   ]
  },
  {
   "cell_type": "code",
   "execution_count": 62,
   "id": "b1d74c03",
   "metadata": {},
   "outputs": [
    {
     "data": {
      "text/plain": [
       "NumCore_cut\n",
       "[10.0, inf)    144448\n",
       "[1.0, 10.0)    142592\n",
       "dtype: int64"
      ]
     },
     "metadata": {},
     "output_type": "display_data"
    },
    {
     "data": {
      "text/plain": [
       "CategoricalDtype(categories=[[1.0, 10.0), [10.0, inf)], ordered=True)"
      ]
     },
     "metadata": {},
     "output_type": "display_data"
    },
    {
     "data": {
      "text/plain": [
       "<AxesSubplot: xlabel='NumCore_cut', ylabel='CVE+project'>"
      ]
     },
     "execution_count": 62,
     "metadata": {},
     "output_type": "execute_result"
    },
    {
     "data": {
      "image/png": "[encoded data removed]",
      "text/plain": [
       "<Figure size 432x288 with 1 Axes>"
      ]
     },
     "metadata": {
      "needs_background": "light"
     },
     "output_type": "display_data"
    }
   ],
   "source": [
    "numcore_cut = pd.cut(df['NumCore'].dropna(),\n",
    "                     bins=[1,10,np.inf],right=False,include_lowest=True)\n",
    "df['NumCore_cut'] = numcore_cut\n",
    "display(df.value_counts('NumCore_cut'))\n",
    "display(numcore_cut.dtype)\n",
    "\n",
    "df.value_counts('NumCore_cut').plot.bar(ylabel='CVE+project')"
   ]
  },
  {
   "cell_type": "code",
   "execution_count": 63,
   "id": "2b2906a4",
   "metadata": {},
   "outputs": [],
   "source": [
    "ranking_list = create_values_ranking_list(df['NumCore_cut'], df['NumCore_cut'].dtype)\n",
    "(values_hash, values_names) = values_ranking_hashes(ranking_list)"
   ]
  },
  {
   "cell_type": "code",
   "execution_count": 64,
   "id": "db0caf96",
   "metadata": {},
   "outputs": [
    {
     "name": "stderr",
     "output_type": "stream",
     "text": [
      "all = 287884, selected = 287040, uncensored = 287040\n",
      "Computing 50 × bootstrap Dxy for 287040 elements...\n",
      "Computing confidence interval from 50 samples...\n",
      "Computing descriptive statistics like mean, median, etc....\n"
     ]
    },
    {
     "data": {
      "text/plain": [
       "{'Cohort': 287884,\n",
       " 'Number of patients': 287040.0,\n",
       " '% of cohort': 99.70682636061747,\n",
       " 'Survival days, median': 369.0,\n",
       " 'Survival years, median': 1.010958904109589,\n",
       " 'Dxy (full)': -0.027116263661645434,\n",
       " 'bootstrap': {'Dxy': -0.026972782029083958,\n",
       "  'Confidence interval low': -0.027266587820073226,\n",
       "  'Confidence interval high': -0.02667897623809469,\n",
       "  'confidence threshold %': 95.0,\n",
       "  'bootstrap samples': 50}}"
      ]
     },
     "metadata": {},
     "output_type": "display_data"
    },
    {
     "data": {
      "text/html": [
       "<div>\n",
       "<style scoped>\n",
       "    .dataframe tbody tr th:only-of-type {\n",
       "        vertical-align: middle;\n",
       "    }\n",
       "\n",
       "    .dataframe tbody tr th {\n",
       "        vertical-align: top;\n",
       "    }\n",
       "\n",
       "    .dataframe thead th {\n",
       "        text-align: right;\n",
       "    }\n",
       "</style>\n",
       "<table border=\"1\" class=\"dataframe\">\n",
       "  <thead>\n",
       "    <tr style=\"text-align: right;\">\n",
       "      <th></th>\n",
       "      <th>count</th>\n",
       "      <th>median</th>\n",
       "      <th>min</th>\n",
       "      <th>25%</th>\n",
       "      <th>75%</th>\n",
       "      <th>max</th>\n",
       "      <th>mean</th>\n",
       "      <th>std</th>\n",
       "      <th>skew</th>\n",
       "    </tr>\n",
       "    <tr>\n",
       "      <th>NumCore_cut</th>\n",
       "      <th></th>\n",
       "      <th></th>\n",
       "      <th></th>\n",
       "      <th></th>\n",
       "      <th></th>\n",
       "      <th></th>\n",
       "      <th></th>\n",
       "      <th></th>\n",
       "      <th></th>\n",
       "    </tr>\n",
       "  </thead>\n",
       "  <tbody>\n",
       "    <tr>\n",
       "      <th>[1.0, 10.0)</th>\n",
       "      <td>142592</td>\n",
       "      <td>408.0</td>\n",
       "      <td>0</td>\n",
       "      <td>44.0</td>\n",
       "      <td>1352.0</td>\n",
       "      <td>7458</td>\n",
       "      <td>851.744432</td>\n",
       "      <td>1024.379699</td>\n",
       "      <td>1.401820</td>\n",
       "    </tr>\n",
       "    <tr>\n",
       "      <th>[10.0, inf)</th>\n",
       "      <td>144448</td>\n",
       "      <td>316.0</td>\n",
       "      <td>0</td>\n",
       "      <td>53.0</td>\n",
       "      <td>1024.0</td>\n",
       "      <td>8019</td>\n",
       "      <td>760.558374</td>\n",
       "      <td>1127.466890</td>\n",
       "      <td>2.616699</td>\n",
       "    </tr>\n",
       "  </tbody>\n",
       "</table>\n",
       "</div>"
      ],
      "text/plain": [
       "              count  median  min   25%     75%   max        mean          std  \\\n",
       "NumCore_cut                                                                     \n",
       "[1.0, 10.0)  142592   408.0    0  44.0  1352.0  7458  851.744432  1024.379699   \n",
       "[10.0, inf)  144448   316.0    0  53.0  1024.0  8019  760.558374  1127.466890   \n",
       "\n",
       "                 skew  \n",
       "NumCore_cut            \n",
       "[1.0, 10.0)  1.401820  \n",
       "[10.0, inf)  2.616699  "
      ]
     },
     "metadata": {},
     "output_type": "display_data"
    }
   ],
   "source": [
    "f_map = lambda row: f_map_generic(row, 'NumCore_cut', values_hash)\n",
    "params = {\n",
    "    'bootstrap_samples': 50,\n",
    "    'confidence': 0.95,\n",
    "    'risk_column_name': 'NumCore_cut',\n",
    "}\n",
    "(ret, groups, ddf) = apply_stats_for_each_value(params, df, f_map, condition_names=values_names, df_mask=None)\n",
    "\n",
    "display(ret)\n",
    "display(groups)\n",
    "#display(ddf)"
   ]
  },
  {
   "cell_type": "code",
   "execution_count": 65,
   "id": "7df5dc48",
   "metadata": {},
   "outputs": [
    {
     "data": {
      "image/png": "[encoded data removed]",
      "text/plain": [
       "<Figure size 432x288 with 1 Axes>"
      ]
     },
     "metadata": {
      "needs_background": "light"
     },
     "output_type": "display_data"
    },
    {
     "data": {
      "text/plain": [
       "<Figure size 432x288 with 0 Axes>"
      ]
     },
     "metadata": {},
     "output_type": "display_data"
    }
   ],
   "source": [
    "plot_survival_function(params, ddf, condition_names=values_names)"
   ]
  },
  {
   "cell_type": "markdown",
   "id": "0e777872",
   "metadata": {},
   "source": [
    "### NumCommits"
   ]
  },
  {
   "cell_type": "code",
   "execution_count": 71,
   "id": "7e46099a",
   "metadata": {
    "scrolled": true
   },
   "outputs": [
    {
     "data": {
      "text/plain": [
       "<AxesSubplot: ylabel='Count'>"
      ]
     },
     "execution_count": 71,
     "metadata": {},
     "output_type": "execute_result"
    },
    {
     "data": {
      "image/png": "[encoded data removed]",
      "text/plain": [
       "<Figure size 432x288 with 1 Axes>"
      ]
     },
     "metadata": {
      "needs_background": "light"
     },
     "output_type": "display_data"
    }
   ],
   "source": [
    "sns.histplot(data=df[['NumCommits']].dropna(), log_scale=True)"
   ]
  },
  {
   "cell_type": "code",
   "execution_count": 73,
   "id": "47f28a96",
   "metadata": {
    "scrolled": false
   },
   "outputs": [
    {
     "data": {
      "text/plain": [
       "NumCommits_cut\n",
       "[1.0, 10.0)               8039\n",
       "[10.0, 100.0)            79901\n",
       "[100.0, 1000.0)          38058\n",
       "[1000.0, 10000.0)        26662\n",
       "[10000.0, 100000.0)      37810\n",
       "[100000.0, 1000000.0)    68728\n",
       "[1000000.0, inf)         28397\n",
       "dtype: int64"
      ]
     },
     "metadata": {},
     "output_type": "display_data"
    },
    {
     "data": {
      "text/plain": [
       "CategoricalDtype(categories=[[1.0, 10.0), [10.0, 100.0), [100.0, 1000.0), [1000.0, 10000.0), [10000.0, 100000.0), [100000.0, 1000000.0), [1000000.0, inf)], ordered=True)"
      ]
     },
     "metadata": {},
     "output_type": "display_data"
    },
    {
     "data": {
      "text/plain": [
       "<AxesSubplot: xlabel='NumCommits_cut', ylabel='CVE+project'>"
      ]
     },
     "execution_count": 73,
     "metadata": {},
     "output_type": "execute_result"
    },
    {
     "data": {
      "image/png": "[encoded data removed]",
      "text/plain": [
       "<Figure size 432x288 with 1 Axes>"
      ]
     },
     "metadata": {
      "needs_background": "light"
     },
     "output_type": "display_data"
    }
   ],
   "source": [
    "column_name = 'NumCommits'\n",
    "column_cut = column_name + '_cut'\n",
    "\n",
    "cut_s = pd.cut(df[column_name].dropna(),\n",
    "                  bins=[1,10,100,1000,10000,100000,1000000,np.inf],right=False,include_lowest=True)\n",
    "df[column_cut] = cut_s\n",
    "display(df.value_counts(column_cut).sort_index())\n",
    "display(cut_s.dtype)\n",
    "\n",
    "df.value_counts(column_cut).sort_index().plot.bar(ylabel='CVE+project')"
   ]
  },
  {
   "cell_type": "code",
   "execution_count": 74,
   "id": "2d41dab6",
   "metadata": {},
   "outputs": [
    {
     "name": "stderr",
     "output_type": "stream",
     "text": [
      "all = 287884, selected = 287595, uncensored = 287595\n",
      "Computing 50 × bootstrap Dxy for 287595 elements...\n",
      "Computing confidence interval from 50 samples...\n",
      "Computing descriptive statistics like mean, median, etc....\n"
     ]
    },
    {
     "data": {
      "text/plain": [
       "{'Cohort': 287884,\n",
       " 'Number of patients': 287595.0,\n",
       " '% of cohort': 99.89961234386072,\n",
       " 'Survival days, median': 370.0,\n",
       " 'Survival years, median': 1.0136986301369864,\n",
       " 'Dxy (full)': -0.12303721861560879,\n",
       " 'bootstrap': {'Dxy': -0.12288788837059245,\n",
       "  'Confidence interval low': -0.12316876356486471,\n",
       "  'Confidence interval high': -0.12260701317632018,\n",
       "  'confidence threshold %': 95.0,\n",
       "  'bootstrap samples': 50}}"
      ]
     },
     "metadata": {},
     "output_type": "display_data"
    },
    {
     "data": {
      "text/html": [
       "<div>\n",
       "<style scoped>\n",
       "    .dataframe tbody tr th:only-of-type {\n",
       "        vertical-align: middle;\n",
       "    }\n",
       "\n",
       "    .dataframe tbody tr th {\n",
       "        vertical-align: top;\n",
       "    }\n",
       "\n",
       "    .dataframe thead th {\n",
       "        text-align: right;\n",
       "    }\n",
       "</style>\n",
       "<table border=\"1\" class=\"dataframe\">\n",
       "  <thead>\n",
       "    <tr style=\"text-align: right;\">\n",
       "      <th></th>\n",
       "      <th>count</th>\n",
       "      <th>median</th>\n",
       "      <th>min</th>\n",
       "      <th>25%</th>\n",
       "      <th>75%</th>\n",
       "      <th>max</th>\n",
       "      <th>mean</th>\n",
       "      <th>std</th>\n",
       "      <th>skew</th>\n",
       "    </tr>\n",
       "    <tr>\n",
       "      <th>NumCommits_cut</th>\n",
       "      <th></th>\n",
       "      <th></th>\n",
       "      <th></th>\n",
       "      <th></th>\n",
       "      <th></th>\n",
       "      <th></th>\n",
       "      <th></th>\n",
       "      <th></th>\n",
       "      <th></th>\n",
       "    </tr>\n",
       "  </thead>\n",
       "  <tbody>\n",
       "    <tr>\n",
       "      <th>[1.0, 10.0)</th>\n",
       "      <td>8039</td>\n",
       "      <td>370.0</td>\n",
       "      <td>0</td>\n",
       "      <td>218.0</td>\n",
       "      <td>928.0</td>\n",
       "      <td>6026</td>\n",
       "      <td>828.631297</td>\n",
       "      <td>1110.991611</td>\n",
       "      <td>2.213131</td>\n",
       "    </tr>\n",
       "    <tr>\n",
       "      <th>[10.0, 100.0)</th>\n",
       "      <td>79901</td>\n",
       "      <td>916.0</td>\n",
       "      <td>0</td>\n",
       "      <td>309.0</td>\n",
       "      <td>1924.0</td>\n",
       "      <td>6800</td>\n",
       "      <td>1207.296442</td>\n",
       "      <td>1046.600254</td>\n",
       "      <td>0.764333</td>\n",
       "    </tr>\n",
       "    <tr>\n",
       "      <th>[100.0, 1000.0)</th>\n",
       "      <td>38058</td>\n",
       "      <td>103.5</td>\n",
       "      <td>0</td>\n",
       "      <td>17.0</td>\n",
       "      <td>616.0</td>\n",
       "      <td>7458</td>\n",
       "      <td>513.890483</td>\n",
       "      <td>934.384376</td>\n",
       "      <td>3.096772</td>\n",
       "    </tr>\n",
       "    <tr>\n",
       "      <th>[1000.0, 10000.0)</th>\n",
       "      <td>26662</td>\n",
       "      <td>238.0</td>\n",
       "      <td>0</td>\n",
       "      <td>34.0</td>\n",
       "      <td>792.0</td>\n",
       "      <td>8019</td>\n",
       "      <td>900.955555</td>\n",
       "      <td>1537.187735</td>\n",
       "      <td>2.157557</td>\n",
       "    </tr>\n",
       "    <tr>\n",
       "      <th>[10000.0, 100000.0)</th>\n",
       "      <td>37810</td>\n",
       "      <td>49.0</td>\n",
       "      <td>0</td>\n",
       "      <td>5.0</td>\n",
       "      <td>255.0</td>\n",
       "      <td>7512</td>\n",
       "      <td>351.857683</td>\n",
       "      <td>865.516972</td>\n",
       "      <td>4.403942</td>\n",
       "    </tr>\n",
       "    <tr>\n",
       "      <th>[100000.0, 1000000.0)</th>\n",
       "      <td>68728</td>\n",
       "      <td>509.0</td>\n",
       "      <td>0</td>\n",
       "      <td>87.0</td>\n",
       "      <td>1203.0</td>\n",
       "      <td>7043</td>\n",
       "      <td>802.708503</td>\n",
       "      <td>877.679632</td>\n",
       "      <td>1.536423</td>\n",
       "    </tr>\n",
       "    <tr>\n",
       "      <th>[1000000.0, inf)</th>\n",
       "      <td>28397</td>\n",
       "      <td>184.0</td>\n",
       "      <td>0</td>\n",
       "      <td>40.0</td>\n",
       "      <td>681.0</td>\n",
       "      <td>7538</td>\n",
       "      <td>592.009966</td>\n",
       "      <td>1101.493819</td>\n",
       "      <td>3.728582</td>\n",
       "    </tr>\n",
       "  </tbody>\n",
       "</table>\n",
       "</div>"
      ],
      "text/plain": [
       "                       count  median  min    25%     75%   max         mean  \\\n",
       "NumCommits_cut                                                                \n",
       "[1.0, 10.0)             8039   370.0    0  218.0   928.0  6026   828.631297   \n",
       "[10.0, 100.0)          79901   916.0    0  309.0  1924.0  6800  1207.296442   \n",
       "[100.0, 1000.0)        38058   103.5    0   17.0   616.0  7458   513.890483   \n",
       "[1000.0, 10000.0)      26662   238.0    0   34.0   792.0  8019   900.955555   \n",
       "[10000.0, 100000.0)    37810    49.0    0    5.0   255.0  7512   351.857683   \n",
       "[100000.0, 1000000.0)  68728   509.0    0   87.0  1203.0  7043   802.708503   \n",
       "[1000000.0, inf)       28397   184.0    0   40.0   681.0  7538   592.009966   \n",
       "\n",
       "                               std      skew  \n",
       "NumCommits_cut                                \n",
       "[1.0, 10.0)            1110.991611  2.213131  \n",
       "[10.0, 100.0)          1046.600254  0.764333  \n",
       "[100.0, 1000.0)         934.384376  3.096772  \n",
       "[1000.0, 10000.0)      1537.187735  2.157557  \n",
       "[10000.0, 100000.0)     865.516972  4.403942  \n",
       "[100000.0, 1000000.0)   877.679632  1.536423  \n",
       "[1000000.0, inf)       1101.493819  3.728582  "
      ]
     },
     "metadata": {},
     "output_type": "display_data"
    },
    {
     "data": {
      "image/png": "[encoded data removed]",
      "text/plain": [
       "<Figure size 432x288 with 1 Axes>"
      ]
     },
     "metadata": {
      "needs_background": "light"
     },
     "output_type": "display_data"
    },
    {
     "data": {
      "text/plain": [
       "<Figure size 432x288 with 0 Axes>"
      ]
     },
     "metadata": {},
     "output_type": "display_data"
    }
   ],
   "source": [
    "ranking_list = create_values_ranking_list(df[column_cut], df[column_cut].dtype)\n",
    "(values_hash, values_names) = values_ranking_hashes(ranking_list)\n",
    "\n",
    "f_map = lambda row: f_map_generic(row, column_cut, values_hash)\n",
    "params = {\n",
    "    'bootstrap_samples': 50,\n",
    "    'confidence': 0.95,\n",
    "    'risk_column_name': column_cut,\n",
    "}\n",
    "(ret, groups, ddf) = apply_stats_for_each_value(params, df, f_map, condition_names=values_names, df_mask=None)\n",
    "\n",
    "display(ret)\n",
    "display(groups)\n",
    "#display(ddf)\n",
    "\n",
    "plot_survival_function(params, ddf, condition_names=values_names)"
   ]
  },
  {
   "cell_type": "code",
   "execution_count": 75,
   "id": "ecb57bfe",
   "metadata": {},
   "outputs": [
    {
     "data": {
      "text/plain": [
       "NumCommits_cut2\n",
       "[1.0, 100.0)          87940\n",
       "[100.0, 100000.0)    102530\n",
       "[100000.0, inf)       97125\n",
       "dtype: int64"
      ]
     },
     "metadata": {},
     "output_type": "display_data"
    },
    {
     "data": {
      "text/plain": [
       "CategoricalDtype(categories=[[1.0, 100.0), [100.0, 100000.0), [100000.0, inf)], ordered=True)"
      ]
     },
     "metadata": {},
     "output_type": "display_data"
    },
    {
     "data": {
      "text/plain": [
       "<AxesSubplot: xlabel='NumCommits_cut2', ylabel='CVE+project'>"
      ]
     },
     "execution_count": 75,
     "metadata": {},
     "output_type": "execute_result"
    },
    {
     "data": {
      "image/png": "[encoded data removed]",
      "text/plain": [
       "<Figure size 432x288 with 1 Axes>"
      ]
     },
     "metadata": {
      "needs_background": "light"
     },
     "output_type": "display_data"
    }
   ],
   "source": [
    "column_name = 'NumCommits'\n",
    "column_cut = column_name + '_cut2'\n",
    "\n",
    "cut_s = pd.cut(df[column_name].dropna(),\n",
    "                  bins=[1,100,100000,np.inf],right=False,include_lowest=True)\n",
    "df[column_cut] = cut_s\n",
    "display(df.value_counts(column_cut).sort_index())\n",
    "display(cut_s.dtype)\n",
    "\n",
    "df.value_counts(column_cut).sort_index().plot.bar(ylabel='CVE+project')"
   ]
  },
  {
   "cell_type": "code",
   "execution_count": 76,
   "id": "68fe8af8",
   "metadata": {},
   "outputs": [
    {
     "name": "stderr",
     "output_type": "stream",
     "text": [
      "all = 287884, selected = 287595, uncensored = 287595\n",
      "Computing 50 × bootstrap Dxy for 287595 elements...\n",
      "Computing confidence interval from 50 samples...\n",
      "Computing descriptive statistics like mean, median, etc....\n"
     ]
    },
    {
     "data": {
      "text/plain": [
       "{'Cohort': 287884,\n",
       " 'Number of patients': 287595.0,\n",
       " '% of cohort': 99.89961234386072,\n",
       " 'Survival days, median': 370.0,\n",
       " 'Survival years, median': 1.0136986301369864,\n",
       " 'Dxy (full)': -0.10548766964743628,\n",
       " 'bootstrap': {'Dxy': -0.10536013142415541,\n",
       "  'Confidence interval low': -0.10568286920432174,\n",
       "  'Confidence interval high': -0.10503739364398909,\n",
       "  'confidence threshold %': 95.0,\n",
       "  'bootstrap samples': 50}}"
      ]
     },
     "metadata": {},
     "output_type": "display_data"
    },
    {
     "data": {
      "text/html": [
       "<div>\n",
       "<style scoped>\n",
       "    .dataframe tbody tr th:only-of-type {\n",
       "        vertical-align: middle;\n",
       "    }\n",
       "\n",
       "    .dataframe tbody tr th {\n",
       "        vertical-align: top;\n",
       "    }\n",
       "\n",
       "    .dataframe thead th {\n",
       "        text-align: right;\n",
       "    }\n",
       "</style>\n",
       "<table border=\"1\" class=\"dataframe\">\n",
       "  <thead>\n",
       "    <tr style=\"text-align: right;\">\n",
       "      <th></th>\n",
       "      <th>count</th>\n",
       "      <th>median</th>\n",
       "      <th>min</th>\n",
       "      <th>25%</th>\n",
       "      <th>75%</th>\n",
       "      <th>max</th>\n",
       "      <th>mean</th>\n",
       "      <th>std</th>\n",
       "      <th>skew</th>\n",
       "    </tr>\n",
       "    <tr>\n",
       "      <th>NumCommits_cut2</th>\n",
       "      <th></th>\n",
       "      <th></th>\n",
       "      <th></th>\n",
       "      <th></th>\n",
       "      <th></th>\n",
       "      <th></th>\n",
       "      <th></th>\n",
       "      <th></th>\n",
       "      <th></th>\n",
       "    </tr>\n",
       "  </thead>\n",
       "  <tbody>\n",
       "    <tr>\n",
       "      <th>[1.0, 100.0)</th>\n",
       "      <td>87940</td>\n",
       "      <td>829.0</td>\n",
       "      <td>0</td>\n",
       "      <td>290.75</td>\n",
       "      <td>1828.0</td>\n",
       "      <td>6800</td>\n",
       "      <td>1172.680919</td>\n",
       "      <td>1058.285428</td>\n",
       "      <td>0.891541</td>\n",
       "    </tr>\n",
       "    <tr>\n",
       "      <th>[100.0, 100000.0)</th>\n",
       "      <td>102530</td>\n",
       "      <td>99.0</td>\n",
       "      <td>0</td>\n",
       "      <td>13.00</td>\n",
       "      <td>536.0</td>\n",
       "      <td>8019</td>\n",
       "      <td>554.790403</td>\n",
       "      <td>1123.268849</td>\n",
       "      <td>3.151288</td>\n",
       "    </tr>\n",
       "    <tr>\n",
       "      <th>[100000.0, inf)</th>\n",
       "      <td>97125</td>\n",
       "      <td>387.0</td>\n",
       "      <td>0</td>\n",
       "      <td>62.00</td>\n",
       "      <td>1087.0</td>\n",
       "      <td>7538</td>\n",
       "      <td>741.105349</td>\n",
       "      <td>953.419152</td>\n",
       "      <td>2.461288</td>\n",
       "    </tr>\n",
       "  </tbody>\n",
       "</table>\n",
       "</div>"
      ],
      "text/plain": [
       "                    count  median  min     25%     75%   max         mean  \\\n",
       "NumCommits_cut2                                                             \n",
       "[1.0, 100.0)        87940   829.0    0  290.75  1828.0  6800  1172.680919   \n",
       "[100.0, 100000.0)  102530    99.0    0   13.00   536.0  8019   554.790403   \n",
       "[100000.0, inf)     97125   387.0    0   62.00  1087.0  7538   741.105349   \n",
       "\n",
       "                           std      skew  \n",
       "NumCommits_cut2                           \n",
       "[1.0, 100.0)       1058.285428  0.891541  \n",
       "[100.0, 100000.0)  1123.268849  3.151288  \n",
       "[100000.0, inf)     953.419152  2.461288  "
      ]
     },
     "metadata": {},
     "output_type": "display_data"
    },
    {
     "data": {
      "image/png": "[encoded data removed]",
      "text/plain": [
       "<Figure size 432x288 with 1 Axes>"
      ]
     },
     "metadata": {
      "needs_background": "light"
     },
     "output_type": "display_data"
    },
    {
     "data": {
      "text/plain": [
       "<Figure size 432x288 with 0 Axes>"
      ]
     },
     "metadata": {},
     "output_type": "display_data"
    }
   ],
   "source": [
    "ranking_list = create_values_ranking_list(df[column_cut], df[column_cut].dtype)\n",
    "(values_hash, values_names) = values_ranking_hashes(ranking_list)\n",
    "\n",
    "f_map = lambda row: f_map_generic(row, column_cut, values_hash)\n",
    "params = {\n",
    "    'bootstrap_samples': 50,\n",
    "    'confidence': 0.95,\n",
    "    'risk_column_name': column_cut,\n",
    "}\n",
    "(ret, groups, ddf) = apply_stats_for_each_value(params, df, f_map, condition_names=values_names, df_mask=None)\n",
    "\n",
    "display(ret)\n",
    "display(groups)\n",
    "#display(ddf)\n",
    "\n",
    "plot_survival_function(params, ddf, condition_names=values_names)"
   ]
  },
  {
   "cell_type": "markdown",
   "id": "724fe6cf",
   "metadata": {},
   "source": [
    "### NumMon and ActiveMon \\[%]"
   ]
  },
  {
   "cell_type": "code",
   "execution_count": 79,
   "id": "c2a3de81",
   "metadata": {},
   "outputs": [
    {
     "data": {
      "text/html": [
       "<div>\n",
       "<style scoped>\n",
       "    .dataframe tbody tr th:only-of-type {\n",
       "        vertical-align: middle;\n",
       "    }\n",
       "\n",
       "    .dataframe tbody tr th {\n",
       "        vertical-align: top;\n",
       "    }\n",
       "\n",
       "    .dataframe thead th {\n",
       "        text-align: right;\n",
       "    }\n",
       "</style>\n",
       "<table border=\"1\" class=\"dataframe\">\n",
       "  <thead>\n",
       "    <tr style=\"text-align: right;\">\n",
       "      <th></th>\n",
       "      <th>CommitDateRange [days]</th>\n",
       "      <th>CommitDateRange [mon]</th>\n",
       "    </tr>\n",
       "  </thead>\n",
       "  <tbody>\n",
       "    <tr>\n",
       "      <th>count</th>\n",
       "      <td>287884.000000</td>\n",
       "      <td>287884.000000</td>\n",
       "    </tr>\n",
       "    <tr>\n",
       "      <th>mean</th>\n",
       "      <td>5922.436388</td>\n",
       "      <td>194.552483</td>\n",
       "    </tr>\n",
       "    <tr>\n",
       "      <th>std</th>\n",
       "      <td>7695.629069</td>\n",
       "      <td>252.751002</td>\n",
       "    </tr>\n",
       "    <tr>\n",
       "      <th>min</th>\n",
       "      <td>0.000000</td>\n",
       "      <td>0.000000</td>\n",
       "    </tr>\n",
       "    <tr>\n",
       "      <th>25%</th>\n",
       "      <td>1120.000000</td>\n",
       "      <td>37.000000</td>\n",
       "    </tr>\n",
       "    <tr>\n",
       "      <th>50%</th>\n",
       "      <td>3304.000000</td>\n",
       "      <td>108.000000</td>\n",
       "    </tr>\n",
       "    <tr>\n",
       "      <th>75%</th>\n",
       "      <td>7863.000000</td>\n",
       "      <td>258.000000</td>\n",
       "    </tr>\n",
       "    <tr>\n",
       "      <th>max</th>\n",
       "      <td>81273.000000</td>\n",
       "      <td>2671.000000</td>\n",
       "    </tr>\n",
       "  </tbody>\n",
       "</table>\n",
       "</div>"
      ],
      "text/plain": [
       "       CommitDateRange [days]  CommitDateRange [mon]\n",
       "count           287884.000000          287884.000000\n",
       "mean              5922.436388             194.552483\n",
       "std               7695.629069             252.751002\n",
       "min                  0.000000               0.000000\n",
       "25%               1120.000000              37.000000\n",
       "50%               3304.000000             108.000000\n",
       "75%               7863.000000             258.000000\n",
       "max              81273.000000            2671.000000"
      ]
     },
     "execution_count": 79,
     "metadata": {},
     "output_type": "execute_result"
    }
   ],
   "source": [
    "df['CommitDateRange']=df['LatestCommitDate']-df['EarliestCommitDate']\n",
    "df['CommitDateRange [days]']=df['CommitDateRange'].dt.days\n",
    "df['CommitDateRange [mon]']=\\\n",
    "12 * (df['LatestCommitDate'].dt.year  - df['EarliestCommitDate'].dt.year) +\\\n",
    "     (df['LatestCommitDate'].dt.month - df['EarliestCommitDate'].dt.month)\n",
    "\n",
    "df[['CommitDateRange [days]', 'CommitDateRange [mon]']].describe()"
   ]
  },
  {
   "cell_type": "code",
   "execution_count": 80,
   "id": "9d5b4b82",
   "metadata": {},
   "outputs": [
    {
     "data": {
      "text/html": [
       "<div>\n",
       "<style scoped>\n",
       "    .dataframe tbody tr th:only-of-type {\n",
       "        vertical-align: middle;\n",
       "    }\n",
       "\n",
       "    .dataframe tbody tr th {\n",
       "        vertical-align: top;\n",
       "    }\n",
       "\n",
       "    .dataframe thead th {\n",
       "        text-align: right;\n",
       "    }\n",
       "</style>\n",
       "<table border=\"1\" class=\"dataframe\">\n",
       "  <thead>\n",
       "    <tr style=\"text-align: right;\">\n",
       "      <th></th>\n",
       "      <th>NumActiveMon [%]</th>\n",
       "    </tr>\n",
       "  </thead>\n",
       "  <tbody>\n",
       "    <tr>\n",
       "      <th>count</th>\n",
       "      <td>287884.000000</td>\n",
       "    </tr>\n",
       "    <tr>\n",
       "      <th>mean</th>\n",
       "      <td>66.845038</td>\n",
       "    </tr>\n",
       "    <tr>\n",
       "      <th>std</th>\n",
       "      <td>30.128085</td>\n",
       "    </tr>\n",
       "    <tr>\n",
       "      <th>min</th>\n",
       "      <td>1.379310</td>\n",
       "    </tr>\n",
       "    <tr>\n",
       "      <th>25%</th>\n",
       "      <td>34.210526</td>\n",
       "    </tr>\n",
       "    <tr>\n",
       "      <th>50%</th>\n",
       "      <td>72.058824</td>\n",
       "    </tr>\n",
       "    <tr>\n",
       "      <th>75%</th>\n",
       "      <td>100.000000</td>\n",
       "    </tr>\n",
       "    <tr>\n",
       "      <th>max</th>\n",
       "      <td>200.000000</td>\n",
       "    </tr>\n",
       "  </tbody>\n",
       "</table>\n",
       "</div>"
      ],
      "text/plain": [
       "       NumActiveMon [%]\n",
       "count     287884.000000\n",
       "mean          66.845038\n",
       "std           30.128085\n",
       "min            1.379310\n",
       "25%           34.210526\n",
       "50%           72.058824\n",
       "75%          100.000000\n",
       "max          200.000000"
      ]
     },
     "execution_count": 80,
     "metadata": {},
     "output_type": "execute_result"
    }
   ],
   "source": [
    "df['NumActiveMon [%]']=100.0*df['NumActiveMon']/(df['CommitDateRange [mon]']+1)\n",
    "df[['NumActiveMon [%]']].describe()"
   ]
  },
  {
   "cell_type": "code",
   "execution_count": 81,
   "id": "a1f7d576",
   "metadata": {},
   "outputs": [
    {
     "data": {
      "text/plain": [
       "<AxesSubplot: ylabel='Count'>"
      ]
     },
     "execution_count": 81,
     "metadata": {},
     "output_type": "execute_result"
    },
    {
     "data": {
      "image/png": "[encoded data removed]",
      "text/plain": [
       "<Figure size 432x288 with 1 Axes>"
      ]
     },
     "metadata": {
      "needs_background": "light"
     },
     "output_type": "display_data"
    }
   ],
   "source": [
    "sns.histplot(data=df[['NumActiveMon']].dropna(), log_scale=True)"
   ]
  },
  {
   "cell_type": "markdown",
   "id": "4d70b474",
   "metadata": {},
   "source": [
    "### Popularity: NumStars"
   ]
  },
  {
   "cell_type": "code",
   "execution_count": 82,
   "id": "f68a38c0",
   "metadata": {
    "scrolled": false
   },
   "outputs": [
    {
     "data": {
      "text/plain": [
       "<seaborn.axisgrid.FacetGrid at 0x7f7492e58970>"
      ]
     },
     "execution_count": 82,
     "metadata": {},
     "output_type": "execute_result"
    },
    {
     "data": {
      "image/png": "[encoded data removed]",
      "text/plain": [
       "<Figure size 360x360 with 1 Axes>"
      ]
     },
     "metadata": {
      "needs_background": "light"
     },
     "output_type": "display_data"
    }
   ],
   "source": [
    "sns.relplot(df[['NumForks','NumStars']].dropna(),x='NumForks',y='NumStars')\n",
    "plt.show()"
   ]
  },
  {
   "cell_type": "code",
   "execution_count": 86,
   "id": "b60f58ec",
   "metadata": {},
   "outputs": [
    {
     "data": {
      "text/plain": [
       "<AxesSubplot: ylabel='Count'>"
      ]
     },
     "execution_count": 86,
     "metadata": {},
     "output_type": "execute_result"
    },
    {
     "data": {
      "image/png": "[encoded data removed]",
      "text/plain": [
       "<Figure size 432x288 with 1 Axes>"
      ]
     },
     "metadata": {
      "needs_background": "light"
     },
     "output_type": "display_data"
    },
    {
     "data": {
      "text/plain": [
       "<AxesSubplot: ylabel='Count'>"
      ]
     },
     "execution_count": 86,
     "metadata": {},
     "output_type": "execute_result"
    },
    {
     "data": {
      "image/png": "[encoded data removed]",
      "text/plain": [
       "<Figure size 432x288 with 1 Axes>"
      ]
     },
     "metadata": {
      "needs_background": "light"
     },
     "output_type": "display_data"
    }
   ],
   "source": [
    "sns.histplot(data=df[['NumStars']].dropna())\n",
    "plt.show()\n",
    "sns.histplot(data=df[['NumStars']].dropna(), log_scale=True)\n",
    "plt.show()"
   ]
  },
  {
   "cell_type": "code",
   "execution_count": 88,
   "id": "54d8daf0",
   "metadata": {},
   "outputs": [
    {
     "data": {
      "text/plain": [
       "NumStars_cut\n",
       "[1.0, 2.0)             12804\n",
       "[2.0, 5.0)             82631\n",
       "[5.0, 10.0)             5991\n",
       "[10.0, 100.0)          19064\n",
       "[100.0, 1000.0)        20020\n",
       "[1000.0, 10000.0)      30327\n",
       "[10000.0, 100000.0)    42526\n",
       "[100000.0, inf)        14806\n",
       "dtype: int64"
      ]
     },
     "metadata": {},
     "output_type": "display_data"
    },
    {
     "data": {
      "text/plain": [
       "CategoricalDtype(categories=[[1.0, 2.0), [2.0, 5.0), [5.0, 10.0), [10.0, 100.0), [100.0, 1000.0), [1000.0, 10000.0), [10000.0, 100000.0), [100000.0, inf)], ordered=True)"
      ]
     },
     "metadata": {},
     "output_type": "display_data"
    },
    {
     "data": {
      "text/plain": [
       "<AxesSubplot: xlabel='NumStars_cut', ylabel='CVE+project'>"
      ]
     },
     "execution_count": 88,
     "metadata": {},
     "output_type": "execute_result"
    },
    {
     "data": {
      "image/png": "[encoded data removed]",
      "text/plain": [
       "<Figure size 432x288 with 1 Axes>"
      ]
     },
     "metadata": {
      "needs_background": "light"
     },
     "output_type": "display_data"
    }
   ],
   "source": [
    "column_name = 'NumStars'\n",
    "column_cut = column_name + '_cut'\n",
    "\n",
    "cut_s = pd.cut(df[column_name].dropna(),\n",
    "                  bins=[1,2,5,10,100,1000,10000,100000,np.inf],right=False,include_lowest=True)\n",
    "df[column_cut] = cut_s\n",
    "display(df.value_counts(column_cut).sort_index())\n",
    "display(cut_s.dtype)\n",
    "\n",
    "df.value_counts(column_cut).sort_index().plot.bar(ylabel='CVE+project')"
   ]
  },
  {
   "cell_type": "code",
   "execution_count": 95,
   "id": "eb0296f6",
   "metadata": {
    "scrolled": false
   },
   "outputs": [
    {
     "data": {
      "text/plain": [
       "NumStars_cut\n",
       "[1.0, 3.0)          76052\n",
       "[3.0, 100.0)        44438\n",
       "[100.0, 10000.0)    50347\n",
       "[10000.0, inf)      57332\n",
       "dtype: int64"
      ]
     },
     "metadata": {},
     "output_type": "display_data"
    },
    {
     "data": {
      "text/plain": [
       "CategoricalDtype(categories=[[1.0, 3.0), [3.0, 100.0), [100.0, 10000.0), [10000.0, inf)], ordered=True)"
      ]
     },
     "metadata": {},
     "output_type": "display_data"
    },
    {
     "data": {
      "text/plain": [
       "<AxesSubplot: xlabel='NumStars_cut', ylabel='CVE+project'>"
      ]
     },
     "execution_count": 95,
     "metadata": {},
     "output_type": "execute_result"
    },
    {
     "data": {
      "image/png": "[encoded data removed]",
      "text/plain": [
       "<Figure size 432x288 with 1 Axes>"
      ]
     },
     "metadata": {
      "needs_background": "light"
     },
     "output_type": "display_data"
    }
   ],
   "source": [
    "column_name = 'NumStars'\n",
    "column_cut = column_name + '_cut'\n",
    "\n",
    "cut_s = pd.cut(df[column_name].dropna(),\n",
    "                  bins=[1,3,100,10000,np.inf],right=False,include_lowest=True)\n",
    "df[column_cut] = cut_s\n",
    "display(df.value_counts(column_cut).sort_index())\n",
    "display(cut_s.dtype)\n",
    "\n",
    "df.value_counts(column_cut).sort_index().plot.bar(ylabel='CVE+project')"
   ]
  },
  {
   "cell_type": "code",
   "execution_count": 96,
   "id": "5630677a",
   "metadata": {},
   "outputs": [
    {
     "name": "stderr",
     "output_type": "stream",
     "text": [
      "all = 287884, selected = 228169, uncensored = 228169\n",
      "Computing 50 × bootstrap Dxy for 228169 elements...\n",
      "Computing confidence interval from 50 samples...\n"
     ]
    },
    {
     "name": "stdout",
     "output_type": "stream",
     "text": [
      "{\n",
      "    \"Cohort\": 287884,\n",
      "    \"Number of patients\": 228169.0,\n",
      "    \"% of cohort\": 79.25727028942212,\n",
      "    \"Survival days, median\": 444.0,\n",
      "    \"Survival years, median\": 1.2164383561643837,\n",
      "    \"Dxy (full)\": -0.07326072436237652,\n",
      "    \"bootstrap\": {\n",
      "        \"Dxy\": -0.07301481600246064,\n",
      "        \"Confidence interval low\": -0.07352851493473742,\n",
      "        \"Confidence interval high\": -0.07250111707018386,\n",
      "        \"confidence threshold %\": 95.0,\n",
      "        \"bootstrap samples\": 50\n",
      "    }\n",
      "}\n"
     ]
    },
    {
     "name": "stderr",
     "output_type": "stream",
     "text": [
      "Computing descriptive statistics like mean, median, etc....\n"
     ]
    },
    {
     "data": {
      "text/html": [
       "<div>\n",
       "<style scoped>\n",
       "    .dataframe tbody tr th:only-of-type {\n",
       "        vertical-align: middle;\n",
       "    }\n",
       "\n",
       "    .dataframe tbody tr th {\n",
       "        vertical-align: top;\n",
       "    }\n",
       "\n",
       "    .dataframe thead th {\n",
       "        text-align: right;\n",
       "    }\n",
       "</style>\n",
       "<table border=\"1\" class=\"dataframe\">\n",
       "  <thead>\n",
       "    <tr style=\"text-align: right;\">\n",
       "      <th></th>\n",
       "      <th>count</th>\n",
       "      <th>median</th>\n",
       "      <th>min</th>\n",
       "      <th>25%</th>\n",
       "      <th>75%</th>\n",
       "      <th>max</th>\n",
       "      <th>mean</th>\n",
       "      <th>std</th>\n",
       "      <th>skew</th>\n",
       "    </tr>\n",
       "    <tr>\n",
       "      <th>NumStars_cut</th>\n",
       "      <th></th>\n",
       "      <th></th>\n",
       "      <th></th>\n",
       "      <th></th>\n",
       "      <th></th>\n",
       "      <th></th>\n",
       "      <th></th>\n",
       "      <th></th>\n",
       "      <th></th>\n",
       "    </tr>\n",
       "  </thead>\n",
       "  <tbody>\n",
       "    <tr>\n",
       "      <th>[1.0, 3.0)</th>\n",
       "      <td>76052</td>\n",
       "      <td>917.0</td>\n",
       "      <td>0</td>\n",
       "      <td>282.0</td>\n",
       "      <td>1964.0</td>\n",
       "      <td>7225</td>\n",
       "      <td>1237.205228</td>\n",
       "      <td>1115.185225</td>\n",
       "      <td>0.973097</td>\n",
       "    </tr>\n",
       "    <tr>\n",
       "      <th>[3.0, 100.0)</th>\n",
       "      <td>44438</td>\n",
       "      <td>168.0</td>\n",
       "      <td>0</td>\n",
       "      <td>24.0</td>\n",
       "      <td>708.0</td>\n",
       "      <td>8019</td>\n",
       "      <td>607.167019</td>\n",
       "      <td>1090.122360</td>\n",
       "      <td>3.098170</td>\n",
       "    </tr>\n",
       "    <tr>\n",
       "      <th>[100.0, 10000.0)</th>\n",
       "      <td>50347</td>\n",
       "      <td>95.0</td>\n",
       "      <td>0</td>\n",
       "      <td>19.0</td>\n",
       "      <td>308.0</td>\n",
       "      <td>7205</td>\n",
       "      <td>307.923312</td>\n",
       "      <td>641.732426</td>\n",
       "      <td>4.701524</td>\n",
       "    </tr>\n",
       "    <tr>\n",
       "      <th>[10000.0, inf)</th>\n",
       "      <td>57332</td>\n",
       "      <td>827.0</td>\n",
       "      <td>0</td>\n",
       "      <td>275.0</td>\n",
       "      <td>1429.0</td>\n",
       "      <td>7538</td>\n",
       "      <td>1023.953290</td>\n",
       "      <td>1027.969561</td>\n",
       "      <td>2.138130</td>\n",
       "    </tr>\n",
       "  </tbody>\n",
       "</table>\n",
       "</div>"
      ],
      "text/plain": [
       "                  count  median  min    25%     75%   max         mean  \\\n",
       "NumStars_cut                                                             \n",
       "[1.0, 3.0)        76052   917.0    0  282.0  1964.0  7225  1237.205228   \n",
       "[3.0, 100.0)      44438   168.0    0   24.0   708.0  8019   607.167019   \n",
       "[100.0, 10000.0)  50347    95.0    0   19.0   308.0  7205   307.923312   \n",
       "[10000.0, inf)    57332   827.0    0  275.0  1429.0  7538  1023.953290   \n",
       "\n",
       "                          std      skew  \n",
       "NumStars_cut                             \n",
       "[1.0, 3.0)        1115.185225  0.973097  \n",
       "[3.0, 100.0)      1090.122360  3.098170  \n",
       "[100.0, 10000.0)   641.732426  4.701524  \n",
       "[10000.0, inf)    1027.969561  2.138130  "
      ]
     },
     "metadata": {},
     "output_type": "display_data"
    },
    {
     "data": {
      "image/png": "[encoded data removed]",
      "text/plain": [
       "<Figure size 432x288 with 1 Axes>"
      ]
     },
     "metadata": {
      "needs_background": "light"
     },
     "output_type": "display_data"
    },
    {
     "data": {
      "text/plain": [
       "<Figure size 432x288 with 0 Axes>"
      ]
     },
     "metadata": {},
     "output_type": "display_data"
    }
   ],
   "source": [
    "ranking_list = create_values_ranking_list(df[column_cut], df[column_cut].dtype)\n",
    "(values_hash, values_names) = values_ranking_hashes(ranking_list)\n",
    "\n",
    "f_map = lambda row: f_map_generic(row, column_cut, values_hash)\n",
    "params = {\n",
    "    'bootstrap_samples': 50,\n",
    "    'confidence': 0.95,\n",
    "    'risk_column_name': column_cut,\n",
    "}\n",
    "(ret, groups, ddf) = apply_stats_for_each_value(params, df, f_map, condition_names=values_names, df_mask=None)\n",
    "\n",
    "print(json.dumps(ret, indent=4))\n",
    "display(groups)\n",
    "#display(ddf)\n",
    "\n",
    "plot_survival_function(params, ddf, condition_names=values_names)"
   ]
  }
 ],
 "metadata": {
  "kernelspec": {
   "display_name": "Python 3 (ipykernel)",
   "language": "python",
   "name": "python3"
  },
  "language_info": {
   "codemirror_mode": {
    "name": "ipython",
    "version": 3
   },
   "file_extension": ".py",
   "mimetype": "text/x-python",
   "name": "python",
   "nbconvert_exporter": "python",
   "pygments_lexer": "ipython3",
   "version": "3.10.5"
  }
 },
 "nbformat": 4,
 "nbformat_minor": 5
}
